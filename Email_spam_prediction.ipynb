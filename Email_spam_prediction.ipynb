{
  "nbformat": 4,
  "nbformat_minor": 0,
  "metadata": {
    "colab": {
      "provenance": []
    },
    "kernelspec": {
      "name": "python3",
      "display_name": "Python 3"
    },
    "language_info": {
      "name": "python"
    }
  },
  "cells": [
    {
      "cell_type": "code",
      "execution_count": 1,
      "metadata": {
        "colab": {
          "base_uri": "https://localhost:8080/"
        },
        "id": "2C-NWWhvrT4P",
        "outputId": "9185864e-f744-4cd6-8006-3f2e20de914d"
      },
      "outputs": [
        {
          "output_type": "stream",
          "name": "stdout",
          "text": [
            "Mounted at /content/drive\n"
          ]
        }
      ],
      "source": [
        "from google.colab import drive\n",
        "drive.mount('/content/drive')"
      ]
    },
    {
      "cell_type": "markdown",
      "source": [
        "[Database Download:-](https://drive.google.com/file/d/1qRhiRExZFIMDVINDPTpgcOXJlaVfBnGA/view?usp=drive_link)"
      ],
      "metadata": {
        "id": "twF0n5IGLRZp"
      }
    },
    {
      "cell_type": "markdown",
      "source": [
        "# Load Dataset Using Pandas"
      ],
      "metadata": {
        "id": "zxRFSZJpLzkk"
      }
    },
    {
      "cell_type": "code",
      "source": [
        "import pandas as pd\n",
        "import numpy as np\n",
        "import seaborn as sns\n",
        "import matplotlib.pyplot as plt\n",
        "\n",
        "# Change this path to your actual file location\n",
        "file_path = '/content/drive/My Drive/spam.csv'\n",
        "\n",
        "df = pd.read_csv(file_path, encoding='latin-1')[['v1', 'v2']]\n",
        "df.columns = ['label', 'text']\n",
        "df['label'] = df['label'].map({'ham': 0, 'spam': 1})\n",
        "\n",
        "df.head()\n"
      ],
      "metadata": {
        "colab": {
          "base_uri": "https://localhost:8080/",
          "height": 206
        },
        "id": "sZUXGGg5L1qM",
        "outputId": "9b68d410-eed3-4aa8-9295-ca413c9d1ae9"
      },
      "execution_count": 2,
      "outputs": [
        {
          "output_type": "execute_result",
          "data": {
            "text/plain": [
              "   label                                               text\n",
              "0      0  Go until jurong point, crazy.. Available only ...\n",
              "1      0                      Ok lar... Joking wif u oni...\n",
              "2      1  Free entry in 2 a wkly comp to win FA Cup fina...\n",
              "3      0  U dun say so early hor... U c already then say...\n",
              "4      0  Nah I don't think he goes to usf, he lives aro..."
            ],
            "text/html": [
              "\n",
              "  <div id=\"df-979b436c-258b-4f33-a3b7-cb81baf910d9\" class=\"colab-df-container\">\n",
              "    <div>\n",
              "<style scoped>\n",
              "    .dataframe tbody tr th:only-of-type {\n",
              "        vertical-align: middle;\n",
              "    }\n",
              "\n",
              "    .dataframe tbody tr th {\n",
              "        vertical-align: top;\n",
              "    }\n",
              "\n",
              "    .dataframe thead th {\n",
              "        text-align: right;\n",
              "    }\n",
              "</style>\n",
              "<table border=\"1\" class=\"dataframe\">\n",
              "  <thead>\n",
              "    <tr style=\"text-align: right;\">\n",
              "      <th></th>\n",
              "      <th>label</th>\n",
              "      <th>text</th>\n",
              "    </tr>\n",
              "  </thead>\n",
              "  <tbody>\n",
              "    <tr>\n",
              "      <th>0</th>\n",
              "      <td>0</td>\n",
              "      <td>Go until jurong point, crazy.. Available only ...</td>\n",
              "    </tr>\n",
              "    <tr>\n",
              "      <th>1</th>\n",
              "      <td>0</td>\n",
              "      <td>Ok lar... Joking wif u oni...</td>\n",
              "    </tr>\n",
              "    <tr>\n",
              "      <th>2</th>\n",
              "      <td>1</td>\n",
              "      <td>Free entry in 2 a wkly comp to win FA Cup fina...</td>\n",
              "    </tr>\n",
              "    <tr>\n",
              "      <th>3</th>\n",
              "      <td>0</td>\n",
              "      <td>U dun say so early hor... U c already then say...</td>\n",
              "    </tr>\n",
              "    <tr>\n",
              "      <th>4</th>\n",
              "      <td>0</td>\n",
              "      <td>Nah I don't think he goes to usf, he lives aro...</td>\n",
              "    </tr>\n",
              "  </tbody>\n",
              "</table>\n",
              "</div>\n",
              "    <div class=\"colab-df-buttons\">\n",
              "\n",
              "  <div class=\"colab-df-container\">\n",
              "    <button class=\"colab-df-convert\" onclick=\"convertToInteractive('df-979b436c-258b-4f33-a3b7-cb81baf910d9')\"\n",
              "            title=\"Convert this dataframe to an interactive table.\"\n",
              "            style=\"display:none;\">\n",
              "\n",
              "  <svg xmlns=\"http://www.w3.org/2000/svg\" height=\"24px\" viewBox=\"0 -960 960 960\">\n",
              "    <path d=\"M120-120v-720h720v720H120Zm60-500h600v-160H180v160Zm220 220h160v-160H400v160Zm0 220h160v-160H400v160ZM180-400h160v-160H180v160Zm440 0h160v-160H620v160ZM180-180h160v-160H180v160Zm440 0h160v-160H620v160Z\"/>\n",
              "  </svg>\n",
              "    </button>\n",
              "\n",
              "  <style>\n",
              "    .colab-df-container {\n",
              "      display:flex;\n",
              "      gap: 12px;\n",
              "    }\n",
              "\n",
              "    .colab-df-convert {\n",
              "      background-color: #E8F0FE;\n",
              "      border: none;\n",
              "      border-radius: 50%;\n",
              "      cursor: pointer;\n",
              "      display: none;\n",
              "      fill: #1967D2;\n",
              "      height: 32px;\n",
              "      padding: 0 0 0 0;\n",
              "      width: 32px;\n",
              "    }\n",
              "\n",
              "    .colab-df-convert:hover {\n",
              "      background-color: #E2EBFA;\n",
              "      box-shadow: 0px 1px 2px rgba(60, 64, 67, 0.3), 0px 1px 3px 1px rgba(60, 64, 67, 0.15);\n",
              "      fill: #174EA6;\n",
              "    }\n",
              "\n",
              "    .colab-df-buttons div {\n",
              "      margin-bottom: 4px;\n",
              "    }\n",
              "\n",
              "    [theme=dark] .colab-df-convert {\n",
              "      background-color: #3B4455;\n",
              "      fill: #D2E3FC;\n",
              "    }\n",
              "\n",
              "    [theme=dark] .colab-df-convert:hover {\n",
              "      background-color: #434B5C;\n",
              "      box-shadow: 0px 1px 3px 1px rgba(0, 0, 0, 0.15);\n",
              "      filter: drop-shadow(0px 1px 2px rgba(0, 0, 0, 0.3));\n",
              "      fill: #FFFFFF;\n",
              "    }\n",
              "  </style>\n",
              "\n",
              "    <script>\n",
              "      const buttonEl =\n",
              "        document.querySelector('#df-979b436c-258b-4f33-a3b7-cb81baf910d9 button.colab-df-convert');\n",
              "      buttonEl.style.display =\n",
              "        google.colab.kernel.accessAllowed ? 'block' : 'none';\n",
              "\n",
              "      async function convertToInteractive(key) {\n",
              "        const element = document.querySelector('#df-979b436c-258b-4f33-a3b7-cb81baf910d9');\n",
              "        const dataTable =\n",
              "          await google.colab.kernel.invokeFunction('convertToInteractive',\n",
              "                                                    [key], {});\n",
              "        if (!dataTable) return;\n",
              "\n",
              "        const docLinkHtml = 'Like what you see? Visit the ' +\n",
              "          '<a target=\"_blank\" href=https://colab.research.google.com/notebooks/data_table.ipynb>data table notebook</a>'\n",
              "          + ' to learn more about interactive tables.';\n",
              "        element.innerHTML = '';\n",
              "        dataTable['output_type'] = 'display_data';\n",
              "        await google.colab.output.renderOutput(dataTable, element);\n",
              "        const docLink = document.createElement('div');\n",
              "        docLink.innerHTML = docLinkHtml;\n",
              "        element.appendChild(docLink);\n",
              "      }\n",
              "    </script>\n",
              "  </div>\n",
              "\n",
              "\n",
              "    <div id=\"df-7a60114c-2343-412a-a8f9-a08040e55c02\">\n",
              "      <button class=\"colab-df-quickchart\" onclick=\"quickchart('df-7a60114c-2343-412a-a8f9-a08040e55c02')\"\n",
              "                title=\"Suggest charts\"\n",
              "                style=\"display:none;\">\n",
              "\n",
              "<svg xmlns=\"http://www.w3.org/2000/svg\" height=\"24px\"viewBox=\"0 0 24 24\"\n",
              "     width=\"24px\">\n",
              "    <g>\n",
              "        <path d=\"M19 3H5c-1.1 0-2 .9-2 2v14c0 1.1.9 2 2 2h14c1.1 0 2-.9 2-2V5c0-1.1-.9-2-2-2zM9 17H7v-7h2v7zm4 0h-2V7h2v10zm4 0h-2v-4h2v4z\"/>\n",
              "    </g>\n",
              "</svg>\n",
              "      </button>\n",
              "\n",
              "<style>\n",
              "  .colab-df-quickchart {\n",
              "      --bg-color: #E8F0FE;\n",
              "      --fill-color: #1967D2;\n",
              "      --hover-bg-color: #E2EBFA;\n",
              "      --hover-fill-color: #174EA6;\n",
              "      --disabled-fill-color: #AAA;\n",
              "      --disabled-bg-color: #DDD;\n",
              "  }\n",
              "\n",
              "  [theme=dark] .colab-df-quickchart {\n",
              "      --bg-color: #3B4455;\n",
              "      --fill-color: #D2E3FC;\n",
              "      --hover-bg-color: #434B5C;\n",
              "      --hover-fill-color: #FFFFFF;\n",
              "      --disabled-bg-color: #3B4455;\n",
              "      --disabled-fill-color: #666;\n",
              "  }\n",
              "\n",
              "  .colab-df-quickchart {\n",
              "    background-color: var(--bg-color);\n",
              "    border: none;\n",
              "    border-radius: 50%;\n",
              "    cursor: pointer;\n",
              "    display: none;\n",
              "    fill: var(--fill-color);\n",
              "    height: 32px;\n",
              "    padding: 0;\n",
              "    width: 32px;\n",
              "  }\n",
              "\n",
              "  .colab-df-quickchart:hover {\n",
              "    background-color: var(--hover-bg-color);\n",
              "    box-shadow: 0 1px 2px rgba(60, 64, 67, 0.3), 0 1px 3px 1px rgba(60, 64, 67, 0.15);\n",
              "    fill: var(--button-hover-fill-color);\n",
              "  }\n",
              "\n",
              "  .colab-df-quickchart-complete:disabled,\n",
              "  .colab-df-quickchart-complete:disabled:hover {\n",
              "    background-color: var(--disabled-bg-color);\n",
              "    fill: var(--disabled-fill-color);\n",
              "    box-shadow: none;\n",
              "  }\n",
              "\n",
              "  .colab-df-spinner {\n",
              "    border: 2px solid var(--fill-color);\n",
              "    border-color: transparent;\n",
              "    border-bottom-color: var(--fill-color);\n",
              "    animation:\n",
              "      spin 1s steps(1) infinite;\n",
              "  }\n",
              "\n",
              "  @keyframes spin {\n",
              "    0% {\n",
              "      border-color: transparent;\n",
              "      border-bottom-color: var(--fill-color);\n",
              "      border-left-color: var(--fill-color);\n",
              "    }\n",
              "    20% {\n",
              "      border-color: transparent;\n",
              "      border-left-color: var(--fill-color);\n",
              "      border-top-color: var(--fill-color);\n",
              "    }\n",
              "    30% {\n",
              "      border-color: transparent;\n",
              "      border-left-color: var(--fill-color);\n",
              "      border-top-color: var(--fill-color);\n",
              "      border-right-color: var(--fill-color);\n",
              "    }\n",
              "    40% {\n",
              "      border-color: transparent;\n",
              "      border-right-color: var(--fill-color);\n",
              "      border-top-color: var(--fill-color);\n",
              "    }\n",
              "    60% {\n",
              "      border-color: transparent;\n",
              "      border-right-color: var(--fill-color);\n",
              "    }\n",
              "    80% {\n",
              "      border-color: transparent;\n",
              "      border-right-color: var(--fill-color);\n",
              "      border-bottom-color: var(--fill-color);\n",
              "    }\n",
              "    90% {\n",
              "      border-color: transparent;\n",
              "      border-bottom-color: var(--fill-color);\n",
              "    }\n",
              "  }\n",
              "</style>\n",
              "\n",
              "      <script>\n",
              "        async function quickchart(key) {\n",
              "          const quickchartButtonEl =\n",
              "            document.querySelector('#' + key + ' button');\n",
              "          quickchartButtonEl.disabled = true;  // To prevent multiple clicks.\n",
              "          quickchartButtonEl.classList.add('colab-df-spinner');\n",
              "          try {\n",
              "            const charts = await google.colab.kernel.invokeFunction(\n",
              "                'suggestCharts', [key], {});\n",
              "          } catch (error) {\n",
              "            console.error('Error during call to suggestCharts:', error);\n",
              "          }\n",
              "          quickchartButtonEl.classList.remove('colab-df-spinner');\n",
              "          quickchartButtonEl.classList.add('colab-df-quickchart-complete');\n",
              "        }\n",
              "        (() => {\n",
              "          let quickchartButtonEl =\n",
              "            document.querySelector('#df-7a60114c-2343-412a-a8f9-a08040e55c02 button');\n",
              "          quickchartButtonEl.style.display =\n",
              "            google.colab.kernel.accessAllowed ? 'block' : 'none';\n",
              "        })();\n",
              "      </script>\n",
              "    </div>\n",
              "\n",
              "    </div>\n",
              "  </div>\n"
            ],
            "application/vnd.google.colaboratory.intrinsic+json": {
              "type": "dataframe",
              "variable_name": "df",
              "summary": "{\n  \"name\": \"df\",\n  \"rows\": 5572,\n  \"fields\": [\n    {\n      \"column\": \"label\",\n      \"properties\": {\n        \"dtype\": \"number\",\n        \"std\": 0,\n        \"min\": 0,\n        \"max\": 1,\n        \"num_unique_values\": 2,\n        \"samples\": [\n          1,\n          0\n        ],\n        \"semantic_type\": \"\",\n        \"description\": \"\"\n      }\n    },\n    {\n      \"column\": \"text\",\n      \"properties\": {\n        \"dtype\": \"string\",\n        \"num_unique_values\": 5169,\n        \"samples\": [\n          \"Did u download the fring app?\",\n          \"Pass dis to all ur contacts n see wat u get! Red;i'm in luv wid u. Blue;u put a smile on my face. Purple;u r realy hot. Pink;u r so swt. Orange;i thnk i lyk u. Green;i realy wana go out wid u. Yelow;i wnt u bck. Black;i'm jealous of u. Brown;i miss you Nw plz giv me one color\"\n        ],\n        \"semantic_type\": \"\",\n        \"description\": \"\"\n      }\n    }\n  ]\n}"
            }
          },
          "metadata": {},
          "execution_count": 2
        }
      ]
    },
    {
      "cell_type": "code",
      "source": [
        "df.loc[0,'text']  # Label Based indexing"
      ],
      "metadata": {
        "colab": {
          "base_uri": "https://localhost:8080/",
          "height": 52
        },
        "id": "aCgg6e9lOJ4t",
        "outputId": "494e8e2d-5655-41c1-e346-0f06e884f899"
      },
      "execution_count": 3,
      "outputs": [
        {
          "output_type": "execute_result",
          "data": {
            "text/plain": [
              "'Go until jurong point, crazy.. Available only in bugis n great world la e buffet... Cine there got amore wat...'"
            ],
            "application/vnd.google.colaboratory.intrinsic+json": {
              "type": "string"
            }
          },
          "metadata": {},
          "execution_count": 3
        }
      ]
    },
    {
      "cell_type": "code",
      "source": [
        "df.iloc[0,0] # Integer Based indexing"
      ],
      "metadata": {
        "colab": {
          "base_uri": "https://localhost:8080/"
        },
        "id": "CB2qK2fkObRa",
        "outputId": "9a214dd7-6e73-45a6-8c3f-9084c52dd544"
      },
      "execution_count": 4,
      "outputs": [
        {
          "output_type": "execute_result",
          "data": {
            "text/plain": [
              "np.int64(0)"
            ]
          },
          "metadata": {},
          "execution_count": 4
        }
      ]
    },
    {
      "cell_type": "code",
      "source": [
        "df['text'][0]"
      ],
      "metadata": {
        "colab": {
          "base_uri": "https://localhost:8080/",
          "height": 52
        },
        "id": "ncFMyFeGOrt0",
        "outputId": "9260485c-637a-4243-b297-52eb63ce4a3d"
      },
      "execution_count": null,
      "outputs": [
        {
          "output_type": "execute_result",
          "data": {
            "text/plain": [
              "'Go until jurong point, crazy.. Available only in bugis n great world la e buffet... Cine there got amore wat...'"
            ],
            "application/vnd.google.colaboratory.intrinsic+json": {
              "type": "string"
            }
          },
          "metadata": {},
          "execution_count": 77
        }
      ]
    },
    {
      "cell_type": "code",
      "source": [
        "df[df['text'].isin(['nan',None])]"
      ],
      "metadata": {
        "colab": {
          "base_uri": "https://localhost:8080/",
          "height": 53
        },
        "id": "HqZ1HOZIOmo2",
        "outputId": "130f4f56-a4a6-4faf-83cf-04cfe9f24f20"
      },
      "execution_count": 5,
      "outputs": [
        {
          "output_type": "execute_result",
          "data": {
            "text/plain": [
              "Empty DataFrame\n",
              "Columns: [label, text]\n",
              "Index: []"
            ],
            "text/html": [
              "\n",
              "  <div id=\"df-5ca52d3a-51bf-4c7d-a3ae-74faa5e963a9\" class=\"colab-df-container\">\n",
              "    <div>\n",
              "<style scoped>\n",
              "    .dataframe tbody tr th:only-of-type {\n",
              "        vertical-align: middle;\n",
              "    }\n",
              "\n",
              "    .dataframe tbody tr th {\n",
              "        vertical-align: top;\n",
              "    }\n",
              "\n",
              "    .dataframe thead th {\n",
              "        text-align: right;\n",
              "    }\n",
              "</style>\n",
              "<table border=\"1\" class=\"dataframe\">\n",
              "  <thead>\n",
              "    <tr style=\"text-align: right;\">\n",
              "      <th></th>\n",
              "      <th>label</th>\n",
              "      <th>text</th>\n",
              "    </tr>\n",
              "  </thead>\n",
              "  <tbody>\n",
              "  </tbody>\n",
              "</table>\n",
              "</div>\n",
              "    <div class=\"colab-df-buttons\">\n",
              "\n",
              "  <div class=\"colab-df-container\">\n",
              "    <button class=\"colab-df-convert\" onclick=\"convertToInteractive('df-5ca52d3a-51bf-4c7d-a3ae-74faa5e963a9')\"\n",
              "            title=\"Convert this dataframe to an interactive table.\"\n",
              "            style=\"display:none;\">\n",
              "\n",
              "  <svg xmlns=\"http://www.w3.org/2000/svg\" height=\"24px\" viewBox=\"0 -960 960 960\">\n",
              "    <path d=\"M120-120v-720h720v720H120Zm60-500h600v-160H180v160Zm220 220h160v-160H400v160Zm0 220h160v-160H400v160ZM180-400h160v-160H180v160Zm440 0h160v-160H620v160ZM180-180h160v-160H180v160Zm440 0h160v-160H620v160Z\"/>\n",
              "  </svg>\n",
              "    </button>\n",
              "\n",
              "  <style>\n",
              "    .colab-df-container {\n",
              "      display:flex;\n",
              "      gap: 12px;\n",
              "    }\n",
              "\n",
              "    .colab-df-convert {\n",
              "      background-color: #E8F0FE;\n",
              "      border: none;\n",
              "      border-radius: 50%;\n",
              "      cursor: pointer;\n",
              "      display: none;\n",
              "      fill: #1967D2;\n",
              "      height: 32px;\n",
              "      padding: 0 0 0 0;\n",
              "      width: 32px;\n",
              "    }\n",
              "\n",
              "    .colab-df-convert:hover {\n",
              "      background-color: #E2EBFA;\n",
              "      box-shadow: 0px 1px 2px rgba(60, 64, 67, 0.3), 0px 1px 3px 1px rgba(60, 64, 67, 0.15);\n",
              "      fill: #174EA6;\n",
              "    }\n",
              "\n",
              "    .colab-df-buttons div {\n",
              "      margin-bottom: 4px;\n",
              "    }\n",
              "\n",
              "    [theme=dark] .colab-df-convert {\n",
              "      background-color: #3B4455;\n",
              "      fill: #D2E3FC;\n",
              "    }\n",
              "\n",
              "    [theme=dark] .colab-df-convert:hover {\n",
              "      background-color: #434B5C;\n",
              "      box-shadow: 0px 1px 3px 1px rgba(0, 0, 0, 0.15);\n",
              "      filter: drop-shadow(0px 1px 2px rgba(0, 0, 0, 0.3));\n",
              "      fill: #FFFFFF;\n",
              "    }\n",
              "  </style>\n",
              "\n",
              "    <script>\n",
              "      const buttonEl =\n",
              "        document.querySelector('#df-5ca52d3a-51bf-4c7d-a3ae-74faa5e963a9 button.colab-df-convert');\n",
              "      buttonEl.style.display =\n",
              "        google.colab.kernel.accessAllowed ? 'block' : 'none';\n",
              "\n",
              "      async function convertToInteractive(key) {\n",
              "        const element = document.querySelector('#df-5ca52d3a-51bf-4c7d-a3ae-74faa5e963a9');\n",
              "        const dataTable =\n",
              "          await google.colab.kernel.invokeFunction('convertToInteractive',\n",
              "                                                    [key], {});\n",
              "        if (!dataTable) return;\n",
              "\n",
              "        const docLinkHtml = 'Like what you see? Visit the ' +\n",
              "          '<a target=\"_blank\" href=https://colab.research.google.com/notebooks/data_table.ipynb>data table notebook</a>'\n",
              "          + ' to learn more about interactive tables.';\n",
              "        element.innerHTML = '';\n",
              "        dataTable['output_type'] = 'display_data';\n",
              "        await google.colab.output.renderOutput(dataTable, element);\n",
              "        const docLink = document.createElement('div');\n",
              "        docLink.innerHTML = docLinkHtml;\n",
              "        element.appendChild(docLink);\n",
              "      }\n",
              "    </script>\n",
              "  </div>\n",
              "\n",
              "\n",
              "    </div>\n",
              "  </div>\n"
            ],
            "application/vnd.google.colaboratory.intrinsic+json": {
              "type": "dataframe",
              "repr_error": "Out of range float values are not JSON compliant: nan"
            }
          },
          "metadata": {},
          "execution_count": 5
        }
      ]
    },
    {
      "cell_type": "code",
      "source": [
        "df['label'].value_counts()"
      ],
      "metadata": {
        "colab": {
          "base_uri": "https://localhost:8080/",
          "height": 178
        },
        "id": "ECRdeTi1MzBJ",
        "outputId": "e2002afe-7497-4937-92d8-690b880604aa"
      },
      "execution_count": 6,
      "outputs": [
        {
          "output_type": "execute_result",
          "data": {
            "text/plain": [
              "label\n",
              "0    4825\n",
              "1     747\n",
              "Name: count, dtype: int64"
            ],
            "text/html": [
              "<div>\n",
              "<style scoped>\n",
              "    .dataframe tbody tr th:only-of-type {\n",
              "        vertical-align: middle;\n",
              "    }\n",
              "\n",
              "    .dataframe tbody tr th {\n",
              "        vertical-align: top;\n",
              "    }\n",
              "\n",
              "    .dataframe thead th {\n",
              "        text-align: right;\n",
              "    }\n",
              "</style>\n",
              "<table border=\"1\" class=\"dataframe\">\n",
              "  <thead>\n",
              "    <tr style=\"text-align: right;\">\n",
              "      <th></th>\n",
              "      <th>count</th>\n",
              "    </tr>\n",
              "    <tr>\n",
              "      <th>label</th>\n",
              "      <th></th>\n",
              "    </tr>\n",
              "  </thead>\n",
              "  <tbody>\n",
              "    <tr>\n",
              "      <th>0</th>\n",
              "      <td>4825</td>\n",
              "    </tr>\n",
              "    <tr>\n",
              "      <th>1</th>\n",
              "      <td>747</td>\n",
              "    </tr>\n",
              "  </tbody>\n",
              "</table>\n",
              "</div><br><label><b>dtype:</b> int64</label>"
            ]
          },
          "metadata": {},
          "execution_count": 6
        }
      ]
    },
    {
      "cell_type": "code",
      "source": [
        "df.info()"
      ],
      "metadata": {
        "colab": {
          "base_uri": "https://localhost:8080/"
        },
        "id": "EqG2AUoJNrR0",
        "outputId": "665e713b-87f1-439e-c601-827c313b3e00"
      },
      "execution_count": 7,
      "outputs": [
        {
          "output_type": "stream",
          "name": "stdout",
          "text": [
            "<class 'pandas.core.frame.DataFrame'>\n",
            "RangeIndex: 5572 entries, 0 to 5571\n",
            "Data columns (total 2 columns):\n",
            " #   Column  Non-Null Count  Dtype \n",
            "---  ------  --------------  ----- \n",
            " 0   label   5572 non-null   int64 \n",
            " 1   text    5572 non-null   object\n",
            "dtypes: int64(1), object(1)\n",
            "memory usage: 87.2+ KB\n"
          ]
        }
      ]
    },
    {
      "cell_type": "code",
      "source": [
        "# Convert 'text' column to int 32\n",
        "df['label'] = df['label'].astype('int32')"
      ],
      "metadata": {
        "id": "1RbWnNQaPIBc"
      },
      "execution_count": 8,
      "outputs": []
    },
    {
      "cell_type": "code",
      "source": [
        "df.info()"
      ],
      "metadata": {
        "colab": {
          "base_uri": "https://localhost:8080/"
        },
        "id": "veyZnWjEPsJS",
        "outputId": "f00e9e9d-a41e-4a82-952b-c8952c01e593"
      },
      "execution_count": 9,
      "outputs": [
        {
          "output_type": "stream",
          "name": "stdout",
          "text": [
            "<class 'pandas.core.frame.DataFrame'>\n",
            "RangeIndex: 5572 entries, 0 to 5571\n",
            "Data columns (total 2 columns):\n",
            " #   Column  Non-Null Count  Dtype \n",
            "---  ------  --------------  ----- \n",
            " 0   label   5572 non-null   int32 \n",
            " 1   text    5572 non-null   object\n",
            "dtypes: int32(1), object(1)\n",
            "memory usage: 65.4+ KB\n"
          ]
        }
      ]
    },
    {
      "cell_type": "code",
      "source": [
        "print(df.isnull().sum())\n",
        "print(df.isnull().sum()/df.shape[0])"
      ],
      "metadata": {
        "colab": {
          "base_uri": "https://localhost:8080/"
        },
        "id": "MKoBazihNuui",
        "outputId": "fd2763c5-7024-4547-8483-236ba83e4907"
      },
      "execution_count": null,
      "outputs": [
        {
          "output_type": "stream",
          "name": "stdout",
          "text": [
            "label    0\n",
            "text     0\n",
            "dtype: int64\n",
            "label    0.0\n",
            "text     0.0\n",
            "dtype: float64\n"
          ]
        }
      ]
    },
    {
      "cell_type": "code",
      "source": [
        "# Replace missing (or all) values with the median\n",
        "df['text'] = df['text'].fillna(df['text'].mode())"
      ],
      "metadata": {
        "id": "OvDSC-41P0et"
      },
      "execution_count": 10,
      "outputs": []
    },
    {
      "cell_type": "code",
      "source": [
        "df.size,df.shape"
      ],
      "metadata": {
        "colab": {
          "base_uri": "https://localhost:8080/"
        },
        "id": "_Hb-eWoiN9UW",
        "outputId": "a26521cf-f1a2-4d49-9ad3-fad1aa71f9ef"
      },
      "execution_count": 11,
      "outputs": [
        {
          "output_type": "execute_result",
          "data": {
            "text/plain": [
              "(11144, (5572, 2))"
            ]
          },
          "metadata": {},
          "execution_count": 11
        }
      ]
    },
    {
      "cell_type": "code",
      "source": [
        "df.columns"
      ],
      "metadata": {
        "colab": {
          "base_uri": "https://localhost:8080/"
        },
        "id": "S2X0kIxYQEJk",
        "outputId": "ae7682e9-c88f-4db9-8c4f-cb6206d5988d"
      },
      "execution_count": null,
      "outputs": [
        {
          "output_type": "execute_result",
          "data": {
            "text/plain": [
              "Index(['label', 'text'], dtype='object')"
            ]
          },
          "metadata": {},
          "execution_count": 85
        }
      ]
    },
    {
      "cell_type": "code",
      "source": [
        "sns.countplot(x=df['label'])"
      ],
      "metadata": {
        "colab": {
          "base_uri": "https://localhost:8080/",
          "height": 467
        },
        "id": "A5cRXYHeQHBu",
        "outputId": "0c54cf3f-8953-46f9-a60e-9994839a70fc"
      },
      "execution_count": null,
      "outputs": [
        {
          "output_type": "execute_result",
          "data": {
            "text/plain": [
              "<Axes: xlabel='label', ylabel='count'>"
            ]
          },
          "metadata": {},
          "execution_count": 86
        },
        {
          "output_type": "display_data",
          "data": {
            "text/plain": [
              "<Figure size 640x480 with 1 Axes>"
            ],
            "image/png": "[encoded data removed]"
          },
          "metadata": {}
        }
      ]
    },
    {
      "cell_type": "code",
      "source": [
        "# NLP libraries to clean the text data\n",
        "from nltk.corpus import stopwords\n",
        "from nltk.stem.porter import PorterStemmer\n",
        "import re\n",
        "from nltk.sentiment.vader import SentimentIntensityAnalyzer\n",
        "from textblob import TextBlob\n",
        "import nltk\n",
        "from nltk.tokenize import word_tokenize\n",
        "from flask import Flask, request, jsonify\n",
        "import pickle"
      ],
      "metadata": {
        "id": "Prfjs1jOQ16l"
      },
      "execution_count": 12,
      "outputs": []
    },
    {
      "cell_type": "code",
      "source": [
        "nltk.download('punkt')\n",
        "nltk.download('stopwords')\n",
        "nltk.download('punkt_tab')\n",
        "stop_words = set(stopwords.words('english'))"
      ],
      "metadata": {
        "colab": {
          "base_uri": "https://localhost:8080/"
        },
        "id": "2vVq0kitQ9b-",
        "outputId": "8e554ed1-7a18-4f93-a23c-de5beccc21ab"
      },
      "execution_count": 13,
      "outputs": [
        {
          "output_type": "stream",
          "name": "stderr",
          "text": [
            "[nltk_data] Downloading package punkt to /root/nltk_data...\n",
            "[nltk_data]   Unzipping tokenizers/punkt.zip.\n",
            "[nltk_data] Downloading package stopwords to /root/nltk_data...\n",
            "[nltk_data]   Unzipping corpora/stopwords.zip.\n",
            "[nltk_data] Downloading package punkt_tab to /root/nltk_data...\n",
            "[nltk_data]   Unzipping tokenizers/punkt_tab.zip.\n"
          ]
        }
      ]
    },
    {
      "cell_type": "code",
      "source": [
        "!python -m spacy download en_core_web_sm"
      ],
      "metadata": {
        "colab": {
          "base_uri": "https://localhost:8080/"
        },
        "id": "HrXJoHpfRBc0",
        "outputId": "6010904b-72eb-4de0-e03f-49829d176062"
      },
      "execution_count": 14,
      "outputs": [
        {
          "output_type": "stream",
          "name": "stdout",
          "text": [
            "Collecting en-core-web-sm==3.8.0\n",
            "  Downloading https://github.com/explosion/spacy-models/releases/download/en_core_web_sm-3.8.0/en_core_web_sm-3.8.0-py3-none-any.whl (12.8 MB)\n",
            "\u001b[2K     \u001b[90m━━━━━━━━━━━━━━━━━━━━━━━━━━━━━━━━━━━━━━━━\u001b[0m \u001b[32m12.8/12.8 MB\u001b[0m \u001b[31m54.9 MB/s\u001b[0m eta \u001b[36m0:00:00\u001b[0m\n",
            "\u001b[?25h\u001b[38;5;2m✔ Download and installation successful\u001b[0m\n",
            "You can now load the package via spacy.load('en_core_web_sm')\n",
            "\u001b[38;5;3m⚠ Restart to reload dependencies\u001b[0m\n",
            "If you are in a Jupyter or Colab notebook, you may need to restart Python in\n",
            "order to load all the package's dependencies. You can do this by selecting the\n",
            "'Restart kernel' or 'Restart runtime' option.\n"
          ]
        }
      ]
    },
    {
      "cell_type": "code",
      "source": [
        "import spacy\n",
        "nlp = spacy.load('en_core_web_sm')\n",
        "\n",
        "token = nlp(df['text'][5])\n",
        "token"
      ],
      "metadata": {
        "colab": {
          "base_uri": "https://localhost:8080/"
        },
        "id": "dIkVrdDMRE2G",
        "outputId": "e81e7602-9d92-4204-b174-1dcf9e9685bb"
      },
      "execution_count": 15,
      "outputs": [
        {
          "output_type": "execute_result",
          "data": {
            "text/plain": [
              "FreeMsg Hey there darling it's been 3 week's now and no word back! I'd like some fun you up for it still? Tb ok! XxX std chgs to send, å£1.50 to rcv"
            ]
          },
          "metadata": {},
          "execution_count": 15
        }
      ]
    },
    {
      "cell_type": "code",
      "source": [
        "dir(token)"
      ],
      "metadata": {
        "colab": {
          "base_uri": "https://localhost:8080/"
        },
        "id": "gQCZUNX8RbNt",
        "outputId": "e59667f5-fddd-4adb-bad1-dee5cd9ce0ee"
      },
      "execution_count": 16,
      "outputs": [
        {
          "output_type": "execute_result",
          "data": {
            "text/plain": [
              "['_',\n",
              " '__bytes__',\n",
              " '__class__',\n",
              " '__delattr__',\n",
              " '__dir__',\n",
              " '__doc__',\n",
              " '__eq__',\n",
              " '__format__',\n",
              " '__ge__',\n",
              " '__getattribute__',\n",
              " '__getitem__',\n",
              " '__getstate__',\n",
              " '__gt__',\n",
              " '__hash__',\n",
              " '__init__',\n",
              " '__init_subclass__',\n",
              " '__iter__',\n",
              " '__le__',\n",
              " '__len__',\n",
              " '__lt__',\n",
              " '__ne__',\n",
              " '__new__',\n",
              " '__pyx_vtable__',\n",
              " '__reduce__',\n",
              " '__reduce_ex__',\n",
              " '__repr__',\n",
              " '__setattr__',\n",
              " '__setstate__',\n",
              " '__sizeof__',\n",
              " '__str__',\n",
              " '__subclasshook__',\n",
              " '__unicode__',\n",
              " '_bulk_merge',\n",
              " '_context',\n",
              " '_get_array_attrs',\n",
              " '_realloc',\n",
              " '_vector',\n",
              " '_vector_norm',\n",
              " 'cats',\n",
              " 'char_span',\n",
              " 'copy',\n",
              " 'count_by',\n",
              " 'doc',\n",
              " 'ents',\n",
              " 'extend_tensor',\n",
              " 'from_array',\n",
              " 'from_bytes',\n",
              " 'from_dict',\n",
              " 'from_disk',\n",
              " 'from_docs',\n",
              " 'from_json',\n",
              " 'get_extension',\n",
              " 'get_lca_matrix',\n",
              " 'has_annotation',\n",
              " 'has_extension',\n",
              " 'has_unknown_spaces',\n",
              " 'has_vector',\n",
              " 'is_nered',\n",
              " 'is_parsed',\n",
              " 'is_sentenced',\n",
              " 'is_tagged',\n",
              " 'lang',\n",
              " 'lang_',\n",
              " 'mem',\n",
              " 'noun_chunks',\n",
              " 'noun_chunks_iterator',\n",
              " 'remove_extension',\n",
              " 'retokenize',\n",
              " 'sentiment',\n",
              " 'sents',\n",
              " 'set_ents',\n",
              " 'set_extension',\n",
              " 'similarity',\n",
              " 'spans',\n",
              " 'tensor',\n",
              " 'text',\n",
              " 'text_with_ws',\n",
              " 'to_array',\n",
              " 'to_bytes',\n",
              " 'to_dict',\n",
              " 'to_disk',\n",
              " 'to_json',\n",
              " 'to_utf8_array',\n",
              " 'user_data',\n",
              " 'user_hooks',\n",
              " 'user_span_hooks',\n",
              " 'user_token_hooks',\n",
              " 'vector',\n",
              " 'vector_norm',\n",
              " 'vocab']"
            ]
          },
          "metadata": {},
          "execution_count": 16
        }
      ]
    },
    {
      "cell_type": "markdown",
      "source": [
        "# Data Cleaning and Preprocessing:-"
      ],
      "metadata": {
        "id": "H7V7jsrLRi5f"
      }
    },
    {
      "cell_type": "code",
      "source": [
        "# Preprocessing function\n",
        "def preprocess(text):\n",
        "    if not isinstance(text, str):\n",
        "        return ''\n",
        "    text = text.lower()\n",
        "    text = re.sub(r'[^\\w\\s]', '', text)\n",
        "    tokens = word_tokenize(text)\n",
        "    stop_words = set(stopwords.words('english'))\n",
        "    tokens = [word for word in tokens if word not in stop_words]\n",
        "    stemmer = PorterStemmer()\n",
        "    tokens = [stemmer.stem(word) for word in tokens]\n",
        "    return ' '.join(tokens)"
      ],
      "metadata": {
        "id": "g6AciSq3RjkA"
      },
      "execution_count": 17,
      "outputs": []
    },
    {
      "cell_type": "code",
      "source": [
        "df['clean_text'] = df['text'].apply(preprocess)"
      ],
      "metadata": {
        "id": "LPkScUJORxpQ"
      },
      "execution_count": 18,
      "outputs": []
    },
    {
      "cell_type": "code",
      "source": [
        "df.head()"
      ],
      "metadata": {
        "colab": {
          "base_uri": "https://localhost:8080/",
          "height": 206
        },
        "id": "-j3FoBR4R3n9",
        "outputId": "64bda9c2-6852-4023-fde9-e4379be46133"
      },
      "execution_count": 19,
      "outputs": [
        {
          "output_type": "execute_result",
          "data": {
            "text/plain": [
              "   label                                               text  \\\n",
              "0      0  Go until jurong point, crazy.. Available only ...   \n",
              "1      0                      Ok lar... Joking wif u oni...   \n",
              "2      1  Free entry in 2 a wkly comp to win FA Cup fina...   \n",
              "3      0  U dun say so early hor... U c already then say...   \n",
              "4      0  Nah I don't think he goes to usf, he lives aro...   \n",
              "\n",
              "                                          clean_text  \n",
              "0  go jurong point crazi avail bugi n great world...  \n",
              "1                              ok lar joke wif u oni  \n",
              "2  free entri 2 wkli comp win fa cup final tkt 21...  \n",
              "3                u dun say earli hor u c alreadi say  \n",
              "4          nah dont think goe usf live around though  "
            ],
            "text/html": [
              "\n",
              "  <div id=\"df-d434da95-407a-4dcc-8054-bf943b9d886e\" class=\"colab-df-container\">\n",
              "    <div>\n",
              "<style scoped>\n",
              "    .dataframe tbody tr th:only-of-type {\n",
              "        vertical-align: middle;\n",
              "    }\n",
              "\n",
              "    .dataframe tbody tr th {\n",
              "        vertical-align: top;\n",
              "    }\n",
              "\n",
              "    .dataframe thead th {\n",
              "        text-align: right;\n",
              "    }\n",
              "</style>\n",
              "<table border=\"1\" class=\"dataframe\">\n",
              "  <thead>\n",
              "    <tr style=\"text-align: right;\">\n",
              "      <th></th>\n",
              "      <th>label</th>\n",
              "      <th>text</th>\n",
              "      <th>clean_text</th>\n",
              "    </tr>\n",
              "  </thead>\n",
              "  <tbody>\n",
              "    <tr>\n",
              "      <th>0</th>\n",
              "      <td>0</td>\n",
              "      <td>Go until jurong point, crazy.. Available only ...</td>\n",
              "      <td>go jurong point crazi avail bugi n great world...</td>\n",
              "    </tr>\n",
              "    <tr>\n",
              "      <th>1</th>\n",
              "      <td>0</td>\n",
              "      <td>Ok lar... Joking wif u oni...</td>\n",
              "      <td>ok lar joke wif u oni</td>\n",
              "    </tr>\n",
              "    <tr>\n",
              "      <th>2</th>\n",
              "      <td>1</td>\n",
              "      <td>Free entry in 2 a wkly comp to win FA Cup fina...</td>\n",
              "      <td>free entri 2 wkli comp win fa cup final tkt 21...</td>\n",
              "    </tr>\n",
              "    <tr>\n",
              "      <th>3</th>\n",
              "      <td>0</td>\n",
              "      <td>U dun say so early hor... U c already then say...</td>\n",
              "      <td>u dun say earli hor u c alreadi say</td>\n",
              "    </tr>\n",
              "    <tr>\n",
              "      <th>4</th>\n",
              "      <td>0</td>\n",
              "      <td>Nah I don't think he goes to usf, he lives aro...</td>\n",
              "      <td>nah dont think goe usf live around though</td>\n",
              "    </tr>\n",
              "  </tbody>\n",
              "</table>\n",
              "</div>\n",
              "    <div class=\"colab-df-buttons\">\n",
              "\n",
              "  <div class=\"colab-df-container\">\n",
              "    <button class=\"colab-df-convert\" onclick=\"convertToInteractive('df-d434da95-407a-4dcc-8054-bf943b9d886e')\"\n",
              "            title=\"Convert this dataframe to an interactive table.\"\n",
              "            style=\"display:none;\">\n",
              "\n",
              "  <svg xmlns=\"http://www.w3.org/2000/svg\" height=\"24px\" viewBox=\"0 -960 960 960\">\n",
              "    <path d=\"M120-120v-720h720v720H120Zm60-500h600v-160H180v160Zm220 220h160v-160H400v160Zm0 220h160v-160H400v160ZM180-400h160v-160H180v160Zm440 0h160v-160H620v160ZM180-180h160v-160H180v160Zm440 0h160v-160H620v160Z\"/>\n",
              "  </svg>\n",
              "    </button>\n",
              "\n",
              "  <style>\n",
              "    .colab-df-container {\n",
              "      display:flex;\n",
              "      gap: 12px;\n",
              "    }\n",
              "\n",
              "    .colab-df-convert {\n",
              "      background-color: #E8F0FE;\n",
              "      border: none;\n",
              "      border-radius: 50%;\n",
              "      cursor: pointer;\n",
              "      display: none;\n",
              "      fill: #1967D2;\n",
              "      height: 32px;\n",
              "      padding: 0 0 0 0;\n",
              "      width: 32px;\n",
              "    }\n",
              "\n",
              "    .colab-df-convert:hover {\n",
              "      background-color: #E2EBFA;\n",
              "      box-shadow: 0px 1px 2px rgba(60, 64, 67, 0.3), 0px 1px 3px 1px rgba(60, 64, 67, 0.15);\n",
              "      fill: #174EA6;\n",
              "    }\n",
              "\n",
              "    .colab-df-buttons div {\n",
              "      margin-bottom: 4px;\n",
              "    }\n",
              "\n",
              "    [theme=dark] .colab-df-convert {\n",
              "      background-color: #3B4455;\n",
              "      fill: #D2E3FC;\n",
              "    }\n",
              "\n",
              "    [theme=dark] .colab-df-convert:hover {\n",
              "      background-color: #434B5C;\n",
              "      box-shadow: 0px 1px 3px 1px rgba(0, 0, 0, 0.15);\n",
              "      filter: drop-shadow(0px 1px 2px rgba(0, 0, 0, 0.3));\n",
              "      fill: #FFFFFF;\n",
              "    }\n",
              "  </style>\n",
              "\n",
              "    <script>\n",
              "      const buttonEl =\n",
              "        document.querySelector('#df-d434da95-407a-4dcc-8054-bf943b9d886e button.colab-df-convert');\n",
              "      buttonEl.style.display =\n",
              "        google.colab.kernel.accessAllowed ? 'block' : 'none';\n",
              "\n",
              "      async function convertToInteractive(key) {\n",
              "        const element = document.querySelector('#df-d434da95-407a-4dcc-8054-bf943b9d886e');\n",
              "        const dataTable =\n",
              "          await google.colab.kernel.invokeFunction('convertToInteractive',\n",
              "                                                    [key], {});\n",
              "        if (!dataTable) return;\n",
              "\n",
              "        const docLinkHtml = 'Like what you see? Visit the ' +\n",
              "          '<a target=\"_blank\" href=https://colab.research.google.com/notebooks/data_table.ipynb>data table notebook</a>'\n",
              "          + ' to learn more about interactive tables.';\n",
              "        element.innerHTML = '';\n",
              "        dataTable['output_type'] = 'display_data';\n",
              "        await google.colab.output.renderOutput(dataTable, element);\n",
              "        const docLink = document.createElement('div');\n",
              "        docLink.innerHTML = docLinkHtml;\n",
              "        element.appendChild(docLink);\n",
              "      }\n",
              "    </script>\n",
              "  </div>\n",
              "\n",
              "\n",
              "    <div id=\"df-f70b553a-e928-4c68-828d-dcf5647ae798\">\n",
              "      <button class=\"colab-df-quickchart\" onclick=\"quickchart('df-f70b553a-e928-4c68-828d-dcf5647ae798')\"\n",
              "                title=\"Suggest charts\"\n",
              "                style=\"display:none;\">\n",
              "\n",
              "<svg xmlns=\"http://www.w3.org/2000/svg\" height=\"24px\"viewBox=\"0 0 24 24\"\n",
              "     width=\"24px\">\n",
              "    <g>\n",
              "        <path d=\"M19 3H5c-1.1 0-2 .9-2 2v14c0 1.1.9 2 2 2h14c1.1 0 2-.9 2-2V5c0-1.1-.9-2-2-2zM9 17H7v-7h2v7zm4 0h-2V7h2v10zm4 0h-2v-4h2v4z\"/>\n",
              "    </g>\n",
              "</svg>\n",
              "      </button>\n",
              "\n",
              "<style>\n",
              "  .colab-df-quickchart {\n",
              "      --bg-color: #E8F0FE;\n",
              "      --fill-color: #1967D2;\n",
              "      --hover-bg-color: #E2EBFA;\n",
              "      --hover-fill-color: #174EA6;\n",
              "      --disabled-fill-color: #AAA;\n",
              "      --disabled-bg-color: #DDD;\n",
              "  }\n",
              "\n",
              "  [theme=dark] .colab-df-quickchart {\n",
              "      --bg-color: #3B4455;\n",
              "      --fill-color: #D2E3FC;\n",
              "      --hover-bg-color: #434B5C;\n",
              "      --hover-fill-color: #FFFFFF;\n",
              "      --disabled-bg-color: #3B4455;\n",
              "      --disabled-fill-color: #666;\n",
              "  }\n",
              "\n",
              "  .colab-df-quickchart {\n",
              "    background-color: var(--bg-color);\n",
              "    border: none;\n",
              "    border-radius: 50%;\n",
              "    cursor: pointer;\n",
              "    display: none;\n",
              "    fill: var(--fill-color);\n",
              "    height: 32px;\n",
              "    padding: 0;\n",
              "    width: 32px;\n",
              "  }\n",
              "\n",
              "  .colab-df-quickchart:hover {\n",
              "    background-color: var(--hover-bg-color);\n",
              "    box-shadow: 0 1px 2px rgba(60, 64, 67, 0.3), 0 1px 3px 1px rgba(60, 64, 67, 0.15);\n",
              "    fill: var(--button-hover-fill-color);\n",
              "  }\n",
              "\n",
              "  .colab-df-quickchart-complete:disabled,\n",
              "  .colab-df-quickchart-complete:disabled:hover {\n",
              "    background-color: var(--disabled-bg-color);\n",
              "    fill: var(--disabled-fill-color);\n",
              "    box-shadow: none;\n",
              "  }\n",
              "\n",
              "  .colab-df-spinner {\n",
              "    border: 2px solid var(--fill-color);\n",
              "    border-color: transparent;\n",
              "    border-bottom-color: var(--fill-color);\n",
              "    animation:\n",
              "      spin 1s steps(1) infinite;\n",
              "  }\n",
              "\n",
              "  @keyframes spin {\n",
              "    0% {\n",
              "      border-color: transparent;\n",
              "      border-bottom-color: var(--fill-color);\n",
              "      border-left-color: var(--fill-color);\n",
              "    }\n",
              "    20% {\n",
              "      border-color: transparent;\n",
              "      border-left-color: var(--fill-color);\n",
              "      border-top-color: var(--fill-color);\n",
              "    }\n",
              "    30% {\n",
              "      border-color: transparent;\n",
              "      border-left-color: var(--fill-color);\n",
              "      border-top-color: var(--fill-color);\n",
              "      border-right-color: var(--fill-color);\n",
              "    }\n",
              "    40% {\n",
              "      border-color: transparent;\n",
              "      border-right-color: var(--fill-color);\n",
              "      border-top-color: var(--fill-color);\n",
              "    }\n",
              "    60% {\n",
              "      border-color: transparent;\n",
              "      border-right-color: var(--fill-color);\n",
              "    }\n",
              "    80% {\n",
              "      border-color: transparent;\n",
              "      border-right-color: var(--fill-color);\n",
              "      border-bottom-color: var(--fill-color);\n",
              "    }\n",
              "    90% {\n",
              "      border-color: transparent;\n",
              "      border-bottom-color: var(--fill-color);\n",
              "    }\n",
              "  }\n",
              "</style>\n",
              "\n",
              "      <script>\n",
              "        async function quickchart(key) {\n",
              "          const quickchartButtonEl =\n",
              "            document.querySelector('#' + key + ' button');\n",
              "          quickchartButtonEl.disabled = true;  // To prevent multiple clicks.\n",
              "          quickchartButtonEl.classList.add('colab-df-spinner');\n",
              "          try {\n",
              "            const charts = await google.colab.kernel.invokeFunction(\n",
              "                'suggestCharts', [key], {});\n",
              "          } catch (error) {\n",
              "            console.error('Error during call to suggestCharts:', error);\n",
              "          }\n",
              "          quickchartButtonEl.classList.remove('colab-df-spinner');\n",
              "          quickchartButtonEl.classList.add('colab-df-quickchart-complete');\n",
              "        }\n",
              "        (() => {\n",
              "          let quickchartButtonEl =\n",
              "            document.querySelector('#df-f70b553a-e928-4c68-828d-dcf5647ae798 button');\n",
              "          quickchartButtonEl.style.display =\n",
              "            google.colab.kernel.accessAllowed ? 'block' : 'none';\n",
              "        })();\n",
              "      </script>\n",
              "    </div>\n",
              "\n",
              "    </div>\n",
              "  </div>\n"
            ],
            "application/vnd.google.colaboratory.intrinsic+json": {
              "type": "dataframe",
              "variable_name": "df",
              "summary": "{\n  \"name\": \"df\",\n  \"rows\": 5572,\n  \"fields\": [\n    {\n      \"column\": \"label\",\n      \"properties\": {\n        \"dtype\": \"int32\",\n        \"num_unique_values\": 2,\n        \"samples\": [\n          1,\n          0\n        ],\n        \"semantic_type\": \"\",\n        \"description\": \"\"\n      }\n    },\n    {\n      \"column\": \"text\",\n      \"properties\": {\n        \"dtype\": \"string\",\n        \"num_unique_values\": 5169,\n        \"samples\": [\n          \"Did u download the fring app?\",\n          \"Pass dis to all ur contacts n see wat u get! Red;i'm in luv wid u. Blue;u put a smile on my face. Purple;u r realy hot. Pink;u r so swt. Orange;i thnk i lyk u. Green;i realy wana go out wid u. Yelow;i wnt u bck. Black;i'm jealous of u. Brown;i miss you Nw plz giv me one color\"\n        ],\n        \"semantic_type\": \"\",\n        \"description\": \"\"\n      }\n    },\n    {\n      \"column\": \"clean_text\",\n      \"properties\": {\n        \"dtype\": \"string\",\n        \"num_unique_values\": 5114,\n        \"samples\": [\n          \"wwwapplausestorecom monthlysubscription50pmsg max6month tcsc web age16 2stop txt stop\",\n          \"thank gener date brotha\"\n        ],\n        \"semantic_type\": \"\",\n        \"description\": \"\"\n      }\n    }\n  ]\n}"
            }
          },
          "metadata": {},
          "execution_count": 19
        }
      ]
    },
    {
      "cell_type": "markdown",
      "source": [
        "# Hypothesis testing:-"
      ],
      "metadata": {
        "id": "O3ldajzQTd-V"
      }
    },
    {
      "cell_type": "code",
      "source": [
        "from textblob import TextBlob\n",
        "from scipy.stats import ttest_ind\n",
        "\n",
        "# Apply sentiment analysis\n",
        "df['polarity'] = df['text'].apply(lambda x: TextBlob(x).sentiment.polarity)"
      ],
      "metadata": {
        "id": "iKIjCf0mTgM7"
      },
      "execution_count": null,
      "outputs": []
    },
    {
      "cell_type": "code",
      "source": [
        "df.head()"
      ],
      "metadata": {
        "colab": {
          "base_uri": "https://localhost:8080/",
          "height": 206
        },
        "id": "aXQVzaoOTpaJ",
        "outputId": "0ce8de63-013f-4bca-ffe7-d5aeb6e69b93"
      },
      "execution_count": null,
      "outputs": [
        {
          "output_type": "execute_result",
          "data": {
            "text/plain": [
              "   label                                               text  \\\n",
              "0      0  Go until jurong point, crazy.. Available only ...   \n",
              "1      0                      Ok lar... Joking wif u oni...   \n",
              "2      1  Free entry in 2 a wkly comp to win FA Cup fina...   \n",
              "3      0  U dun say so early hor... U c already then say...   \n",
              "4      0  Nah I don't think he goes to usf, he lives aro...   \n",
              "\n",
              "                                          clean_text  polarity  \n",
              "0  go jurong point crazi avail bugi n great world...      0.15  \n",
              "1                              ok lar joke wif u oni      0.50  \n",
              "2  free entri 2 wkli comp win fa cup final tkt 21...      0.30  \n",
              "3                u dun say earli hor u c alreadi say      0.10  \n",
              "4          nah dont think goe usf live around though      0.00  "
            ],
            "text/html": [
              "\n",
              "  <div id=\"df-cac1320c-a933-4e20-a89f-18e86549a566\" class=\"colab-df-container\">\n",
              "    <div>\n",
              "<style scoped>\n",
              "    .dataframe tbody tr th:only-of-type {\n",
              "        vertical-align: middle;\n",
              "    }\n",
              "\n",
              "    .dataframe tbody tr th {\n",
              "        vertical-align: top;\n",
              "    }\n",
              "\n",
              "    .dataframe thead th {\n",
              "        text-align: right;\n",
              "    }\n",
              "</style>\n",
              "<table border=\"1\" class=\"dataframe\">\n",
              "  <thead>\n",
              "    <tr style=\"text-align: right;\">\n",
              "      <th></th>\n",
              "      <th>label</th>\n",
              "      <th>text</th>\n",
              "      <th>clean_text</th>\n",
              "      <th>polarity</th>\n",
              "    </tr>\n",
              "  </thead>\n",
              "  <tbody>\n",
              "    <tr>\n",
              "      <th>0</th>\n",
              "      <td>0</td>\n",
              "      <td>Go until jurong point, crazy.. Available only ...</td>\n",
              "      <td>go jurong point crazi avail bugi n great world...</td>\n",
              "      <td>0.15</td>\n",
              "    </tr>\n",
              "    <tr>\n",
              "      <th>1</th>\n",
              "      <td>0</td>\n",
              "      <td>Ok lar... Joking wif u oni...</td>\n",
              "      <td>ok lar joke wif u oni</td>\n",
              "      <td>0.50</td>\n",
              "    </tr>\n",
              "    <tr>\n",
              "      <th>2</th>\n",
              "      <td>1</td>\n",
              "      <td>Free entry in 2 a wkly comp to win FA Cup fina...</td>\n",
              "      <td>free entri 2 wkli comp win fa cup final tkt 21...</td>\n",
              "      <td>0.30</td>\n",
              "    </tr>\n",
              "    <tr>\n",
              "      <th>3</th>\n",
              "      <td>0</td>\n",
              "      <td>U dun say so early hor... U c already then say...</td>\n",
              "      <td>u dun say earli hor u c alreadi say</td>\n",
              "      <td>0.10</td>\n",
              "    </tr>\n",
              "    <tr>\n",
              "      <th>4</th>\n",
              "      <td>0</td>\n",
              "      <td>Nah I don't think he goes to usf, he lives aro...</td>\n",
              "      <td>nah dont think goe usf live around though</td>\n",
              "      <td>0.00</td>\n",
              "    </tr>\n",
              "  </tbody>\n",
              "</table>\n",
              "</div>\n",
              "    <div class=\"colab-df-buttons\">\n",
              "\n",
              "  <div class=\"colab-df-container\">\n",
              "    <button class=\"colab-df-convert\" onclick=\"convertToInteractive('df-cac1320c-a933-4e20-a89f-18e86549a566')\"\n",
              "            title=\"Convert this dataframe to an interactive table.\"\n",
              "            style=\"display:none;\">\n",
              "\n",
              "  <svg xmlns=\"http://www.w3.org/2000/svg\" height=\"24px\" viewBox=\"0 -960 960 960\">\n",
              "    <path d=\"M120-120v-720h720v720H120Zm60-500h600v-160H180v160Zm220 220h160v-160H400v160Zm0 220h160v-160H400v160ZM180-400h160v-160H180v160Zm440 0h160v-160H620v160ZM180-180h160v-160H180v160Zm440 0h160v-160H620v160Z\"/>\n",
              "  </svg>\n",
              "    </button>\n",
              "\n",
              "  <style>\n",
              "    .colab-df-container {\n",
              "      display:flex;\n",
              "      gap: 12px;\n",
              "    }\n",
              "\n",
              "    .colab-df-convert {\n",
              "      background-color: #E8F0FE;\n",
              "      border: none;\n",
              "      border-radius: 50%;\n",
              "      cursor: pointer;\n",
              "      display: none;\n",
              "      fill: #1967D2;\n",
              "      height: 32px;\n",
              "      padding: 0 0 0 0;\n",
              "      width: 32px;\n",
              "    }\n",
              "\n",
              "    .colab-df-convert:hover {\n",
              "      background-color: #E2EBFA;\n",
              "      box-shadow: 0px 1px 2px rgba(60, 64, 67, 0.3), 0px 1px 3px 1px rgba(60, 64, 67, 0.15);\n",
              "      fill: #174EA6;\n",
              "    }\n",
              "\n",
              "    .colab-df-buttons div {\n",
              "      margin-bottom: 4px;\n",
              "    }\n",
              "\n",
              "    [theme=dark] .colab-df-convert {\n",
              "      background-color: #3B4455;\n",
              "      fill: #D2E3FC;\n",
              "    }\n",
              "\n",
              "    [theme=dark] .colab-df-convert:hover {\n",
              "      background-color: #434B5C;\n",
              "      box-shadow: 0px 1px 3px 1px rgba(0, 0, 0, 0.15);\n",
              "      filter: drop-shadow(0px 1px 2px rgba(0, 0, 0, 0.3));\n",
              "      fill: #FFFFFF;\n",
              "    }\n",
              "  </style>\n",
              "\n",
              "    <script>\n",
              "      const buttonEl =\n",
              "        document.querySelector('#df-cac1320c-a933-4e20-a89f-18e86549a566 button.colab-df-convert');\n",
              "      buttonEl.style.display =\n",
              "        google.colab.kernel.accessAllowed ? 'block' : 'none';\n",
              "\n",
              "      async function convertToInteractive(key) {\n",
              "        const element = document.querySelector('#df-cac1320c-a933-4e20-a89f-18e86549a566');\n",
              "        const dataTable =\n",
              "          await google.colab.kernel.invokeFunction('convertToInteractive',\n",
              "                                                    [key], {});\n",
              "        if (!dataTable) return;\n",
              "\n",
              "        const docLinkHtml = 'Like what you see? Visit the ' +\n",
              "          '<a target=\"_blank\" href=https://colab.research.google.com/notebooks/data_table.ipynb>data table notebook</a>'\n",
              "          + ' to learn more about interactive tables.';\n",
              "        element.innerHTML = '';\n",
              "        dataTable['output_type'] = 'display_data';\n",
              "        await google.colab.output.renderOutput(dataTable, element);\n",
              "        const docLink = document.createElement('div');\n",
              "        docLink.innerHTML = docLinkHtml;\n",
              "        element.appendChild(docLink);\n",
              "      }\n",
              "    </script>\n",
              "  </div>\n",
              "\n",
              "\n",
              "    <div id=\"df-788f689f-8390-4d93-a472-bf8d1b38d881\">\n",
              "      <button class=\"colab-df-quickchart\" onclick=\"quickchart('df-788f689f-8390-4d93-a472-bf8d1b38d881')\"\n",
              "                title=\"Suggest charts\"\n",
              "                style=\"display:none;\">\n",
              "\n",
              "<svg xmlns=\"http://www.w3.org/2000/svg\" height=\"24px\"viewBox=\"0 0 24 24\"\n",
              "     width=\"24px\">\n",
              "    <g>\n",
              "        <path d=\"M19 3H5c-1.1 0-2 .9-2 2v14c0 1.1.9 2 2 2h14c1.1 0 2-.9 2-2V5c0-1.1-.9-2-2-2zM9 17H7v-7h2v7zm4 0h-2V7h2v10zm4 0h-2v-4h2v4z\"/>\n",
              "    </g>\n",
              "</svg>\n",
              "      </button>\n",
              "\n",
              "<style>\n",
              "  .colab-df-quickchart {\n",
              "      --bg-color: #E8F0FE;\n",
              "      --fill-color: #1967D2;\n",
              "      --hover-bg-color: #E2EBFA;\n",
              "      --hover-fill-color: #174EA6;\n",
              "      --disabled-fill-color: #AAA;\n",
              "      --disabled-bg-color: #DDD;\n",
              "  }\n",
              "\n",
              "  [theme=dark] .colab-df-quickchart {\n",
              "      --bg-color: #3B4455;\n",
              "      --fill-color: #D2E3FC;\n",
              "      --hover-bg-color: #434B5C;\n",
              "      --hover-fill-color: #FFFFFF;\n",
              "      --disabled-bg-color: #3B4455;\n",
              "      --disabled-fill-color: #666;\n",
              "  }\n",
              "\n",
              "  .colab-df-quickchart {\n",
              "    background-color: var(--bg-color);\n",
              "    border: none;\n",
              "    border-radius: 50%;\n",
              "    cursor: pointer;\n",
              "    display: none;\n",
              "    fill: var(--fill-color);\n",
              "    height: 32px;\n",
              "    padding: 0;\n",
              "    width: 32px;\n",
              "  }\n",
              "\n",
              "  .colab-df-quickchart:hover {\n",
              "    background-color: var(--hover-bg-color);\n",
              "    box-shadow: 0 1px 2px rgba(60, 64, 67, 0.3), 0 1px 3px 1px rgba(60, 64, 67, 0.15);\n",
              "    fill: var(--button-hover-fill-color);\n",
              "  }\n",
              "\n",
              "  .colab-df-quickchart-complete:disabled,\n",
              "  .colab-df-quickchart-complete:disabled:hover {\n",
              "    background-color: var(--disabled-bg-color);\n",
              "    fill: var(--disabled-fill-color);\n",
              "    box-shadow: none;\n",
              "  }\n",
              "\n",
              "  .colab-df-spinner {\n",
              "    border: 2px solid var(--fill-color);\n",
              "    border-color: transparent;\n",
              "    border-bottom-color: var(--fill-color);\n",
              "    animation:\n",
              "      spin 1s steps(1) infinite;\n",
              "  }\n",
              "\n",
              "  @keyframes spin {\n",
              "    0% {\n",
              "      border-color: transparent;\n",
              "      border-bottom-color: var(--fill-color);\n",
              "      border-left-color: var(--fill-color);\n",
              "    }\n",
              "    20% {\n",
              "      border-color: transparent;\n",
              "      border-left-color: var(--fill-color);\n",
              "      border-top-color: var(--fill-color);\n",
              "    }\n",
              "    30% {\n",
              "      border-color: transparent;\n",
              "      border-left-color: var(--fill-color);\n",
              "      border-top-color: var(--fill-color);\n",
              "      border-right-color: var(--fill-color);\n",
              "    }\n",
              "    40% {\n",
              "      border-color: transparent;\n",
              "      border-right-color: var(--fill-color);\n",
              "      border-top-color: var(--fill-color);\n",
              "    }\n",
              "    60% {\n",
              "      border-color: transparent;\n",
              "      border-right-color: var(--fill-color);\n",
              "    }\n",
              "    80% {\n",
              "      border-color: transparent;\n",
              "      border-right-color: var(--fill-color);\n",
              "      border-bottom-color: var(--fill-color);\n",
              "    }\n",
              "    90% {\n",
              "      border-color: transparent;\n",
              "      border-bottom-color: var(--fill-color);\n",
              "    }\n",
              "  }\n",
              "</style>\n",
              "\n",
              "      <script>\n",
              "        async function quickchart(key) {\n",
              "          const quickchartButtonEl =\n",
              "            document.querySelector('#' + key + ' button');\n",
              "          quickchartButtonEl.disabled = true;  // To prevent multiple clicks.\n",
              "          quickchartButtonEl.classList.add('colab-df-spinner');\n",
              "          try {\n",
              "            const charts = await google.colab.kernel.invokeFunction(\n",
              "                'suggestCharts', [key], {});\n",
              "          } catch (error) {\n",
              "            console.error('Error during call to suggestCharts:', error);\n",
              "          }\n",
              "          quickchartButtonEl.classList.remove('colab-df-spinner');\n",
              "          quickchartButtonEl.classList.add('colab-df-quickchart-complete');\n",
              "        }\n",
              "        (() => {\n",
              "          let quickchartButtonEl =\n",
              "            document.querySelector('#df-788f689f-8390-4d93-a472-bf8d1b38d881 button');\n",
              "          quickchartButtonEl.style.display =\n",
              "            google.colab.kernel.accessAllowed ? 'block' : 'none';\n",
              "        })();\n",
              "      </script>\n",
              "    </div>\n",
              "\n",
              "    </div>\n",
              "  </div>\n"
            ],
            "application/vnd.google.colaboratory.intrinsic+json": {
              "type": "dataframe",
              "variable_name": "df",
              "summary": "{\n  \"name\": \"df\",\n  \"rows\": 5572,\n  \"fields\": [\n    {\n      \"column\": \"label\",\n      \"properties\": {\n        \"dtype\": \"int32\",\n        \"num_unique_values\": 2,\n        \"samples\": [\n          1,\n          0\n        ],\n        \"semantic_type\": \"\",\n        \"description\": \"\"\n      }\n    },\n    {\n      \"column\": \"text\",\n      \"properties\": {\n        \"dtype\": \"string\",\n        \"num_unique_values\": 5169,\n        \"samples\": [\n          \"Did u download the fring app?\",\n          \"Pass dis to all ur contacts n see wat u get! Red;i'm in luv wid u. Blue;u put a smile on my face. Purple;u r realy hot. Pink;u r so swt. Orange;i thnk i lyk u. Green;i realy wana go out wid u. Yelow;i wnt u bck. Black;i'm jealous of u. Brown;i miss you Nw plz giv me one color\"\n        ],\n        \"semantic_type\": \"\",\n        \"description\": \"\"\n      }\n    },\n    {\n      \"column\": \"clean_text\",\n      \"properties\": {\n        \"dtype\": \"string\",\n        \"num_unique_values\": 5114,\n        \"samples\": [\n          \"wwwapplausestorecom monthlysubscription50pmsg max6month tcsc web age16 2stop txt stop\",\n          \"thank gener date brotha\"\n        ],\n        \"semantic_type\": \"\",\n        \"description\": \"\"\n      }\n    },\n    {\n      \"column\": \"polarity\",\n      \"properties\": {\n        \"dtype\": \"number\",\n        \"std\": 0.2917912602267438,\n        \"min\": -1.0,\n        \"max\": 1.0,\n        \"num_unique_values\": 693,\n        \"samples\": [\n          -0.55,\n          -0.03125\n        ],\n        \"semantic_type\": \"\",\n        \"description\": \"\"\n      }\n    }\n  ]\n}"
            }
          },
          "metadata": {},
          "execution_count": 95
        }
      ]
    },
    {
      "cell_type": "code",
      "source": [
        "sns.distplot(df['polarity'])"
      ],
      "metadata": {
        "colab": {
          "base_uri": "https://localhost:8080/",
          "height": 657
        },
        "id": "vPZw5kG3T2ip",
        "outputId": "6161e6ef-e418-4733-c788-fabe5bdc4c47"
      },
      "execution_count": null,
      "outputs": [
        {
          "output_type": "stream",
          "name": "stderr",
          "text": [
            "/tmp/ipython-input-96-463331062.py:1: UserWarning: \n",
            "\n",
            "`distplot` is a deprecated function and will be removed in seaborn v0.14.0.\n",
            "\n",
            "Please adapt your code to use either `displot` (a figure-level function with\n",
            "similar flexibility) or `histplot` (an axes-level function for histograms).\n",
            "\n",
            "For a guide to updating your code to use the new functions, please see\n",
            "https://gist.github.com/mwaskom/de44147ed2974457ad6372750bbe5751\n",
            "\n",
            "  sns.distplot(df['polarity'])\n"
          ]
        },
        {
          "output_type": "execute_result",
          "data": {
            "text/plain": [
              "<Axes: xlabel='polarity', ylabel='Density'>"
            ]
          },
          "metadata": {},
          "execution_count": 96
        },
        {
          "output_type": "display_data",
          "data": {
            "text/plain": [
              "<Figure size 640x480 with 1 Axes>"
            ],
            "image/png": "[encoded data removed]"
          },
          "metadata": {}
        }
      ]
    },
    {
      "cell_type": "code",
      "source": [
        "df['target'] = df['polarity'].apply(lambda x: 1 if x >=0 else 0 )"
      ],
      "metadata": {
        "id": "Xm0xYpWvUJG0"
      },
      "execution_count": null,
      "outputs": []
    },
    {
      "cell_type": "code",
      "source": [
        "df.head()"
      ],
      "metadata": {
        "colab": {
          "base_uri": "https://localhost:8080/",
          "height": 241
        },
        "id": "qAN2gllRUQX5",
        "outputId": "187fc4ce-7e25-4649-f2c7-d051894c9ed9"
      },
      "execution_count": null,
      "outputs": [
        {
          "output_type": "execute_result",
          "data": {
            "text/plain": [
              "   label                                               text  \\\n",
              "0      0  Go until jurong point, crazy.. Available only ...   \n",
              "1      0                      Ok lar... Joking wif u oni...   \n",
              "2      1  Free entry in 2 a wkly comp to win FA Cup fina...   \n",
              "3      0  U dun say so early hor... U c already then say...   \n",
              "4      0  Nah I don't think he goes to usf, he lives aro...   \n",
              "\n",
              "                                          clean_text  polarity  target  \n",
              "0  go jurong point crazi avail bugi n great world...      0.15       1  \n",
              "1                              ok lar joke wif u oni      0.50       1  \n",
              "2  free entri 2 wkli comp win fa cup final tkt 21...      0.30       1  \n",
              "3                u dun say earli hor u c alreadi say      0.10       1  \n",
              "4          nah dont think goe usf live around though      0.00       1  "
            ],
            "text/html": [
              "\n",
              "  <div id=\"df-0edcfc1c-4911-4ca5-a999-44c38cf8a575\" class=\"colab-df-container\">\n",
              "    <div>\n",
              "<style scoped>\n",
              "    .dataframe tbody tr th:only-of-type {\n",
              "        vertical-align: middle;\n",
              "    }\n",
              "\n",
              "    .dataframe tbody tr th {\n",
              "        vertical-align: top;\n",
              "    }\n",
              "\n",
              "    .dataframe thead th {\n",
              "        text-align: right;\n",
              "    }\n",
              "</style>\n",
              "<table border=\"1\" class=\"dataframe\">\n",
              "  <thead>\n",
              "    <tr style=\"text-align: right;\">\n",
              "      <th></th>\n",
              "      <th>label</th>\n",
              "      <th>text</th>\n",
              "      <th>clean_text</th>\n",
              "      <th>polarity</th>\n",
              "      <th>target</th>\n",
              "    </tr>\n",
              "  </thead>\n",
              "  <tbody>\n",
              "    <tr>\n",
              "      <th>0</th>\n",
              "      <td>0</td>\n",
              "      <td>Go until jurong point, crazy.. Available only ...</td>\n",
              "      <td>go jurong point crazi avail bugi n great world...</td>\n",
              "      <td>0.15</td>\n",
              "      <td>1</td>\n",
              "    </tr>\n",
              "    <tr>\n",
              "      <th>1</th>\n",
              "      <td>0</td>\n",
              "      <td>Ok lar... Joking wif u oni...</td>\n",
              "      <td>ok lar joke wif u oni</td>\n",
              "      <td>0.50</td>\n",
              "      <td>1</td>\n",
              "    </tr>\n",
              "    <tr>\n",
              "      <th>2</th>\n",
              "      <td>1</td>\n",
              "      <td>Free entry in 2 a wkly comp to win FA Cup fina...</td>\n",
              "      <td>free entri 2 wkli comp win fa cup final tkt 21...</td>\n",
              "      <td>0.30</td>\n",
              "      <td>1</td>\n",
              "    </tr>\n",
              "    <tr>\n",
              "      <th>3</th>\n",
              "      <td>0</td>\n",
              "      <td>U dun say so early hor... U c already then say...</td>\n",
              "      <td>u dun say earli hor u c alreadi say</td>\n",
              "      <td>0.10</td>\n",
              "      <td>1</td>\n",
              "    </tr>\n",
              "    <tr>\n",
              "      <th>4</th>\n",
              "      <td>0</td>\n",
              "      <td>Nah I don't think he goes to usf, he lives aro...</td>\n",
              "      <td>nah dont think goe usf live around though</td>\n",
              "      <td>0.00</td>\n",
              "      <td>1</td>\n",
              "    </tr>\n",
              "  </tbody>\n",
              "</table>\n",
              "</div>\n",
              "    <div class=\"colab-df-buttons\">\n",
              "\n",
              "  <div class=\"colab-df-container\">\n",
              "    <button class=\"colab-df-convert\" onclick=\"convertToInteractive('df-0edcfc1c-4911-4ca5-a999-44c38cf8a575')\"\n",
              "            title=\"Convert this dataframe to an interactive table.\"\n",
              "            style=\"display:none;\">\n",
              "\n",
              "  <svg xmlns=\"http://www.w3.org/2000/svg\" height=\"24px\" viewBox=\"0 -960 960 960\">\n",
              "    <path d=\"M120-120v-720h720v720H120Zm60-500h600v-160H180v160Zm220 220h160v-160H400v160Zm0 220h160v-160H400v160ZM180-400h160v-160H180v160Zm440 0h160v-160H620v160ZM180-180h160v-160H180v160Zm440 0h160v-160H620v160Z\"/>\n",
              "  </svg>\n",
              "    </button>\n",
              "\n",
              "  <style>\n",
              "    .colab-df-container {\n",
              "      display:flex;\n",
              "      gap: 12px;\n",
              "    }\n",
              "\n",
              "    .colab-df-convert {\n",
              "      background-color: #E8F0FE;\n",
              "      border: none;\n",
              "      border-radius: 50%;\n",
              "      cursor: pointer;\n",
              "      display: none;\n",
              "      fill: #1967D2;\n",
              "      height: 32px;\n",
              "      padding: 0 0 0 0;\n",
              "      width: 32px;\n",
              "    }\n",
              "\n",
              "    .colab-df-convert:hover {\n",
              "      background-color: #E2EBFA;\n",
              "      box-shadow: 0px 1px 2px rgba(60, 64, 67, 0.3), 0px 1px 3px 1px rgba(60, 64, 67, 0.15);\n",
              "      fill: #174EA6;\n",
              "    }\n",
              "\n",
              "    .colab-df-buttons div {\n",
              "      margin-bottom: 4px;\n",
              "    }\n",
              "\n",
              "    [theme=dark] .colab-df-convert {\n",
              "      background-color: #3B4455;\n",
              "      fill: #D2E3FC;\n",
              "    }\n",
              "\n",
              "    [theme=dark] .colab-df-convert:hover {\n",
              "      background-color: #434B5C;\n",
              "      box-shadow: 0px 1px 3px 1px rgba(0, 0, 0, 0.15);\n",
              "      filter: drop-shadow(0px 1px 2px rgba(0, 0, 0, 0.3));\n",
              "      fill: #FFFFFF;\n",
              "    }\n",
              "  </style>\n",
              "\n",
              "    <script>\n",
              "      const buttonEl =\n",
              "        document.querySelector('#df-0edcfc1c-4911-4ca5-a999-44c38cf8a575 button.colab-df-convert');\n",
              "      buttonEl.style.display =\n",
              "        google.colab.kernel.accessAllowed ? 'block' : 'none';\n",
              "\n",
              "      async function convertToInteractive(key) {\n",
              "        const element = document.querySelector('#df-0edcfc1c-4911-4ca5-a999-44c38cf8a575');\n",
              "        const dataTable =\n",
              "          await google.colab.kernel.invokeFunction('convertToInteractive',\n",
              "                                                    [key], {});\n",
              "        if (!dataTable) return;\n",
              "\n",
              "        const docLinkHtml = 'Like what you see? Visit the ' +\n",
              "          '<a target=\"_blank\" href=https://colab.research.google.com/notebooks/data_table.ipynb>data table notebook</a>'\n",
              "          + ' to learn more about interactive tables.';\n",
              "        element.innerHTML = '';\n",
              "        dataTable['output_type'] = 'display_data';\n",
              "        await google.colab.output.renderOutput(dataTable, element);\n",
              "        const docLink = document.createElement('div');\n",
              "        docLink.innerHTML = docLinkHtml;\n",
              "        element.appendChild(docLink);\n",
              "      }\n",
              "    </script>\n",
              "  </div>\n",
              "\n",
              "\n",
              "    <div id=\"df-2de5e7f0-7a4e-47ee-80ac-3ca3f922f752\">\n",
              "      <button class=\"colab-df-quickchart\" onclick=\"quickchart('df-2de5e7f0-7a4e-47ee-80ac-3ca3f922f752')\"\n",
              "                title=\"Suggest charts\"\n",
              "                style=\"display:none;\">\n",
              "\n",
              "<svg xmlns=\"http://www.w3.org/2000/svg\" height=\"24px\"viewBox=\"0 0 24 24\"\n",
              "     width=\"24px\">\n",
              "    <g>\n",
              "        <path d=\"M19 3H5c-1.1 0-2 .9-2 2v14c0 1.1.9 2 2 2h14c1.1 0 2-.9 2-2V5c0-1.1-.9-2-2-2zM9 17H7v-7h2v7zm4 0h-2V7h2v10zm4 0h-2v-4h2v4z\"/>\n",
              "    </g>\n",
              "</svg>\n",
              "      </button>\n",
              "\n",
              "<style>\n",
              "  .colab-df-quickchart {\n",
              "      --bg-color: #E8F0FE;\n",
              "      --fill-color: #1967D2;\n",
              "      --hover-bg-color: #E2EBFA;\n",
              "      --hover-fill-color: #174EA6;\n",
              "      --disabled-fill-color: #AAA;\n",
              "      --disabled-bg-color: #DDD;\n",
              "  }\n",
              "\n",
              "  [theme=dark] .colab-df-quickchart {\n",
              "      --bg-color: #3B4455;\n",
              "      --fill-color: #D2E3FC;\n",
              "      --hover-bg-color: #434B5C;\n",
              "      --hover-fill-color: #FFFFFF;\n",
              "      --disabled-bg-color: #3B4455;\n",
              "      --disabled-fill-color: #666;\n",
              "  }\n",
              "\n",
              "  .colab-df-quickchart {\n",
              "    background-color: var(--bg-color);\n",
              "    border: none;\n",
              "    border-radius: 50%;\n",
              "    cursor: pointer;\n",
              "    display: none;\n",
              "    fill: var(--fill-color);\n",
              "    height: 32px;\n",
              "    padding: 0;\n",
              "    width: 32px;\n",
              "  }\n",
              "\n",
              "  .colab-df-quickchart:hover {\n",
              "    background-color: var(--hover-bg-color);\n",
              "    box-shadow: 0 1px 2px rgba(60, 64, 67, 0.3), 0 1px 3px 1px rgba(60, 64, 67, 0.15);\n",
              "    fill: var(--button-hover-fill-color);\n",
              "  }\n",
              "\n",
              "  .colab-df-quickchart-complete:disabled,\n",
              "  .colab-df-quickchart-complete:disabled:hover {\n",
              "    background-color: var(--disabled-bg-color);\n",
              "    fill: var(--disabled-fill-color);\n",
              "    box-shadow: none;\n",
              "  }\n",
              "\n",
              "  .colab-df-spinner {\n",
              "    border: 2px solid var(--fill-color);\n",
              "    border-color: transparent;\n",
              "    border-bottom-color: var(--fill-color);\n",
              "    animation:\n",
              "      spin 1s steps(1) infinite;\n",
              "  }\n",
              "\n",
              "  @keyframes spin {\n",
              "    0% {\n",
              "      border-color: transparent;\n",
              "      border-bottom-color: var(--fill-color);\n",
              "      border-left-color: var(--fill-color);\n",
              "    }\n",
              "    20% {\n",
              "      border-color: transparent;\n",
              "      border-left-color: var(--fill-color);\n",
              "      border-top-color: var(--fill-color);\n",
              "    }\n",
              "    30% {\n",
              "      border-color: transparent;\n",
              "      border-left-color: var(--fill-color);\n",
              "      border-top-color: var(--fill-color);\n",
              "      border-right-color: var(--fill-color);\n",
              "    }\n",
              "    40% {\n",
              "      border-color: transparent;\n",
              "      border-right-color: var(--fill-color);\n",
              "      border-top-color: var(--fill-color);\n",
              "    }\n",
              "    60% {\n",
              "      border-color: transparent;\n",
              "      border-right-color: var(--fill-color);\n",
              "    }\n",
              "    80% {\n",
              "      border-color: transparent;\n",
              "      border-right-color: var(--fill-color);\n",
              "      border-bottom-color: var(--fill-color);\n",
              "    }\n",
              "    90% {\n",
              "      border-color: transparent;\n",
              "      border-bottom-color: var(--fill-color);\n",
              "    }\n",
              "  }\n",
              "</style>\n",
              "\n",
              "      <script>\n",
              "        async function quickchart(key) {\n",
              "          const quickchartButtonEl =\n",
              "            document.querySelector('#' + key + ' button');\n",
              "          quickchartButtonEl.disabled = true;  // To prevent multiple clicks.\n",
              "          quickchartButtonEl.classList.add('colab-df-spinner');\n",
              "          try {\n",
              "            const charts = await google.colab.kernel.invokeFunction(\n",
              "                'suggestCharts', [key], {});\n",
              "          } catch (error) {\n",
              "            console.error('Error during call to suggestCharts:', error);\n",
              "          }\n",
              "          quickchartButtonEl.classList.remove('colab-df-spinner');\n",
              "          quickchartButtonEl.classList.add('colab-df-quickchart-complete');\n",
              "        }\n",
              "        (() => {\n",
              "          let quickchartButtonEl =\n",
              "            document.querySelector('#df-2de5e7f0-7a4e-47ee-80ac-3ca3f922f752 button');\n",
              "          quickchartButtonEl.style.display =\n",
              "            google.colab.kernel.accessAllowed ? 'block' : 'none';\n",
              "        })();\n",
              "      </script>\n",
              "    </div>\n",
              "\n",
              "    </div>\n",
              "  </div>\n"
            ],
            "application/vnd.google.colaboratory.intrinsic+json": {
              "type": "dataframe",
              "variable_name": "df",
              "summary": "{\n  \"name\": \"df\",\n  \"rows\": 5572,\n  \"fields\": [\n    {\n      \"column\": \"label\",\n      \"properties\": {\n        \"dtype\": \"int32\",\n        \"num_unique_values\": 2,\n        \"samples\": [\n          1,\n          0\n        ],\n        \"semantic_type\": \"\",\n        \"description\": \"\"\n      }\n    },\n    {\n      \"column\": \"text\",\n      \"properties\": {\n        \"dtype\": \"string\",\n        \"num_unique_values\": 5169,\n        \"samples\": [\n          \"Did u download the fring app?\",\n          \"Pass dis to all ur contacts n see wat u get! Red;i'm in luv wid u. Blue;u put a smile on my face. Purple;u r realy hot. Pink;u r so swt. Orange;i thnk i lyk u. Green;i realy wana go out wid u. Yelow;i wnt u bck. Black;i'm jealous of u. Brown;i miss you Nw plz giv me one color\"\n        ],\n        \"semantic_type\": \"\",\n        \"description\": \"\"\n      }\n    },\n    {\n      \"column\": \"clean_text\",\n      \"properties\": {\n        \"dtype\": \"string\",\n        \"num_unique_values\": 5114,\n        \"samples\": [\n          \"wwwapplausestorecom monthlysubscription50pmsg max6month tcsc web age16 2stop txt stop\",\n          \"thank gener date brotha\"\n        ],\n        \"semantic_type\": \"\",\n        \"description\": \"\"\n      }\n    },\n    {\n      \"column\": \"polarity\",\n      \"properties\": {\n        \"dtype\": \"number\",\n        \"std\": 0.2917912602267438,\n        \"min\": -1.0,\n        \"max\": 1.0,\n        \"num_unique_values\": 693,\n        \"samples\": [\n          -0.55,\n          -0.03125\n        ],\n        \"semantic_type\": \"\",\n        \"description\": \"\"\n      }\n    },\n    {\n      \"column\": \"target\",\n      \"properties\": {\n        \"dtype\": \"number\",\n        \"std\": 0,\n        \"min\": 0,\n        \"max\": 1,\n        \"num_unique_values\": 2,\n        \"samples\": [\n          0,\n          1\n        ],\n        \"semantic_type\": \"\",\n        \"description\": \"\"\n      }\n    }\n  ]\n}"
            }
          },
          "metadata": {},
          "execution_count": 98
        }
      ]
    },
    {
      "cell_type": "code",
      "source": [
        "sns.boxplot(df['polarity'])"
      ],
      "metadata": {
        "colab": {
          "base_uri": "https://localhost:8080/",
          "height": 428
        },
        "id": "mSVEBGoEUa2m",
        "outputId": "9e77f294-2bc4-47fa-84c2-1f903b66ad1a"
      },
      "execution_count": null,
      "outputs": [
        {
          "output_type": "execute_result",
          "data": {
            "text/plain": [
              "<Axes: ylabel='polarity'>"
            ]
          },
          "metadata": {},
          "execution_count": 99
        },
        {
          "output_type": "display_data",
          "data": {
            "text/plain": [
              "<Figure size 640x480 with 1 Axes>"
            ],
            "image/png": "[encoded data removed]"
          },
          "metadata": {}
        }
      ]
    },
    {
      "cell_type": "code",
      "source": [
        "q1,q3 = df['polarity'].quantile([0.25,0.75])\n",
        "q1,q3\n",
        "\n",
        "IQR = q3 - q1\n",
        "\n",
        "min_= q1 - 1.5 * IQR\n",
        "max_= q3 + 1.5 * IQR\n",
        "\n",
        "min_, max_\n",
        "\n",
        "new_df = df[(df['polarity']>=min_)  & (df['polarity']<=max_)]\n",
        "\n",
        "new_df.head()"
      ],
      "metadata": {
        "colab": {
          "base_uri": "https://localhost:8080/",
          "height": 241
        },
        "id": "mpT3k6DOUhRx",
        "outputId": "3ce9e878-2d1c-490f-b72d-be8b20fe62e9"
      },
      "execution_count": null,
      "outputs": [
        {
          "output_type": "execute_result",
          "data": {
            "text/plain": [
              "   label                                               text  \\\n",
              "0      0  Go until jurong point, crazy.. Available only ...   \n",
              "1      0                      Ok lar... Joking wif u oni...   \n",
              "2      1  Free entry in 2 a wkly comp to win FA Cup fina...   \n",
              "3      0  U dun say so early hor... U c already then say...   \n",
              "4      0  Nah I don't think he goes to usf, he lives aro...   \n",
              "\n",
              "                                          clean_text  polarity  target  \n",
              "0  go jurong point crazi avail bugi n great world...      0.15       1  \n",
              "1                              ok lar joke wif u oni      0.50       1  \n",
              "2  free entri 2 wkli comp win fa cup final tkt 21...      0.30       1  \n",
              "3                u dun say earli hor u c alreadi say      0.10       1  \n",
              "4          nah dont think goe usf live around though      0.00       1  "
            ],
            "text/html": [
              "\n",
              "  <div id=\"df-9c9a5223-43f4-451a-a5e8-64dc66c1c34e\" class=\"colab-df-container\">\n",
              "    <div>\n",
              "<style scoped>\n",
              "    .dataframe tbody tr th:only-of-type {\n",
              "        vertical-align: middle;\n",
              "    }\n",
              "\n",
              "    .dataframe tbody tr th {\n",
              "        vertical-align: top;\n",
              "    }\n",
              "\n",
              "    .dataframe thead th {\n",
              "        text-align: right;\n",
              "    }\n",
              "</style>\n",
              "<table border=\"1\" class=\"dataframe\">\n",
              "  <thead>\n",
              "    <tr style=\"text-align: right;\">\n",
              "      <th></th>\n",
              "      <th>label</th>\n",
              "      <th>text</th>\n",
              "      <th>clean_text</th>\n",
              "      <th>polarity</th>\n",
              "      <th>target</th>\n",
              "    </tr>\n",
              "  </thead>\n",
              "  <tbody>\n",
              "    <tr>\n",
              "      <th>0</th>\n",
              "      <td>0</td>\n",
              "      <td>Go until jurong point, crazy.. Available only ...</td>\n",
              "      <td>go jurong point crazi avail bugi n great world...</td>\n",
              "      <td>0.15</td>\n",
              "      <td>1</td>\n",
              "    </tr>\n",
              "    <tr>\n",
              "      <th>1</th>\n",
              "      <td>0</td>\n",
              "      <td>Ok lar... Joking wif u oni...</td>\n",
              "      <td>ok lar joke wif u oni</td>\n",
              "      <td>0.50</td>\n",
              "      <td>1</td>\n",
              "    </tr>\n",
              "    <tr>\n",
              "      <th>2</th>\n",
              "      <td>1</td>\n",
              "      <td>Free entry in 2 a wkly comp to win FA Cup fina...</td>\n",
              "      <td>free entri 2 wkli comp win fa cup final tkt 21...</td>\n",
              "      <td>0.30</td>\n",
              "      <td>1</td>\n",
              "    </tr>\n",
              "    <tr>\n",
              "      <th>3</th>\n",
              "      <td>0</td>\n",
              "      <td>U dun say so early hor... U c already then say...</td>\n",
              "      <td>u dun say earli hor u c alreadi say</td>\n",
              "      <td>0.10</td>\n",
              "      <td>1</td>\n",
              "    </tr>\n",
              "    <tr>\n",
              "      <th>4</th>\n",
              "      <td>0</td>\n",
              "      <td>Nah I don't think he goes to usf, he lives aro...</td>\n",
              "      <td>nah dont think goe usf live around though</td>\n",
              "      <td>0.00</td>\n",
              "      <td>1</td>\n",
              "    </tr>\n",
              "  </tbody>\n",
              "</table>\n",
              "</div>\n",
              "    <div class=\"colab-df-buttons\">\n",
              "\n",
              "  <div class=\"colab-df-container\">\n",
              "    <button class=\"colab-df-convert\" onclick=\"convertToInteractive('df-9c9a5223-43f4-451a-a5e8-64dc66c1c34e')\"\n",
              "            title=\"Convert this dataframe to an interactive table.\"\n",
              "            style=\"display:none;\">\n",
              "\n",
              "  <svg xmlns=\"http://www.w3.org/2000/svg\" height=\"24px\" viewBox=\"0 -960 960 960\">\n",
              "    <path d=\"M120-120v-720h720v720H120Zm60-500h600v-160H180v160Zm220 220h160v-160H400v160Zm0 220h160v-160H400v160ZM180-400h160v-160H180v160Zm440 0h160v-160H620v160ZM180-180h160v-160H180v160Zm440 0h160v-160H620v160Z\"/>\n",
              "  </svg>\n",
              "    </button>\n",
              "\n",
              "  <style>\n",
              "    .colab-df-container {\n",
              "      display:flex;\n",
              "      gap: 12px;\n",
              "    }\n",
              "\n",
              "    .colab-df-convert {\n",
              "      background-color: #E8F0FE;\n",
              "      border: none;\n",
              "      border-radius: 50%;\n",
              "      cursor: pointer;\n",
              "      display: none;\n",
              "      fill: #1967D2;\n",
              "      height: 32px;\n",
              "      padding: 0 0 0 0;\n",
              "      width: 32px;\n",
              "    }\n",
              "\n",
              "    .colab-df-convert:hover {\n",
              "      background-color: #E2EBFA;\n",
              "      box-shadow: 0px 1px 2px rgba(60, 64, 67, 0.3), 0px 1px 3px 1px rgba(60, 64, 67, 0.15);\n",
              "      fill: #174EA6;\n",
              "    }\n",
              "\n",
              "    .colab-df-buttons div {\n",
              "      margin-bottom: 4px;\n",
              "    }\n",
              "\n",
              "    [theme=dark] .colab-df-convert {\n",
              "      background-color: #3B4455;\n",
              "      fill: #D2E3FC;\n",
              "    }\n",
              "\n",
              "    [theme=dark] .colab-df-convert:hover {\n",
              "      background-color: #434B5C;\n",
              "      box-shadow: 0px 1px 3px 1px rgba(0, 0, 0, 0.15);\n",
              "      filter: drop-shadow(0px 1px 2px rgba(0, 0, 0, 0.3));\n",
              "      fill: #FFFFFF;\n",
              "    }\n",
              "  </style>\n",
              "\n",
              "    <script>\n",
              "      const buttonEl =\n",
              "        document.querySelector('#df-9c9a5223-43f4-451a-a5e8-64dc66c1c34e button.colab-df-convert');\n",
              "      buttonEl.style.display =\n",
              "        google.colab.kernel.accessAllowed ? 'block' : 'none';\n",
              "\n",
              "      async function convertToInteractive(key) {\n",
              "        const element = document.querySelector('#df-9c9a5223-43f4-451a-a5e8-64dc66c1c34e');\n",
              "        const dataTable =\n",
              "          await google.colab.kernel.invokeFunction('convertToInteractive',\n",
              "                                                    [key], {});\n",
              "        if (!dataTable) return;\n",
              "\n",
              "        const docLinkHtml = 'Like what you see? Visit the ' +\n",
              "          '<a target=\"_blank\" href=https://colab.research.google.com/notebooks/data_table.ipynb>data table notebook</a>'\n",
              "          + ' to learn more about interactive tables.';\n",
              "        element.innerHTML = '';\n",
              "        dataTable['output_type'] = 'display_data';\n",
              "        await google.colab.output.renderOutput(dataTable, element);\n",
              "        const docLink = document.createElement('div');\n",
              "        docLink.innerHTML = docLinkHtml;\n",
              "        element.appendChild(docLink);\n",
              "      }\n",
              "    </script>\n",
              "  </div>\n",
              "\n",
              "\n",
              "    <div id=\"df-665565ae-6f50-4fcb-b098-2e89c3aee264\">\n",
              "      <button class=\"colab-df-quickchart\" onclick=\"quickchart('df-665565ae-6f50-4fcb-b098-2e89c3aee264')\"\n",
              "                title=\"Suggest charts\"\n",
              "                style=\"display:none;\">\n",
              "\n",
              "<svg xmlns=\"http://www.w3.org/2000/svg\" height=\"24px\"viewBox=\"0 0 24 24\"\n",
              "     width=\"24px\">\n",
              "    <g>\n",
              "        <path d=\"M19 3H5c-1.1 0-2 .9-2 2v14c0 1.1.9 2 2 2h14c1.1 0 2-.9 2-2V5c0-1.1-.9-2-2-2zM9 17H7v-7h2v7zm4 0h-2V7h2v10zm4 0h-2v-4h2v4z\"/>\n",
              "    </g>\n",
              "</svg>\n",
              "      </button>\n",
              "\n",
              "<style>\n",
              "  .colab-df-quickchart {\n",
              "      --bg-color: #E8F0FE;\n",
              "      --fill-color: #1967D2;\n",
              "      --hover-bg-color: #E2EBFA;\n",
              "      --hover-fill-color: #174EA6;\n",
              "      --disabled-fill-color: #AAA;\n",
              "      --disabled-bg-color: #DDD;\n",
              "  }\n",
              "\n",
              "  [theme=dark] .colab-df-quickchart {\n",
              "      --bg-color: #3B4455;\n",
              "      --fill-color: #D2E3FC;\n",
              "      --hover-bg-color: #434B5C;\n",
              "      --hover-fill-color: #FFFFFF;\n",
              "      --disabled-bg-color: #3B4455;\n",
              "      --disabled-fill-color: #666;\n",
              "  }\n",
              "\n",
              "  .colab-df-quickchart {\n",
              "    background-color: var(--bg-color);\n",
              "    border: none;\n",
              "    border-radius: 50%;\n",
              "    cursor: pointer;\n",
              "    display: none;\n",
              "    fill: var(--fill-color);\n",
              "    height: 32px;\n",
              "    padding: 0;\n",
              "    width: 32px;\n",
              "  }\n",
              "\n",
              "  .colab-df-quickchart:hover {\n",
              "    background-color: var(--hover-bg-color);\n",
              "    box-shadow: 0 1px 2px rgba(60, 64, 67, 0.3), 0 1px 3px 1px rgba(60, 64, 67, 0.15);\n",
              "    fill: var(--button-hover-fill-color);\n",
              "  }\n",
              "\n",
              "  .colab-df-quickchart-complete:disabled,\n",
              "  .colab-df-quickchart-complete:disabled:hover {\n",
              "    background-color: var(--disabled-bg-color);\n",
              "    fill: var(--disabled-fill-color);\n",
              "    box-shadow: none;\n",
              "  }\n",
              "\n",
              "  .colab-df-spinner {\n",
              "    border: 2px solid var(--fill-color);\n",
              "    border-color: transparent;\n",
              "    border-bottom-color: var(--fill-color);\n",
              "    animation:\n",
              "      spin 1s steps(1) infinite;\n",
              "  }\n",
              "\n",
              "  @keyframes spin {\n",
              "    0% {\n",
              "      border-color: transparent;\n",
              "      border-bottom-color: var(--fill-color);\n",
              "      border-left-color: var(--fill-color);\n",
              "    }\n",
              "    20% {\n",
              "      border-color: transparent;\n",
              "      border-left-color: var(--fill-color);\n",
              "      border-top-color: var(--fill-color);\n",
              "    }\n",
              "    30% {\n",
              "      border-color: transparent;\n",
              "      border-left-color: var(--fill-color);\n",
              "      border-top-color: var(--fill-color);\n",
              "      border-right-color: var(--fill-color);\n",
              "    }\n",
              "    40% {\n",
              "      border-color: transparent;\n",
              "      border-right-color: var(--fill-color);\n",
              "      border-top-color: var(--fill-color);\n",
              "    }\n",
              "    60% {\n",
              "      border-color: transparent;\n",
              "      border-right-color: var(--fill-color);\n",
              "    }\n",
              "    80% {\n",
              "      border-color: transparent;\n",
              "      border-right-color: var(--fill-color);\n",
              "      border-bottom-color: var(--fill-color);\n",
              "    }\n",
              "    90% {\n",
              "      border-color: transparent;\n",
              "      border-bottom-color: var(--fill-color);\n",
              "    }\n",
              "  }\n",
              "</style>\n",
              "\n",
              "      <script>\n",
              "        async function quickchart(key) {\n",
              "          const quickchartButtonEl =\n",
              "            document.querySelector('#' + key + ' button');\n",
              "          quickchartButtonEl.disabled = true;  // To prevent multiple clicks.\n",
              "          quickchartButtonEl.classList.add('colab-df-spinner');\n",
              "          try {\n",
              "            const charts = await google.colab.kernel.invokeFunction(\n",
              "                'suggestCharts', [key], {});\n",
              "          } catch (error) {\n",
              "            console.error('Error during call to suggestCharts:', error);\n",
              "          }\n",
              "          quickchartButtonEl.classList.remove('colab-df-spinner');\n",
              "          quickchartButtonEl.classList.add('colab-df-quickchart-complete');\n",
              "        }\n",
              "        (() => {\n",
              "          let quickchartButtonEl =\n",
              "            document.querySelector('#df-665565ae-6f50-4fcb-b098-2e89c3aee264 button');\n",
              "          quickchartButtonEl.style.display =\n",
              "            google.colab.kernel.accessAllowed ? 'block' : 'none';\n",
              "        })();\n",
              "      </script>\n",
              "    </div>\n",
              "\n",
              "    </div>\n",
              "  </div>\n"
            ],
            "application/vnd.google.colaboratory.intrinsic+json": {
              "type": "dataframe",
              "variable_name": "new_df",
              "summary": "{\n  \"name\": \"new_df\",\n  \"rows\": 5243,\n  \"fields\": [\n    {\n      \"column\": \"label\",\n      \"properties\": {\n        \"dtype\": \"int32\",\n        \"num_unique_values\": 2,\n        \"samples\": [\n          1,\n          0\n        ],\n        \"semantic_type\": \"\",\n        \"description\": \"\"\n      }\n    },\n    {\n      \"column\": \"text\",\n      \"properties\": {\n        \"dtype\": \"string\",\n        \"num_unique_values\": 4862,\n        \"samples\": [\n          \"Guess who am I?This is the first time I created a web page WWW.ASJESUS.COM read all I wrote. I'm waiting for your opinions. I want to be your friend 1/1\",\n          \"For The First Time In The History 'Need' 'Comfort' And 'Luxury' Are Sold At Same Price In India..!! Onion-Rs. &lt;#&gt;  Petrol-Rs. &lt;#&gt;  Beer-Rs. &lt;#&gt;  SHESIL  &lt;#&gt;\"\n        ],\n        \"semantic_type\": \"\",\n        \"description\": \"\"\n      }\n    },\n    {\n      \"column\": \"clean_text\",\n      \"properties\": {\n        \"dtype\": \"string\",\n        \"num_unique_values\": 4810,\n        \"samples\": [\n          \"kthen special\",\n          \"that fine give call know want question\"\n        ],\n        \"semantic_type\": \"\",\n        \"description\": \"\"\n      }\n    },\n    {\n      \"column\": \"polarity\",\n      \"properties\": {\n        \"dtype\": \"number\",\n        \"std\": 0.2344399752409015,\n        \"min\": -0.453125,\n        \"max\": 0.75,\n        \"num_unique_values\": 649,\n        \"samples\": [\n          0.2816666666666667,\n          0.4055555555555556\n        ],\n        \"semantic_type\": \"\",\n        \"description\": \"\"\n      }\n    },\n    {\n      \"column\": \"target\",\n      \"properties\": {\n        \"dtype\": \"number\",\n        \"std\": 0,\n        \"min\": 0,\n        \"max\": 1,\n        \"num_unique_values\": 2,\n        \"samples\": [\n          0,\n          1\n        ],\n        \"semantic_type\": \"\",\n        \"description\": \"\"\n      }\n    }\n  ]\n}"
            }
          },
          "metadata": {},
          "execution_count": 100
        }
      ]
    },
    {
      "cell_type": "code",
      "source": [
        "df.shape,new_df.shape"
      ],
      "metadata": {
        "colab": {
          "base_uri": "https://localhost:8080/"
        },
        "id": "LWJrdcxXUn-z",
        "outputId": "5693d543-ac51-4735-d6d4-dc8a6493d675"
      },
      "execution_count": null,
      "outputs": [
        {
          "output_type": "execute_result",
          "data": {
            "text/plain": [
              "((5572, 5), (5243, 5))"
            ]
          },
          "metadata": {},
          "execution_count": 101
        }
      ]
    },
    {
      "cell_type": "code",
      "source": [
        "sns.boxplot(new_df['polarity'])"
      ],
      "metadata": {
        "colab": {
          "base_uri": "https://localhost:8080/",
          "height": 431
        },
        "id": "_D9chQRXUzFJ",
        "outputId": "5c5d1af7-78b9-465b-c5b9-b08233ab660f"
      },
      "execution_count": null,
      "outputs": [
        {
          "output_type": "execute_result",
          "data": {
            "text/plain": [
              "<Axes: ylabel='polarity'>"
            ]
          },
          "metadata": {},
          "execution_count": 102
        },
        {
          "output_type": "display_data",
          "data": {
            "text/plain": [
              "<Figure size 640x480 with 1 Axes>"
            ],
            "image/png": "[encoded data removed]"
          },
          "metadata": {}
        }
      ]
    },
    {
      "cell_type": "code",
      "source": [
        "from scipy.stats import ttest_ind\n",
        "\n",
        "group_a = new_df[new_df['label'] == 1]['polarity']\n",
        "group_b = new_df[new_df['label'] == 0]['polarity']\n",
        "\n",
        "# Apply t-test\n",
        "t_stat, p_value = ttest_ind(group_a, group_b)\n",
        "\n",
        "print(f\"T-statistic: {t_stat:.3f}, P-value: {p_value:.3f}\")\n",
        "\n",
        "# Interpretation\n",
        "alpha = 0.05\n",
        "if p_value < alpha:\n",
        "    print(\"Reject the null hypothesis: Significant difference in sentiment.\")\n",
        "else:\n",
        "    print(\"Fail to reject the null hypothesis: No significant difference.\")"
      ],
      "metadata": {
        "colab": {
          "base_uri": "https://localhost:8080/"
        },
        "id": "KEWGqlvtU6uN",
        "outputId": "077acb2f-f1c9-428a-e9f5-91fb29065c98"
      },
      "execution_count": null,
      "outputs": [
        {
          "output_type": "stream",
          "name": "stdout",
          "text": [
            "T-statistic: 6.691, P-value: 0.000\n",
            "Reject the null hypothesis: Significant difference in sentiment.\n"
          ]
        }
      ]
    },
    {
      "cell_type": "code",
      "source": [
        "from scipy.stats import ttest_ind\n",
        "\n",
        "group_a = new_df[new_df['target'] == 1]['polarity']\n",
        "group_b = new_df[new_df['target'] == 0]['polarity']\n",
        "\n",
        "# Apply t-test\n",
        "t_stat, p_value = ttest_ind(group_a, group_b)\n",
        "\n",
        "print(f\"T-statistic: {t_stat:.3f}, P-value: {p_value:.3f}\")\n",
        "\n",
        "# Interpretation\n",
        "alpha = 0.05\n",
        "if p_value < alpha:\n",
        "    print(\"Reject the null hypothesis: Significant difference in sentiment.\")\n",
        "else:\n",
        "    print(\"Fail to reject the null hypothesis: No significant difference.\")"
      ],
      "metadata": {
        "colab": {
          "base_uri": "https://localhost:8080/"
        },
        "id": "6GVzDnTcVMuD",
        "outputId": "8be01f57-7ef0-41dd-c9f9-de4ef0ff4eb7"
      },
      "execution_count": null,
      "outputs": [
        {
          "output_type": "stream",
          "name": "stdout",
          "text": [
            "T-statistic: 42.475, P-value: 0.000\n",
            "Reject the null hypothesis: Significant difference in sentiment.\n"
          ]
        }
      ]
    },
    {
      "cell_type": "code",
      "source": [
        "# For Splitting the dataset\n",
        "from sklearn.model_selection import train_test_split\n",
        "\n",
        "#Accuracy measuring library\n",
        "from sklearn.metrics import accuracy_score, confusion_matrix,classification_report,f1_score ,precision_score,recall_score ,roc_auc_score\n",
        "\n",
        "# Vectorization technique TF-IDF or CountVectorizer\n",
        "from sklearn.feature_extraction.text import TfidfVectorizer\n",
        "from sklearn.feature_extraction.text import CountVectorizer\n",
        "\n",
        "# Model libraries\n",
        "from sklearn.linear_model import LogisticRegression\n",
        "from sklearn.svm import SVC\n",
        "from sklearn.ensemble import RandomForestClassifier\n",
        "from sklearn.naive_bayes import MultinomialNB\n",
        "from sklearn.neighbors import KNeighborsClassifier\n",
        "\n",
        "# sklearn Pipeline\n",
        "from sklearn.pipeline import Pipeline\n",
        "\n",
        "from imblearn.pipeline import Pipeline as ImbPipeline"
      ],
      "metadata": {
        "id": "S1MzJwF2Vyxr"
      },
      "execution_count": 20,
      "outputs": []
    },
    {
      "cell_type": "code",
      "source": [
        "X_train, X_test, y_train, y_test = train_test_split(df['clean_text'], df['label'], test_size=0.2, random_state=42,stratify=df['label'])"
      ],
      "metadata": {
        "id": "EK5evwkLVuSu"
      },
      "execution_count": 24,
      "outputs": []
    },
    {
      "cell_type": "code",
      "source": [
        "X_train.shape,y_train.shape"
      ],
      "metadata": {
        "colab": {
          "base_uri": "https://localhost:8080/"
        },
        "id": "H5BZS5WRWzwC",
        "outputId": "7d854fa3-f522-4f4f-e109-6d8baa649b7c"
      },
      "execution_count": 25,
      "outputs": [
        {
          "output_type": "execute_result",
          "data": {
            "text/plain": [
              "((4457,), (4457,))"
            ]
          },
          "metadata": {},
          "execution_count": 25
        }
      ]
    },
    {
      "cell_type": "code",
      "source": [
        "X_test.shape,y_test.shape"
      ],
      "metadata": {
        "colab": {
          "base_uri": "https://localhost:8080/"
        },
        "id": "gkmO4pNBW3Z0",
        "outputId": "ade9178b-9408-4a79-aa4f-b62467cc53e6"
      },
      "execution_count": 26,
      "outputs": [
        {
          "output_type": "execute_result",
          "data": {
            "text/plain": [
              "((1115,), (1115,))"
            ]
          },
          "metadata": {},
          "execution_count": 26
        }
      ]
    },
    {
      "cell_type": "code",
      "source": [
        "vectorizer = TfidfVectorizer(stop_words='english', max_features=5000)\n",
        "X_train_vec = vectorizer.fit_transform(X_train)\n",
        "X_test_vec = vectorizer.transform(X_test)"
      ],
      "metadata": {
        "id": "N-D-0OrrXBWJ"
      },
      "execution_count": 30,
      "outputs": []
    },
    {
      "cell_type": "markdown",
      "source": [
        "# 🧠 Part 1: Machine Learning Model – Logistic Regression\n",
        "✅ Train Model with Regularization and Cross Validation"
      ],
      "metadata": {
        "id": "6uyqLqixXVO0"
      }
    },
    {
      "cell_type": "code",
      "source": [
        "from sklearn.linear_model import LogisticRegressionCV\n",
        "\n",
        "lr = LogisticRegressionCV(cv=5, penalty='l2', scoring='accuracy', max_iter=1000)\n",
        "lr.fit(X_train_vec, y_train)\n",
        "\n",
        "y_pred = lr.predict(X_test_vec)\n",
        "print(classification_report(y_test, y_pred))\n",
        "print(\"ROC AUC:\", roc_auc_score(y_test, lr.predict_proba(X_test_vec)[:, 1]))\n"
      ],
      "metadata": {
        "colab": {
          "base_uri": "https://localhost:8080/"
        },
        "id": "aolGf8obXYQ-",
        "outputId": "790c37ad-c61e-4120-8c32-74b56758541d"
      },
      "execution_count": null,
      "outputs": [
        {
          "output_type": "stream",
          "name": "stdout",
          "text": [
            "              precision    recall  f1-score   support\n",
            "\n",
            "           0       0.98      0.99      0.99       966\n",
            "           1       0.96      0.90      0.93       149\n",
            "\n",
            "    accuracy                           0.98      1115\n",
            "   macro avg       0.97      0.95      0.96      1115\n",
            "weighted avg       0.98      0.98      0.98      1115\n",
            "\n",
            "ROC AUC: 0.9836939152667195\n"
          ]
        }
      ]
    },
    {
      "cell_type": "code",
      "source": [
        "lr.fit(X_train_smote_tomek, y_train_smote_tomek)\n",
        "\n",
        "y_pred = lr.predict(X_test_vec)\n",
        "print(classification_report(y_test, y_pred))\n",
        "print(\"ROC AUC:\", roc_auc_score(y_test, lr.predict_proba(X_test_vec)[:, 1]))"
      ],
      "metadata": {
        "colab": {
          "base_uri": "https://localhost:8080/"
        },
        "id": "Pr67DnPab2NK",
        "outputId": "0c44d0cd-3e5c-4885-8a04-f77f4d707536"
      },
      "execution_count": null,
      "outputs": [
        {
          "output_type": "stream",
          "name": "stdout",
          "text": [
            "              precision    recall  f1-score   support\n",
            "\n",
            "           0       0.98      0.99      0.99       966\n",
            "           1       0.96      0.90      0.93       149\n",
            "\n",
            "    accuracy                           0.98      1115\n",
            "   macro avg       0.97      0.95      0.96      1115\n",
            "weighted avg       0.98      0.98      0.98      1115\n",
            "\n",
            "ROC AUC: 0.9835271721761363\n"
          ]
        }
      ]
    },
    {
      "cell_type": "markdown",
      "source": [
        "# 🧠 Part 2: Deep Learning Model – Keras (Dense NN)\n",
        "✅ Deep Learning with Dropout & Early Stopping"
      ],
      "metadata": {
        "id": "3Qp4bp4RXnTe"
      }
    },
    {
      "cell_type": "code",
      "source": [
        "from keras.models import Sequential\n",
        "from keras.layers import Dense, Dropout\n",
        "from keras.callbacks import EarlyStopping\n",
        "from sklearn.preprocessing import LabelBinarizer\n",
        "\n",
        "X_train_dl = X_train_vec.toarray()\n",
        "X_test_dl = X_test_vec.toarray()\n",
        "\n",
        "model = Sequential()\n",
        "model.add(Dense(128, activation='relu', input_shape=(X_train_dl.shape[1],)))\n",
        "model.add(Dropout(0.4))  # Prevent overfitting\n",
        "model.add(Dense(64, activation='relu'))\n",
        "model.add(Dropout(0.3))\n",
        "model.add(Dense(32, activation='relu'))\n",
        "model.add(Dropout(0.2))\n",
        "model.add(Dense(1, activation='sigmoid'))\n",
        "\n",
        "model.compile(loss='binary_crossentropy', optimizer='adam', metrics=['accuracy'])\n",
        "\n",
        "early_stop = EarlyStopping(monitor='val_loss', patience=3, restore_best_weights=True)\n",
        "history = model.fit(X_train_dl, y_train, epochs=15, batch_size=32,\n",
        "                    validation_split=0.2, callbacks=[early_stop])\n"
      ],
      "metadata": {
        "colab": {
          "base_uri": "https://localhost:8080/"
        },
        "id": "z0ITUWz0Xpum",
        "outputId": "fc347420-432e-4ea5-bbda-600e2bf68ed1"
      },
      "execution_count": null,
      "outputs": [
        {
          "output_type": "stream",
          "name": "stderr",
          "text": [
            "/usr/local/lib/python3.11/dist-packages/keras/src/layers/core/dense.py:87: UserWarning: Do not pass an `input_shape`/`input_dim` argument to a layer. When using Sequential models, prefer using an `Input(shape)` object as the first layer in the model instead.\n",
            "  super().__init__(activity_regularizer=activity_regularizer, **kwargs)\n"
          ]
        },
        {
          "output_type": "stream",
          "name": "stdout",
          "text": [
            "Epoch 1/15\n",
            "\u001b[1m112/112\u001b[0m \u001b[32m━━━━━━━━━━━━━━━━━━━━\u001b[0m\u001b[37m\u001b[0m \u001b[1m7s\u001b[0m 30ms/step - accuracy: 0.8723 - loss: 0.4885 - val_accuracy: 0.8430 - val_loss: 0.2074\n",
            "Epoch 2/15\n",
            "\u001b[1m112/112\u001b[0m \u001b[32m━━━━━━━━━━━━━━━━━━━━\u001b[0m\u001b[37m\u001b[0m \u001b[1m2s\u001b[0m 17ms/step - accuracy: 0.9362 - loss: 0.1188 - val_accuracy: 0.9765 - val_loss: 0.1003\n",
            "Epoch 3/15\n",
            "\u001b[1m112/112\u001b[0m \u001b[32m━━━━━━━━━━━━━━━━━━━━\u001b[0m\u001b[37m\u001b[0m \u001b[1m1s\u001b[0m 11ms/step - accuracy: 0.9919 - loss: 0.0271 - val_accuracy: 0.9709 - val_loss: 0.1376\n",
            "Epoch 4/15\n",
            "\u001b[1m112/112\u001b[0m \u001b[32m━━━━━━━━━━━━━━━━━━━━\u001b[0m\u001b[37m\u001b[0m \u001b[1m1s\u001b[0m 10ms/step - accuracy: 0.9960 - loss: 0.0105 - val_accuracy: 0.9720 - val_loss: 0.1466\n",
            "Epoch 5/15\n",
            "\u001b[1m112/112\u001b[0m \u001b[32m━━━━━━━━━━━━━━━━━━━━\u001b[0m\u001b[37m\u001b[0m \u001b[1m1s\u001b[0m 10ms/step - accuracy: 0.9995 - loss: 0.0039 - val_accuracy: 0.9765 - val_loss: 0.1313\n"
          ]
        }
      ]
    },
    {
      "cell_type": "code",
      "source": [
        "# X_train_dl = X_train_smote_tomek.toarray()\n",
        "# X_test_dl = X_test_vec.toarray()\n",
        "\n",
        "model = Sequential()\n",
        "model.add(Dense(128, activation='relu', input_shape=(X_train_dl.shape[1],)))\n",
        "model.add(Dropout(0.4))  # Prevent overfitting\n",
        "model.add(Dense(64, activation='relu'))\n",
        "model.add(Dropout(0.3))\n",
        "model.add(Dense(32, activation='relu'))\n",
        "model.add(Dropout(0.2))\n",
        "model.add(Dense(1, activation='sigmoid'))\n",
        "\n",
        "model.compile(loss='binary_crossentropy', optimizer='adam', metrics=['accuracy'])\n",
        "\n",
        "early_stop = EarlyStopping(monitor='val_loss', patience=3, restore_best_weights=True)\n",
        "history = model.fit(X_train_smote_tomek, y_train_smote_tomek, epochs=15, batch_size=32,\n",
        "                    validation_split=0.2, callbacks=[early_stop])"
      ],
      "metadata": {
        "colab": {
          "base_uri": "https://localhost:8080/"
        },
        "id": "J-iBdXa4cgMi",
        "outputId": "a48a152c-2491-4ffb-da8e-1396dac9c420"
      },
      "execution_count": null,
      "outputs": [
        {
          "output_type": "stream",
          "name": "stderr",
          "text": [
            "/usr/local/lib/python3.11/dist-packages/keras/src/layers/core/dense.py:87: UserWarning: Do not pass an `input_shape`/`input_dim` argument to a layer. When using Sequential models, prefer using an `Input(shape)` object as the first layer in the model instead.\n",
            "  super().__init__(activity_regularizer=activity_regularizer, **kwargs)\n"
          ]
        },
        {
          "output_type": "stream",
          "name": "stdout",
          "text": [
            "Epoch 1/15\n",
            "\u001b[1m193/193\u001b[0m \u001b[32m━━━━━━━━━━━━━━━━━━━━\u001b[0m\u001b[37m\u001b[0m \u001b[1m5s\u001b[0m 12ms/step - accuracy: 0.7579 - loss: 0.4431 - val_accuracy: 0.9961 - val_loss: 0.0141\n",
            "Epoch 2/15\n",
            "\u001b[1m193/193\u001b[0m \u001b[32m━━━━━━━━━━━━━━━━━━━━\u001b[0m\u001b[37m\u001b[0m \u001b[1m3s\u001b[0m 15ms/step - accuracy: 0.9951 - loss: 0.0162 - val_accuracy: 0.9955 - val_loss: 0.0134\n",
            "Epoch 3/15\n",
            "\u001b[1m193/193\u001b[0m \u001b[32m━━━━━━━━━━━━━━━━━━━━\u001b[0m\u001b[37m\u001b[0m \u001b[1m3s\u001b[0m 14ms/step - accuracy: 0.9987 - loss: 0.0061 - val_accuracy: 1.0000 - val_loss: 1.8574e-04\n",
            "Epoch 4/15\n",
            "\u001b[1m193/193\u001b[0m \u001b[32m━━━━━━━━━━━━━━━━━━━━\u001b[0m\u001b[37m\u001b[0m \u001b[1m4s\u001b[0m 10ms/step - accuracy: 0.9990 - loss: 0.0026 - val_accuracy: 1.0000 - val_loss: 5.8205e-04\n",
            "Epoch 5/15\n",
            "\u001b[1m193/193\u001b[0m \u001b[32m━━━━━━━━━━━━━━━━━━━━\u001b[0m\u001b[37m\u001b[0m \u001b[1m3s\u001b[0m 10ms/step - accuracy: 0.9999 - loss: 9.6123e-04 - val_accuracy: 1.0000 - val_loss: 1.1176e-04\n",
            "Epoch 6/15\n",
            "\u001b[1m193/193\u001b[0m \u001b[32m━━━━━━━━━━━━━━━━━━━━\u001b[0m\u001b[37m\u001b[0m \u001b[1m2s\u001b[0m 10ms/step - accuracy: 1.0000 - loss: 3.0118e-04 - val_accuracy: 1.0000 - val_loss: 7.5077e-05\n",
            "Epoch 7/15\n",
            "\u001b[1m193/193\u001b[0m \u001b[32m━━━━━━━━━━━━━━━━━━━━\u001b[0m\u001b[37m\u001b[0m \u001b[1m3s\u001b[0m 14ms/step - accuracy: 1.0000 - loss: 1.6114e-04 - val_accuracy: 1.0000 - val_loss: 2.3674e-05\n",
            "Epoch 8/15\n",
            "\u001b[1m193/193\u001b[0m \u001b[32m━━━━━━━━━━━━━━━━━━━━\u001b[0m\u001b[37m\u001b[0m \u001b[1m3s\u001b[0m 14ms/step - accuracy: 1.0000 - loss: 1.0864e-04 - val_accuracy: 1.0000 - val_loss: 2.1244e-05\n",
            "Epoch 9/15\n",
            "\u001b[1m193/193\u001b[0m \u001b[32m━━━━━━━━━━━━━━━━━━━━\u001b[0m\u001b[37m\u001b[0m \u001b[1m2s\u001b[0m 11ms/step - accuracy: 1.0000 - loss: 1.3150e-04 - val_accuracy: 1.0000 - val_loss: 1.1458e-05\n",
            "Epoch 10/15\n",
            "\u001b[1m193/193\u001b[0m \u001b[32m━━━━━━━━━━━━━━━━━━━━\u001b[0m\u001b[37m\u001b[0m \u001b[1m3s\u001b[0m 11ms/step - accuracy: 1.0000 - loss: 1.3999e-04 - val_accuracy: 1.0000 - val_loss: 3.8366e-05\n",
            "Epoch 11/15\n",
            "\u001b[1m193/193\u001b[0m \u001b[32m━━━━━━━━━━━━━━━━━━━━\u001b[0m\u001b[37m\u001b[0m \u001b[1m2s\u001b[0m 10ms/step - accuracy: 1.0000 - loss: 8.2724e-05 - val_accuracy: 1.0000 - val_loss: 1.0482e-04\n",
            "Epoch 12/15\n",
            "\u001b[1m193/193\u001b[0m \u001b[32m━━━━━━━━━━━━━━━━━━━━\u001b[0m\u001b[37m\u001b[0m \u001b[1m2s\u001b[0m 10ms/step - accuracy: 1.0000 - loss: 1.8486e-04 - val_accuracy: 1.0000 - val_loss: 6.5061e-06\n",
            "Epoch 13/15\n",
            "\u001b[1m193/193\u001b[0m \u001b[32m━━━━━━━━━━━━━━━━━━━━\u001b[0m\u001b[37m\u001b[0m \u001b[1m3s\u001b[0m 14ms/step - accuracy: 1.0000 - loss: 3.9025e-05 - val_accuracy: 1.0000 - val_loss: 2.9991e-06\n",
            "Epoch 14/15\n",
            "\u001b[1m193/193\u001b[0m \u001b[32m━━━━━━━━━━━━━━━━━━━━\u001b[0m\u001b[37m\u001b[0m \u001b[1m4s\u001b[0m 10ms/step - accuracy: 1.0000 - loss: 3.0255e-05 - val_accuracy: 1.0000 - val_loss: 2.0606e-06\n",
            "Epoch 15/15\n",
            "\u001b[1m193/193\u001b[0m \u001b[32m━━━━━━━━━━━━━━━━━━━━\u001b[0m\u001b[37m\u001b[0m \u001b[1m2s\u001b[0m 10ms/step - accuracy: 1.0000 - loss: 3.7972e-05 - val_accuracy: 1.0000 - val_loss: 1.8197e-05\n"
          ]
        }
      ]
    },
    {
      "cell_type": "markdown",
      "source": [
        "# ✅ Evaluate Deep Learning Model"
      ],
      "metadata": {
        "id": "-mAOw5RdYZEw"
      }
    },
    {
      "cell_type": "code",
      "source": [
        "loss, accuracy = model.evaluate(X_test_dl, y_test)\n",
        "print(f\"Test Accuracy: {accuracy:.4f}\")\n",
        "\n",
        "from sklearn.metrics import roc_auc_score\n",
        "y_prob = model.predict(X_test_dl).ravel()\n",
        "print(\"ROC AUC Score:\", roc_auc_score(y_test, y_prob))"
      ],
      "metadata": {
        "colab": {
          "base_uri": "https://localhost:8080/"
        },
        "id": "f18QFh1jYbwS",
        "outputId": "f87ba47b-5109-4607-ad4a-7a522a586a5f"
      },
      "execution_count": null,
      "outputs": [
        {
          "output_type": "stream",
          "name": "stdout",
          "text": [
            "\u001b[1m35/35\u001b[0m \u001b[32m━━━━━━━━━━━━━━━━━━━━\u001b[0m\u001b[37m\u001b[0m \u001b[1m0s\u001b[0m 4ms/step - accuracy: 0.9893 - loss: 0.1249\n",
            "Test Accuracy: 0.9848\n",
            "\u001b[1m35/35\u001b[0m \u001b[32m━━━━━━━━━━━━━━━━━━━━\u001b[0m\u001b[37m\u001b[0m \u001b[1m0s\u001b[0m 4ms/step\n",
            "ROC AUC Score: 0.9824711326024428\n"
          ]
        }
      ]
    },
    {
      "cell_type": "code",
      "source": [
        "print(classification_report(y_test, y_pred))\n",
        "\n",
        "# Convert probabilities to class labels (0 or 1)\n",
        "y_pred_class = [1 if p >= 0.5 else 0 for p in y_pred]\n",
        "\n",
        "# Now compute classification metrics\n",
        "accuracy = accuracy_score(y_test, y_pred_class)\n",
        "print(\"Accuracy:\", accuracy)\n",
        "\n",
        "print(confusion_matrix(y_test, y_pred_class))\n",
        "print(f'accuracy_score:-{accuracy_score(y_test, y_pred_class)}')\n",
        "print(f'f1_score:- {f1_score(y_test, y_pred_class)}')\n",
        "print(f'precision_score:- {precision_score(y_test, y_pred_class)}')\n",
        "print(f'recall_score:- {recall_score(y_test, y_pred_class)}')\n",
        "print(f'roc_auc_score:- {roc_auc_score(y_test, y_pred_class)}')"
      ],
      "metadata": {
        "colab": {
          "base_uri": "https://localhost:8080/"
        },
        "id": "5kTppdGrdW2h",
        "outputId": "eb24773f-e24f-42e7-befe-dd6ee99c5ad4"
      },
      "execution_count": null,
      "outputs": [
        {
          "output_type": "stream",
          "name": "stdout",
          "text": [
            "              precision    recall  f1-score   support\n",
            "\n",
            "           0       0.98      0.99      0.99       966\n",
            "           1       0.96      0.90      0.93       149\n",
            "\n",
            "    accuracy                           0.98      1115\n",
            "   macro avg       0.97      0.95      0.96      1115\n",
            "weighted avg       0.98      0.98      0.98      1115\n",
            "\n",
            "Accuracy: 0.9820627802690582\n",
            "[[961   5]\n",
            " [ 15 134]]\n",
            "accuracy_score:-0.9820627802690582\n",
            "f1_score:- 0.9305555555555556\n",
            "precision_score:- 0.9640287769784173\n",
            "recall_score:- 0.8993288590604027\n",
            "roc_auc_score:- 0.9470764378117749\n"
          ]
        }
      ]
    },
    {
      "cell_type": "markdown",
      "source": [
        "# 📉 Plot Accuracy vs Loss"
      ],
      "metadata": {
        "id": "Jqjh2h2cYiHg"
      }
    },
    {
      "cell_type": "code",
      "source": [
        "import matplotlib.pyplot as plt\n",
        "\n",
        "plt.plot(history.history['loss'], label='Train Loss')\n",
        "plt.plot(history.history['val_loss'], label='Val Loss')\n",
        "plt.legend()\n",
        "plt.title(\"Loss Curve (Detecting Overfitting)\")\n",
        "plt.show()"
      ],
      "metadata": {
        "colab": {
          "base_uri": "https://localhost:8080/",
          "height": 452
        },
        "id": "HQsO-sFuYkTc",
        "outputId": "13fdb066-d473-4d19-b1e3-1acbe48334e1"
      },
      "execution_count": null,
      "outputs": [
        {
          "output_type": "display_data",
          "data": {
            "text/plain": [
              "<Figure size 640x480 with 1 Axes>"
            ],
            "image/png": "[encoded data removed]"
          },
          "metadata": {}
        }
      ]
    },
    {
      "cell_type": "markdown",
      "source": [
        "# ✅ Concepts Handled:\n",
        "1. Text cleaning & TF-IDF vectorization\n",
        "\n",
        "2. Logistic Regression with L2 Regularization & Cross-Validation\n",
        "\n",
        "3. Deep Learning model with Dropout & EarlyStopping\n",
        "\n",
        "4. ROC-AUC, Accuracy, Precision/Recall metrics\n",
        "\n",
        "5. Overfitting prevention (Dropout, Regularization, EarlyStopping)"
      ],
      "metadata": {
        "id": "I-tD02apY32T"
      }
    },
    {
      "cell_type": "markdown",
      "source": [
        "# Over Sampling and under Sampling"
      ],
      "metadata": {
        "id": "xcAkTHF5R7Y8"
      }
    },
    {
      "cell_type": "code",
      "source": [
        "from imblearn.over_sampling import RandomOverSampler, SMOTE\n",
        "from imblearn.under_sampling import RandomUnderSampler , TomekLinks\n",
        "from imblearn.combine import SMOTETomek"
      ],
      "metadata": {
        "id": "UZA6wOSsSkm4"
      },
      "execution_count": null,
      "outputs": []
    },
    {
      "cell_type": "code",
      "source": [
        "# Apply Random Under Sampling\n",
        "under_sampler = RandomUnderSampler(random_state=42)\n",
        "X_train_under, y_train_under = under_sampler.fit_resample(X_train_dl, y_train) # X_train_vec\n",
        "\n",
        "# Count the class distribution after under sampling\n",
        "print(\"Class distribution after Random Under Sampling:\", y_train_under.value_counts())"
      ],
      "metadata": {
        "colab": {
          "base_uri": "https://localhost:8080/"
        },
        "id": "Mo_dq7x3ZMyh",
        "outputId": "475f69bb-09c7-4e7b-bf82-fc992d64a44d"
      },
      "execution_count": null,
      "outputs": [
        {
          "output_type": "stream",
          "name": "stdout",
          "text": [
            "Class distribution after Random Under Sampling: label\n",
            "0    598\n",
            "1    598\n",
            "Name: count, dtype: int64\n"
          ]
        }
      ]
    },
    {
      "cell_type": "code",
      "source": [],
      "metadata": {
        "id": "cHZowVJYbDEj"
      },
      "execution_count": null,
      "outputs": []
    },
    {
      "cell_type": "code",
      "source": [
        "# Apply Random Over Sampling\n",
        "over_sampler = RandomOverSampler(random_state=42)\n",
        "X_train_over, y_train_over = over_sampler.fit_resample(X_train_dl, y_train)\n",
        "\n",
        "# Count the class distribution after over sampling\n",
        "print(\"Class distribution after Random Over Sampling:\", y_train_over.value_counts())"
      ],
      "metadata": {
        "colab": {
          "base_uri": "https://localhost:8080/"
        },
        "id": "XVIkOAnTZmgK",
        "outputId": "8ab889ce-ad28-4617-d567-d3e8ec5b91b1"
      },
      "execution_count": null,
      "outputs": [
        {
          "output_type": "stream",
          "name": "stdout",
          "text": [
            "Class distribution after Random Over Sampling: label\n",
            "0    3859\n",
            "1    3859\n",
            "Name: count, dtype: int64\n"
          ]
        }
      ]
    },
    {
      "cell_type": "code",
      "source": [
        "# Apply SMOTE to balance the training dataset\n",
        "smote = SMOTE(random_state=42)\n",
        "X_resampled, y_resampled = smote.fit_resample(X_train_dl, y_train)\n",
        "\n",
        "print(f'Original dataset shape {y_train.value_counts()}')\n",
        "print(f'Resampled dataset shape {y_resampled.value_counts()}')"
      ],
      "metadata": {
        "colab": {
          "base_uri": "https://localhost:8080/"
        },
        "id": "txCzsba9a4b7",
        "outputId": "efca4270-8643-4a21-8099-506836d0e716"
      },
      "execution_count": null,
      "outputs": [
        {
          "output_type": "stream",
          "name": "stdout",
          "text": [
            "Original dataset shape label\n",
            "0    3859\n",
            "1     598\n",
            "Name: count, dtype: int64\n",
            "Resampled dataset shape label\n",
            "0    3859\n",
            "1    3859\n",
            "Name: count, dtype: int64\n"
          ]
        }
      ]
    },
    {
      "cell_type": "code",
      "source": [
        "# Apply Tomek Links\n",
        "tomek = TomekLinks()\n",
        "X_train_tomek, y_train_tomek = tomek.fit_resample(X_train_dl, y_train)\n",
        "\n",
        "# Count the class distribution after Tomek Links\n",
        "print(\"Class distribution after Tomek Links:\", y_train_tomek.value_counts())"
      ],
      "metadata": {
        "colab": {
          "base_uri": "https://localhost:8080/"
        },
        "id": "_8NV9d7abEP5",
        "outputId": "e7c0f6c9-42ed-44c6-9c58-fa8804e69e92"
      },
      "execution_count": null,
      "outputs": [
        {
          "output_type": "stream",
          "name": "stdout",
          "text": [
            "Class distribution after Tomek Links: label\n",
            "0    3859\n",
            "1     598\n",
            "Name: count, dtype: int64\n"
          ]
        }
      ]
    },
    {
      "cell_type": "code",
      "source": [
        "# Apply Hybrid Approach (SMOTE + Tomek Links)\n",
        "smote_tomek = SMOTETomek(random_state=42)\n",
        "X_train_smote_tomek, y_train_smote_tomek = smote_tomek.fit_resample(X_train_dl, y_train)\n",
        "\n",
        "# Count the class distribution after SMOTE-Tomek\n",
        "print(\"Class distribution after SMOTE-Tomek:\", y_train_smote_tomek.value_counts())"
      ],
      "metadata": {
        "colab": {
          "base_uri": "https://localhost:8080/"
        },
        "id": "Rf6Ws2VZbOHf",
        "outputId": "76803802-b43c-41aa-b8c4-a8ba91779a28"
      },
      "execution_count": null,
      "outputs": [
        {
          "output_type": "stream",
          "name": "stdout",
          "text": [
            "Class distribution after SMOTE-Tomek: label\n",
            "0    3859\n",
            "1    3859\n",
            "Name: count, dtype: int64\n"
          ]
        }
      ]
    },
    {
      "cell_type": "markdown",
      "source": [
        "# Recommendations\n",
        "\n",
        "For models requiring high precision, Random Under Sampling or Tomek Links can be considered.\n",
        "1. If high recall is a priority, SMOTE and SMOTE-Tomek are recommended.\n",
        "2. The best approach often depends on the specific context of the business problem and acceptable trade-offs between precision and recall."
      ],
      "metadata": {
        "id": "K4YVX2dkbjLi"
      }
    },
    {
      "cell_type": "markdown",
      "source": [
        "# Email Spam Detection using RNN and LSTM"
      ],
      "metadata": {
        "id": "7D3f68FvmtZx"
      }
    },
    {
      "cell_type": "code",
      "source": [
        "import pandas as pd\n",
        "import numpy as np\n",
        "import re\n",
        "from sklearn.model_selection import train_test_split\n",
        "from tensorflow.keras.preprocessing.text import Tokenizer\n",
        "from keras.preprocessing.sequence import pad_sequences\n",
        "from keras.utils import to_categorical\n",
        "from keras.models import Sequential\n",
        "from keras.layers import Embedding, LSTM, Dense, Dropout, Bidirectional,BatchNormalization\n",
        "from keras.callbacks import EarlyStopping,ReduceLROnPlateau\n",
        "from sklearn.metrics import classification_report, roc_auc_score"
      ],
      "metadata": {
        "id": "YSJzq2d_dMUZ"
      },
      "execution_count": 31,
      "outputs": []
    },
    {
      "cell_type": "code",
      "source": [],
      "metadata": {
        "id": "18Uf5HPxzNoo"
      },
      "execution_count": null,
      "outputs": []
    },
    {
      "cell_type": "markdown",
      "source": [
        "# ✅ Prepare Tokenizer and Sequences"
      ],
      "metadata": {
        "id": "N1tl_3uzuRUN"
      }
    },
    {
      "cell_type": "code",
      "source": [
        "X = df['clean_text']\n",
        "y = df['label']\n",
        "\n",
        "tokenizer = Tokenizer(num_words=5000, oov_token=\"<OOV>\")\n",
        "tokenizer.fit_on_texts(X)\n",
        "sequences = tokenizer.texts_to_sequences(X)\n",
        "word_index = tokenizer.word_index\n",
        "padded = pad_sequences(sequences, padding='post', maxlen=100)\n",
        "\n",
        "X_train, X_test, y_train, y_test = train_test_split(padded, y, test_size=0.2, random_state=42,stratify=y)"
      ],
      "metadata": {
        "id": "-G4tz9ykuUiK"
      },
      "execution_count": 32,
      "outputs": []
    },
    {
      "cell_type": "code",
      "source": [
        "word_index"
      ],
      "metadata": {
        "colab": {
          "base_uri": "https://localhost:8080/"
        },
        "id": "KmB272qqzmk_",
        "outputId": "596494b6-cb8f-4895-9503-37b122d3a38b"
      },
      "execution_count": null,
      "outputs": [
        {
          "output_type": "execute_result",
          "data": {
            "text/plain": [
              "{'<OOV>': 1,\n",
              " 'u': 2,\n",
              " 'call': 3,\n",
              " '2': 4,\n",
              " 'im': 5,\n",
              " 'go': 6,\n",
              " 'get': 7,\n",
              " 'ur': 8,\n",
              " 'come': 9,\n",
              " '4': 10,\n",
              " 'dont': 11,\n",
              " 'ok': 12,\n",
              " 'ltgt': 13,\n",
              " 'free': 14,\n",
              " 'know': 15,\n",
              " 'like': 16,\n",
              " 'got': 17,\n",
              " 'love': 18,\n",
              " 'want': 19,\n",
              " 'day': 20,\n",
              " 'ill': 21,\n",
              " 'time': 22,\n",
              " 'good': 23,\n",
              " 'text': 24,\n",
              " 'send': 25,\n",
              " 'need': 26,\n",
              " 'one': 27,\n",
              " 'txt': 28,\n",
              " 'see': 29,\n",
              " 'today': 30,\n",
              " 'think': 31,\n",
              " 'home': 32,\n",
              " 'take': 33,\n",
              " 'lor': 34,\n",
              " 'repli': 35,\n",
              " 'stop': 36,\n",
              " 'tell': 37,\n",
              " 'sorri': 38,\n",
              " 'still': 39,\n",
              " 'r': 40,\n",
              " 'back': 41,\n",
              " 'mobil': 42,\n",
              " 'make': 43,\n",
              " 'n': 44,\n",
              " 'phone': 45,\n",
              " 'say': 46,\n",
              " 'new': 47,\n",
              " 'week': 48,\n",
              " 'work': 49,\n",
              " 'pleas': 50,\n",
              " 'later': 51,\n",
              " 'well': 52,\n",
              " 'da': 53,\n",
              " 'ask': 54,\n",
              " 'hi': 55,\n",
              " 'miss': 56,\n",
              " 'meet': 57,\n",
              " 'hope': 58,\n",
              " 'cant': 59,\n",
              " 'ì': 60,\n",
              " 'happi': 61,\n",
              " 'night': 62,\n",
              " 'claim': 63,\n",
              " 'wait': 64,\n",
              " 'thing': 65,\n",
              " 'tri': 66,\n",
              " 'much': 67,\n",
              " 'great': 68,\n",
              " 'oh': 69,\n",
              " 'give': 70,\n",
              " 'hey': 71,\n",
              " 'pl': 72,\n",
              " 'dear': 73,\n",
              " 'wat': 74,\n",
              " 'messag': 75,\n",
              " 'number': 76,\n",
              " 'na': 77,\n",
              " 'friend': 78,\n",
              " 'thank': 79,\n",
              " 'way': 80,\n",
              " 'prize': 81,\n",
              " 'right': 82,\n",
              " 'feel': 83,\n",
              " 'that': 84,\n",
              " 'msg': 85,\n",
              " 'wan': 86,\n",
              " 'let': 87,\n",
              " 'pick': 88,\n",
              " 'alreadi': 89,\n",
              " 'even': 90,\n",
              " 'tomorrow': 91,\n",
              " 'ye': 92,\n",
              " 'realli': 93,\n",
              " 'yeah': 94,\n",
              " 'said': 95,\n",
              " 'min': 96,\n",
              " 'e': 97,\n",
              " 'babe': 98,\n",
              " 'leav': 99,\n",
              " 'co': 100,\n",
              " '1': 101,\n",
              " 'amp': 102,\n",
              " 'care': 103,\n",
              " 'morn': 104,\n",
              " 'win': 105,\n",
              " 'c': 106,\n",
              " 'didnt': 107,\n",
              " 'last': 108,\n",
              " 'sure': 109,\n",
              " 'servic': 110,\n",
              " 'life': 111,\n",
              " 'would': 112,\n",
              " 'keep': 113,\n",
              " 'cash': 114,\n",
              " 'find': 115,\n",
              " 'year': 116,\n",
              " 'contact': 117,\n",
              " 'ive': 118,\n",
              " 'anyth': 119,\n",
              " 'buy': 120,\n",
              " 'sleep': 121,\n",
              " 'lol': 122,\n",
              " 'tone': 123,\n",
              " 'look': 124,\n",
              " 'everi': 125,\n",
              " 'k': 126,\n",
              " 'use': 127,\n",
              " 'nokia': 128,\n",
              " 'smile': 129,\n",
              " 'wish': 130,\n",
              " 'also': 131,\n",
              " 'watch': 132,\n",
              " 'someth': 133,\n",
              " 'start': 134,\n",
              " 'show': 135,\n",
              " 'sent': 136,\n",
              " 'finish': 137,\n",
              " 'award': 138,\n",
              " '3': 139,\n",
              " 'end': 140,\n",
              " 'urgent': 141,\n",
              " 'b': 142,\n",
              " 'place': 143,\n",
              " 'us': 144,\n",
              " 'custom': 145,\n",
              " 'next': 146,\n",
              " 'first': 147,\n",
              " 'guy': 148,\n",
              " 'around': 149,\n",
              " 'talk': 150,\n",
              " 'tonight': 151,\n",
              " 'went': 152,\n",
              " 'could': 153,\n",
              " 'someon': 154,\n",
              " 'gon': 155,\n",
              " 'soon': 156,\n",
              " 'collect': 157,\n",
              " 'chat': 158,\n",
              " 'person': 159,\n",
              " 'mani': 160,\n",
              " 'per': 161,\n",
              " 'help': 162,\n",
              " 'late': 163,\n",
              " 'plan': 164,\n",
              " 'live': 165,\n",
              " 'nice': 166,\n",
              " 'money': 167,\n",
              " 'word': 168,\n",
              " 'alway': 169,\n",
              " 'ya': 170,\n",
              " 'minut': 171,\n",
              " 'dun': 172,\n",
              " 'check': 173,\n",
              " 'wont': 174,\n",
              " 'special': 175,\n",
              " 'your': 176,\n",
              " 'gud': 177,\n",
              " 'told': 178,\n",
              " 'tc': 179,\n",
              " 'name': 180,\n",
              " 'v': 181,\n",
              " 'mean': 182,\n",
              " 'ìï': 183,\n",
              " 'hour': 184,\n",
              " 'reach': 185,\n",
              " 'peopl': 186,\n",
              " 'lot': 187,\n",
              " '16': 188,\n",
              " 'hello': 189,\n",
              " 'girl': 190,\n",
              " 'guarante': 191,\n",
              " 'yet': 192,\n",
              " 'happen': 193,\n",
              " 'thk': 194,\n",
              " 'shop': 195,\n",
              " 'x': 196,\n",
              " 'done': 197,\n",
              " 'thought': 198,\n",
              " 'haha': 199,\n",
              " 'class': 200,\n",
              " 'offer': 201,\n",
              " 'play': 202,\n",
              " 'fuck': 203,\n",
              " 'may': 204,\n",
              " 'receiv': 205,\n",
              " 'havent': 206,\n",
              " 'line': 207,\n",
              " 'fine': 208,\n",
              " 'lunch': 209,\n",
              " 'eat': 210,\n",
              " 'man': 211,\n",
              " 'job': 212,\n",
              " 'heart': 213,\n",
              " 'stuff': 214,\n",
              " 'car': 215,\n",
              " 'how': 216,\n",
              " 'mayb': 217,\n",
              " 'bit': 218,\n",
              " 'never': 219,\n",
              " 'best': 220,\n",
              " 'draw': 221,\n",
              " 'holiday': 222,\n",
              " 'enjoy': 223,\n",
              " 'month': 224,\n",
              " 'yup': 225,\n",
              " '18': 226,\n",
              " 'account': 227,\n",
              " '5': 228,\n",
              " 'sm': 229,\n",
              " 'long': 230,\n",
              " 'drive': 231,\n",
              " 'guess': 232,\n",
              " 'better': 233,\n",
              " 'dat': 234,\n",
              " 'readi': 235,\n",
              " 'mind': 236,\n",
              " 'chanc': 237,\n",
              " 'worri': 238,\n",
              " 'cool': 239,\n",
              " 'problem': 240,\n",
              " 'god': 241,\n",
              " 'latest': 242,\n",
              " 'cost': 243,\n",
              " 'pay': 244,\n",
              " 'weekend': 245,\n",
              " 'wonder': 246,\n",
              " 'room': 247,\n",
              " 'boy': 248,\n",
              " 'bring': 249,\n",
              " 'quit': 250,\n",
              " 'lar': 251,\n",
              " 'date': 252,\n",
              " 'half': 253,\n",
              " 'noth': 254,\n",
              " 'hous': 255,\n",
              " 'book': 256,\n",
              " 'game': 257,\n",
              " '1st': 258,\n",
              " 'yo': 259,\n",
              " 'anoth': 260,\n",
              " 'big': 261,\n",
              " 'voucher': 262,\n",
              " 'world': 263,\n",
              " 'select': 264,\n",
              " 'camera': 265,\n",
              " 'charg': 266,\n",
              " 'real': 267,\n",
              " 'birthday': 268,\n",
              " 'landlin': 269,\n",
              " 'luv': 270,\n",
              " 'stay': 271,\n",
              " 'shit': 272,\n",
              " 'kiss': 273,\n",
              " 'put': 274,\n",
              " 'speak': 275,\n",
              " 'dinner': 276,\n",
              " 'sweet': 277,\n",
              " 'å1000': 278,\n",
              " 'join': 279,\n",
              " 'sir': 280,\n",
              " 'liao': 281,\n",
              " 'ju': 282,\n",
              " 'box': 283,\n",
              " 'ever': 284,\n",
              " 'rememb': 285,\n",
              " '150ppm': 286,\n",
              " 'question': 287,\n",
              " 'might': 288,\n",
              " 'actual': 289,\n",
              " 'point': 290,\n",
              " 'final': 291,\n",
              " 'appli': 292,\n",
              " 'earli': 293,\n",
              " 'network': 294,\n",
              " 'di': 295,\n",
              " 'hear': 296,\n",
              " 'chang': 297,\n",
              " 'aight': 298,\n",
              " 'what': 299,\n",
              " 'probabl': 300,\n",
              " 'pic': 301,\n",
              " 'id': 302,\n",
              " 'fun': 303,\n",
              " 'xxx': 304,\n",
              " 'run': 305,\n",
              " 'he': 306,\n",
              " 'part': 307,\n",
              " 'pa': 308,\n",
              " 'bed': 309,\n",
              " 'hurt': 310,\n",
              " 'rate': 311,\n",
              " 'answer': 312,\n",
              " 'po': 313,\n",
              " 'video': 314,\n",
              " 'babi': 315,\n",
              " 'two': 316,\n",
              " 'den': 317,\n",
              " 'princess': 318,\n",
              " '6': 319,\n",
              " 'rington': 320,\n",
              " 'forgot': 321,\n",
              " 'anyway': 322,\n",
              " 'å2000': 323,\n",
              " 'easi': 324,\n",
              " 'thanx': 325,\n",
              " 'wake': 326,\n",
              " 'dunno': 327,\n",
              " 'orang': 328,\n",
              " 'bad': 329,\n",
              " 'code': 330,\n",
              " 'left': 331,\n",
              " '2nd': 332,\n",
              " 'frnd': 333,\n",
              " 'ah': 334,\n",
              " 'littl': 335,\n",
              " 'walk': 336,\n",
              " 'dad': 337,\n",
              " 'enough': 338,\n",
              " 'bu': 339,\n",
              " 'there': 340,\n",
              " 'school': 341,\n",
              " 'leh': 342,\n",
              " 'face': 343,\n",
              " 'everyth': 344,\n",
              " 'made': 345,\n",
              " 'sat': 346,\n",
              " 'shall': 347,\n",
              " 'she': 348,\n",
              " 'mate': 349,\n",
              " 'pound': 350,\n",
              " 'pain': 351,\n",
              " 'afternoon': 352,\n",
              " 'without': 353,\n",
              " 'tv': 354,\n",
              " 'xma': 355,\n",
              " 'tmr': 356,\n",
              " 'sound': 357,\n",
              " 'lose': 358,\n",
              " 'read': 359,\n",
              " 'movi': 360,\n",
              " '7': 361,\n",
              " 'detail': 362,\n",
              " 'bore': 363,\n",
              " 'gift': 364,\n",
              " 'await': 365,\n",
              " 'wif': 366,\n",
              " 'å150': 367,\n",
              " 'credit': 368,\n",
              " 'decid': 369,\n",
              " 'sinc': 370,\n",
              " 'came': 371,\n",
              " 'test': 372,\n",
              " 'must': 373,\n",
              " 'mail': 374,\n",
              " 'sexi': 375,\n",
              " 'dream': 376,\n",
              " 'post': 377,\n",
              " 'town': 378,\n",
              " 'entri': 379,\n",
              " 'goe': 380,\n",
              " 'though': 381,\n",
              " 'set': 382,\n",
              " '9': 383,\n",
              " 'doesnt': 384,\n",
              " 'uk': 385,\n",
              " 'lesson': 386,\n",
              " 'abt': 387,\n",
              " 'wk': 388,\n",
              " 'okay': 389,\n",
              " 'abl': 390,\n",
              " 'hav': 391,\n",
              " 'import': 392,\n",
              " 'offic': 393,\n",
              " 'updat': 394,\n",
              " 'mob': 395,\n",
              " 'price': 396,\n",
              " 'juz': 397,\n",
              " 'enter': 398,\n",
              " 'order': 399,\n",
              " 'bath': 400,\n",
              " 'til': 401,\n",
              " 'smoke': 402,\n",
              " '500': 403,\n",
              " 'true': 404,\n",
              " 'plz': 405,\n",
              " 'poli': 406,\n",
              " 'drink': 407,\n",
              " 'away': 408,\n",
              " 'plu': 409,\n",
              " 'colour': 410,\n",
              " 'till': 411,\n",
              " 'hair': 412,\n",
              " 'wen': 413,\n",
              " 'els': 414,\n",
              " 'top': 415,\n",
              " 'music': 416,\n",
              " 'weekli': 417,\n",
              " 'wot': 418,\n",
              " 'dude': 419,\n",
              " 'attempt': 420,\n",
              " 'de': 421,\n",
              " 'drop': 422,\n",
              " 'valid': 423,\n",
              " 'alright': 424,\n",
              " 'invit': 425,\n",
              " 'saw': 426,\n",
              " 'yesterday': 427,\n",
              " 'doubl': 428,\n",
              " 'trip': 429,\n",
              " 'food': 430,\n",
              " 'bt': 431,\n",
              " 'haf': 432,\n",
              " 'hand': 433,\n",
              " 'ltdecimalgt': 434,\n",
              " 'oso': 435,\n",
              " '150p': 436,\n",
              " 'beauti': 437,\n",
              " 'lei': 438,\n",
              " 'search': 439,\n",
              " 'deliveri': 440,\n",
              " 'close': 441,\n",
              " 'busi': 442,\n",
              " 'yr': 443,\n",
              " 'open': 444,\n",
              " 'si': 445,\n",
              " 'head': 446,\n",
              " 'hot': 447,\n",
              " 'friendship': 448,\n",
              " 'either': 449,\n",
              " 'sch': 450,\n",
              " 'å100': 451,\n",
              " 'wife': 452,\n",
              " 'onlin': 453,\n",
              " 'ard': 454,\n",
              " 'mom': 455,\n",
              " 'second': 456,\n",
              " 'bonu': 457,\n",
              " 'caus': 458,\n",
              " 'address': 459,\n",
              " 'inform': 460,\n",
              " 'player': 461,\n",
              " 'complet': 462,\n",
              " 'stori': 463,\n",
              " 'nite': 464,\n",
              " 'hold': 465,\n",
              " 'wid': 466,\n",
              " 'full': 467,\n",
              " 'tot': 468,\n",
              " 'sae': 469,\n",
              " 'famili': 470,\n",
              " 'togeth': 471,\n",
              " 'goin': 472,\n",
              " '8007': 473,\n",
              " 'sad': 474,\n",
              " 'brother': 475,\n",
              " 'forget': 476,\n",
              " 'å5000': 477,\n",
              " 'old': 478,\n",
              " 'match': 479,\n",
              " 'content': 480,\n",
              " 'believ': 481,\n",
              " 'touch': 482,\n",
              " 'noe': 483,\n",
              " 'g': 484,\n",
              " 'ring': 485,\n",
              " 'club': 486,\n",
              " 'oki': 487,\n",
              " 'reason': 488,\n",
              " 'huh': 489,\n",
              " 'land': 490,\n",
              " 'listen': 491,\n",
              " 'train': 492,\n",
              " 'email': 493,\n",
              " 'murder': 494,\n",
              " 'treat': 495,\n",
              " 'aft': 496,\n",
              " 'fri': 497,\n",
              " 'took': 498,\n",
              " 'privat': 499,\n",
              " 'dog': 500,\n",
              " 'everyon': 501,\n",
              " 'studi': 502,\n",
              " 'gr8': 503,\n",
              " 'awesom': 504,\n",
              " 'break': 505,\n",
              " 'die': 506,\n",
              " 'coz': 507,\n",
              " 'unsubscrib': 508,\n",
              " '86688': 509,\n",
              " 'eve': 510,\n",
              " 'å500': 511,\n",
              " 'mum': 512,\n",
              " 'rite': 513,\n",
              " 'caller': 514,\n",
              " 'congrat': 515,\n",
              " 'move': 516,\n",
              " 'download': 517,\n",
              " 'prob': 518,\n",
              " 'statement': 519,\n",
              " 'expir': 520,\n",
              " 'age': 521,\n",
              " 'fanci': 522,\n",
              " 'compani': 523,\n",
              " 'wil': 524,\n",
              " 'angri': 525,\n",
              " '750': 526,\n",
              " 'choos': 527,\n",
              " 'card': 528,\n",
              " 'sister': 529,\n",
              " 'valentin': 530,\n",
              " 'current': 531,\n",
              " 'simpl': 532,\n",
              " 'tsc': 533,\n",
              " 'neva': 534,\n",
              " 'pub': 535,\n",
              " 'laugh': 536,\n",
              " 'anyon': 537,\n",
              " 'valu': 538,\n",
              " '100': 539,\n",
              " 'news': 540,\n",
              " 'tho': 541,\n",
              " 'tomo': 542,\n",
              " 'seem': 543,\n",
              " 'lucki': 544,\n",
              " 'ta': 545,\n",
              " 'isnt': 546,\n",
              " '12hr': 547,\n",
              " 'bank': 548,\n",
              " 'worth': 549,\n",
              " 'found': 550,\n",
              " 'park': 551,\n",
              " 'sort': 552,\n",
              " 'forward': 553,\n",
              " 'mine': 554,\n",
              " 'whatev': 555,\n",
              " 'knw': 556,\n",
              " 'sell': 557,\n",
              " 'parent': 558,\n",
              " 'alon': 559,\n",
              " 'auction': 560,\n",
              " 'avail': 561,\n",
              " 'joke': 562,\n",
              " 'winner': 563,\n",
              " 'pobox': 564,\n",
              " 'ha': 565,\n",
              " 'smth': 566,\n",
              " 'saturday': 567,\n",
              " '08000930705': 568,\n",
              " 'pass': 569,\n",
              " 'song': 570,\n",
              " 'save': 571,\n",
              " 'oper': 572,\n",
              " 'ticket': 573,\n",
              " 'uncl': 574,\n",
              " 'unredeem': 575,\n",
              " 'identifi': 576,\n",
              " 'type': 577,\n",
              " 'hard': 578,\n",
              " 'log': 579,\n",
              " 'boytoy': 580,\n",
              " 'colleg': 581,\n",
              " 'bill': 582,\n",
              " 'exam': 583,\n",
              " 'secret': 584,\n",
              " 'anytim': 585,\n",
              " 'far': 586,\n",
              " 'fone': 587,\n",
              " 'mobileupd8': 588,\n",
              " 'å250': 589,\n",
              " 'welcom': 590,\n",
              " 'kind': 591,\n",
              " 'visit': 592,\n",
              " 'outsid': 593,\n",
              " '8': 594,\n",
              " 'sun': 595,\n",
              " 'sit': 596,\n",
              " 'gd': 597,\n",
              " 'parti': 598,\n",
              " 'surpris': 599,\n",
              " 'crazi': 600,\n",
              " 'camcord': 601,\n",
              " 'cut': 602,\n",
              " 'follow': 603,\n",
              " 'rain': 604,\n",
              " 'gone': 605,\n",
              " 'hit': 606,\n",
              " 'bday': 607,\n",
              " 'friday': 608,\n",
              " 'mu': 609,\n",
              " 'nt': 610,\n",
              " 'ltd': 611,\n",
              " 'wit': 612,\n",
              " 'carlo': 613,\n",
              " 'oredi': 614,\n",
              " 'case': 615,\n",
              " 'congratul': 616,\n",
              " 'light': 617,\n",
              " 'return': 618,\n",
              " '150pmsg': 619,\n",
              " '08000839402': 620,\n",
              " 'project': 621,\n",
              " 'th': 622,\n",
              " '10': 623,\n",
              " 'cum': 624,\n",
              " 'nope': 625,\n",
              " 'pretti': 626,\n",
              " 'sea': 627,\n",
              " 'fast': 628,\n",
              " 'drug': 629,\n",
              " 'û': 630,\n",
              " 'wkli': 631,\n",
              " '12': 632,\n",
              " 'hungri': 633,\n",
              " 'confirm': 634,\n",
              " 'whole': 635,\n",
              " 'comput': 636,\n",
              " 'youll': 637,\n",
              " 'spend': 638,\n",
              " 'youv': 639,\n",
              " 'wed': 640,\n",
              " 'cours': 641,\n",
              " 'mrng': 642,\n",
              " 'darlin': 643,\n",
              " 'goodmorn': 644,\n",
              " 'ga': 645,\n",
              " '10p': 646,\n",
              " 'meant': 647,\n",
              " 'fix': 648,\n",
              " 'cd': 649,\n",
              " 'unlimit': 650,\n",
              " 'interest': 651,\n",
              " 'jay': 652,\n",
              " 'bout': 653,\n",
              " 'rock': 654,\n",
              " 'ad': 655,\n",
              " 'ten': 656,\n",
              " 'suppos': 657,\n",
              " 'differ': 658,\n",
              " 'scream': 659,\n",
              " 'remov': 660,\n",
              " 'term': 661,\n",
              " 'cs': 662,\n",
              " 'kid': 663,\n",
              " 'snow': 664,\n",
              " 'opt': 665,\n",
              " 'b4': 666,\n",
              " 'gal': 667,\n",
              " 'understand': 668,\n",
              " 'wrong': 669,\n",
              " 'promis': 670,\n",
              " 'turn': 671,\n",
              " 'catch': 672,\n",
              " 'usual': 673,\n",
              " 'almost': 674,\n",
              " 'correct': 675,\n",
              " 'etc': 676,\n",
              " 'hee': 677,\n",
              " '0800': 678,\n",
              " 'shower': 679,\n",
              " 'mah': 680,\n",
              " 'felt': 681,\n",
              " 'quiz': 682,\n",
              " 'tire': 683,\n",
              " 'wine': 684,\n",
              " 'joy': 685,\n",
              " 'march': 686,\n",
              " 'side': 687,\n",
              " 'tel': 688,\n",
              " 'fr': 689,\n",
              " '87066': 690,\n",
              " 'dnt': 691,\n",
              " 'singl': 692,\n",
              " 'bslvyl': 693,\n",
              " 'lost': 694,\n",
              " 'figur': 695,\n",
              " 'moment': 696,\n",
              " 'st': 697,\n",
              " 'motorola': 698,\n",
              " 'coupl': 699,\n",
              " 'ass': 700,\n",
              " 'pm': 701,\n",
              " 'savamob': 702,\n",
              " 'sub': 703,\n",
              " 'within': 704,\n",
              " '2003': 705,\n",
              " '800': 706,\n",
              " 'marri': 707,\n",
              " 'yar': 708,\n",
              " 'area': 709,\n",
              " 'å350': 710,\n",
              " 'paper': 711,\n",
              " 'sex': 712,\n",
              " 'least': 713,\n",
              " 'earlier': 714,\n",
              " 'film': 715,\n",
              " 'chennai': 716,\n",
              " 'tht': 717,\n",
              " 'fren': 718,\n",
              " 'w': 719,\n",
              " 'wasnt': 720,\n",
              " 'freemsg': 721,\n",
              " 'reward': 722,\n",
              " 'eh': 723,\n",
              " 'nation': 724,\n",
              " 'eg': 725,\n",
              " 'cheer': 726,\n",
              " 'crave': 727,\n",
              " 'hospit': 728,\n",
              " 'wow': 729,\n",
              " 'complimentari': 730,\n",
              " 'load': 731,\n",
              " 'askd': 732,\n",
              " 'direct': 733,\n",
              " 'activ': 734,\n",
              " 'ni8': 735,\n",
              " 'safe': 736,\n",
              " 'hell': 737,\n",
              " 'mr': 738,\n",
              " 'connect': 739,\n",
              " 'semest': 740,\n",
              " 'laptop': 741,\n",
              " 'blue': 742,\n",
              " 'swing': 743,\n",
              " 'normal': 744,\n",
              " 'christma': 745,\n",
              " 'via': 746,\n",
              " '1000': 747,\n",
              " '150': 748,\n",
              " 'ago': 749,\n",
              " 'chikku': 750,\n",
              " 'seen': 751,\n",
              " 'slow': 752,\n",
              " 'rental': 753,\n",
              " 'ipod': 754,\n",
              " 'remind': 755,\n",
              " 'gym': 756,\n",
              " 'darren': 757,\n",
              " 'an': 758,\n",
              " 'eye': 759,\n",
              " 'store': 760,\n",
              " 'ugh': 761,\n",
              " 'extra': 762,\n",
              " 'knew': 763,\n",
              " 'photo': 764,\n",
              " 'truth': 765,\n",
              " 'fill': 766,\n",
              " 'support': 767,\n",
              " 'grin': 768,\n",
              " 'luck': 769,\n",
              " 'difficult': 770,\n",
              " 'john': 771,\n",
              " 'father': 772,\n",
              " 'comp': 773,\n",
              " 'usf': 774,\n",
              " 'request': 775,\n",
              " 'copi': 776,\n",
              " 'link': 777,\n",
              " 'comin': 778,\n",
              " 'abiola': 779,\n",
              " 'xx': 780,\n",
              " 'stand': 781,\n",
              " 'loan': 782,\n",
              " 'page': 783,\n",
              " 'txting': 784,\n",
              " 'sometim': 785,\n",
              " 'muz': 786,\n",
              " 'deal': 787,\n",
              " 'orchard': 788,\n",
              " 'kate': 789,\n",
              " 'regist': 790,\n",
              " 'teach': 791,\n",
              " 'expect': 792,\n",
              " 'lover': 793,\n",
              " 'disturb': 794,\n",
              " 'wana': 795,\n",
              " 'sim': 796,\n",
              " 'somebodi': 797,\n",
              " 'small': 798,\n",
              " 'discount': 799,\n",
              " 'india': 800,\n",
              " 'hmm': 801,\n",
              " 'fight': 802,\n",
              " 'rent': 803,\n",
              " 'silent': 804,\n",
              " 'ladi': 805,\n",
              " 'warm': 806,\n",
              " 'clean': 807,\n",
              " 'door': 808,\n",
              " 'idea': 809,\n",
              " 'fall': 810,\n",
              " 'whenev': 811,\n",
              " 'heard': 812,\n",
              " 'frm': 813,\n",
              " 'cancel': 814,\n",
              " 'fantasi': 815,\n",
              " 'fact': 816,\n",
              " 'slowli': 817,\n",
              " 'hr': 818,\n",
              " 'nah': 819,\n",
              " 'callertun': 820,\n",
              " 'press': 821,\n",
              " 'info': 822,\n",
              " 'wap': 823,\n",
              " 'england': 824,\n",
              " 'sick': 825,\n",
              " 'oop': 826,\n",
              " 'situat': 827,\n",
              " 'short': 828,\n",
              " 'recent': 829,\n",
              " 'rpli': 830,\n",
              " 'repres': 831,\n",
              " 'gave': 832,\n",
              " 'men': 833,\n",
              " 'apart': 834,\n",
              " 'quot': 835,\n",
              " 'del': 836,\n",
              " 'lovabl': 837,\n",
              " 'pray': 838,\n",
              " 'wast': 839,\n",
              " 'trust': 840,\n",
              " 'rs': 841,\n",
              " 'sign': 842,\n",
              " 'bcoz': 843,\n",
              " 'road': 844,\n",
              " 'kick': 845,\n",
              " 'admir': 846,\n",
              " 'deep': 847,\n",
              " 'hmv': 848,\n",
              " 'stupid': 849,\n",
              " 'somewher': 850,\n",
              " 'record': 851,\n",
              " 'immedi': 852,\n",
              " 'access': 853,\n",
              " 'met': 854,\n",
              " 'ex': 855,\n",
              " 'woke': 856,\n",
              " 'mm': 857,\n",
              " 'yep': 858,\n",
              " 'voic': 859,\n",
              " 'ldn': 860,\n",
              " 'ure': 861,\n",
              " 'style': 862,\n",
              " 'monday': 863,\n",
              " 'water': 864,\n",
              " 'opinion': 865,\n",
              " 'less': 866,\n",
              " 'member': 867,\n",
              " 'across': 868,\n",
              " 'cheap': 869,\n",
              " 'em': 870,\n",
              " 'ho': 871,\n",
              " 'gap': 872,\n",
              " 'fantast': 873,\n",
              " 'glad': 874,\n",
              " 'summer': 875,\n",
              " 'gettin': 876,\n",
              " 'reveal': 877,\n",
              " 'poor': 878,\n",
              " 'asap': 879,\n",
              " 'otherwis': 880,\n",
              " 'ntt': 881,\n",
              " 'possibl': 882,\n",
              " '10pmin': 883,\n",
              " 'convey': 884,\n",
              " 'regard': 885,\n",
              " 'doctor': 886,\n",
              " 'who': 887,\n",
              " 'energi': 888,\n",
              " 'write': 889,\n",
              " 'natur': 890,\n",
              " 'doin': 891,\n",
              " 'excus': 892,\n",
              " 'med': 893,\n",
              " 'empti': 894,\n",
              " 'std': 895,\n",
              " '11': 896,\n",
              " 'bless': 897,\n",
              " 'serious': 898,\n",
              " 'mark': 899,\n",
              " 'forev': 900,\n",
              " 'boss': 901,\n",
              " 'flight': 902,\n",
              " 'app': 903,\n",
              " 'sunshin': 904,\n",
              " 'soni': 905,\n",
              " 'lazi': 906,\n",
              " 'lect': 907,\n",
              " 'hmmm': 908,\n",
              " 'lift': 909,\n",
              " 'especi': 910,\n",
              " 'mrt': 911,\n",
              " 'appreci': 912,\n",
              " 'flirt': 913,\n",
              " 'unless': 914,\n",
              " 'teas': 915,\n",
              " 'rose': 916,\n",
              " 'sport': 917,\n",
              " 'accept': 918,\n",
              " 'å200': 919,\n",
              " 'rest': 920,\n",
              " 'power': 921,\n",
              " '11mth': 922,\n",
              " 'merri': 923,\n",
              " 'pete': 924,\n",
              " 'round': 925,\n",
              " 'urself': 926,\n",
              " 'basic': 927,\n",
              " 'bluetooth': 928,\n",
              " 'refer': 929,\n",
              " 'mistak': 930,\n",
              " '50': 931,\n",
              " 'kinda': 932,\n",
              " 'result': 933,\n",
              " 'optout': 934,\n",
              " 'depend': 935,\n",
              " 'meh': 936,\n",
              " 'near': 937,\n",
              " 'hotel': 938,\n",
              " 'hurri': 939,\n",
              " 'noon': 940,\n",
              " 'ûò': 941,\n",
              " 'xy': 942,\n",
              " 'add': 943,\n",
              " 'subscrib': 944,\n",
              " 'no1': 945,\n",
              " 'wwwgetzedcouk': 946,\n",
              " 'aint': 947,\n",
              " 'bid': 948,\n",
              " 'chariti': 949,\n",
              " 'tampa': 950,\n",
              " 'user': 951,\n",
              " 'mid': 952,\n",
              " 'sale': 953,\n",
              " 'gay': 954,\n",
              " 'wear': 955,\n",
              " 'å800': 956,\n",
              " 'nyt': 957,\n",
              " 'hiya': 958,\n",
              " 'f': 959,\n",
              " 'digit': 960,\n",
              " 'p': 961,\n",
              " 'deliv': 962,\n",
              " 'nobodi': 963,\n",
              " 'mode': 964,\n",
              " 'other': 965,\n",
              " 'bb': 966,\n",
              " 'share': 967,\n",
              " 'total': 968,\n",
              " '2nite': 969,\n",
              " 'arriv': 970,\n",
              " 'list': 971,\n",
              " 'thinkin': 972,\n",
              " 'flag': 973,\n",
              " 'colleagu': 974,\n",
              " 'cup': 975,\n",
              " 'entitl': 976,\n",
              " 'anymor': 977,\n",
              " 'sunday': 978,\n",
              " '87077': 979,\n",
              " 'pizza': 980,\n",
              " 'clear': 981,\n",
              " 'quick': 982,\n",
              " 'learn': 983,\n",
              " 'roommat': 984,\n",
              " 'letter': 985,\n",
              " 'youd': 986,\n",
              " 'nigeria': 987,\n",
              " 'ice': 988,\n",
              " 'cinema': 989,\n",
              " 'spent': 990,\n",
              " 'pleasur': 991,\n",
              " 'troubl': 992,\n",
              " 'ave': 993,\n",
              " 'inc': 994,\n",
              " '2004': 995,\n",
              " 'bother': 996,\n",
              " 'bak': 997,\n",
              " 'dvd': 998,\n",
              " 'becom': 999,\n",
              " 'goto': 1000,\n",
              " ...}"
            ]
          },
          "metadata": {},
          "execution_count": 156
        }
      ]
    },
    {
      "cell_type": "code",
      "source": [
        "X_train.shape,y_train.shape"
      ],
      "metadata": {
        "colab": {
          "base_uri": "https://localhost:8080/"
        },
        "id": "9yPcYH_Ougdd",
        "outputId": "935f75a3-e0cc-48de-eff0-b37ccb79e7b8"
      },
      "execution_count": null,
      "outputs": [
        {
          "output_type": "execute_result",
          "data": {
            "text/plain": [
              "((4457, 100), (4457,))"
            ]
          },
          "metadata": {},
          "execution_count": 134
        }
      ]
    },
    {
      "cell_type": "code",
      "source": [
        "X_test.shape,y_test.shape"
      ],
      "metadata": {
        "colab": {
          "base_uri": "https://localhost:8080/"
        },
        "id": "QHfiTuCruk80",
        "outputId": "4b9dbb87-bdc2-4e11-9b8d-1f585ba9c444"
      },
      "execution_count": null,
      "outputs": [
        {
          "output_type": "execute_result",
          "data": {
            "text/plain": [
              "((1115, 100), (1115,))"
            ]
          },
          "metadata": {},
          "execution_count": 135
        }
      ]
    },
    {
      "cell_type": "code",
      "source": [
        "# Apply Hybrid Approach (SMOTE + Tomek Links)\n",
        "smote_tomek = SMOTETomek(random_state=42)\n",
        "X_train_smote_tomek, y_train_smote_tomek = smote_tomek.fit_resample(X_train, y_train)\n",
        "\n",
        "# Count the class distribution after SMOTE-Tomek\n",
        "print(\"Class distribution after SMOTE-Tomek:\", y_train_smote_tomek.value_counts())"
      ],
      "metadata": {
        "colab": {
          "base_uri": "https://localhost:8080/"
        },
        "id": "Z6JU-fuexcuR",
        "outputId": "55da6964-fc29-45b3-d236-365fffd3cd11"
      },
      "execution_count": null,
      "outputs": [
        {
          "output_type": "stream",
          "name": "stdout",
          "text": [
            "Class distribution after SMOTE-Tomek: label\n",
            "0    3845\n",
            "1    3845\n",
            "Name: count, dtype: int64\n"
          ]
        }
      ]
    },
    {
      "cell_type": "markdown",
      "source": [
        "# ✅ Define RNN/LSTM Model with Dropout & Regularization"
      ],
      "metadata": {
        "id": "O08bb9QMu-sl"
      }
    },
    {
      "cell_type": "code",
      "source": [
        "model = Sequential()\n",
        "model.add(Embedding(input_dim=5000, output_dim=64, input_length=100))\n",
        "model.add(Bidirectional(LSTM(64, return_sequences=False)))\n",
        "model.add(Dropout(0.5))\n",
        "model.add(Dense(32, activation='relu'))\n",
        "model.add(Dropout(0.3))\n",
        "model.add(Dense(16, activation='relu'))\n",
        "model.add(Dropout(0.1))\n",
        "model.add(Dense(1, activation='sigmoid'))\n",
        "\n",
        "model.compile(loss='binary_crossentropy', optimizer='adam', metrics=['accuracy'])\n",
        "\n",
        "early_stop = EarlyStopping(monitor='val_loss', patience=3, restore_best_weights=True)"
      ],
      "metadata": {
        "colab": {
          "base_uri": "https://localhost:8080/"
        },
        "id": "ffRcUDrbdMcy",
        "outputId": "54a997fc-5c99-4481-95a0-0590493e3d24"
      },
      "execution_count": null,
      "outputs": [
        {
          "output_type": "stream",
          "name": "stderr",
          "text": [
            "/usr/local/lib/python3.11/dist-packages/keras/src/layers/core/embedding.py:90: UserWarning: Argument `input_length` is deprecated. Just remove it.\n",
            "  warnings.warn(\n"
          ]
        }
      ]
    },
    {
      "cell_type": "code",
      "source": [
        "model = Sequential()\n",
        "model.add(Embedding(input_dim=8000, output_dim=128, input_length=100))\n",
        "\n",
        "# LSTM with Bidirectional + Dropout + BatchNorm\n",
        "model.add(Bidirectional(LSTM(64, return_sequences=False)))\n",
        "model.add(Dropout(0.5))\n",
        "model.add(BatchNormalization())\n",
        "\n",
        "# Dense Layers with Regularization\n",
        "model.add(Dense(64, activation='relu'))\n",
        "model.add(Dropout(0.3))\n",
        "# model.add(Dense(1, activation='sigmoid'))\n",
        "model.add(Dense(32, activation='relu'))\n",
        "model.add(Dropout(0.1))\n",
        "model.add(Dense(1, activation='sigmoid'))\n",
        "\n",
        "# Compile with learning rate scheduler\n",
        "model.compile(optimizer='adam', loss='binary_crossentropy', metrics=['accuracy'])\n",
        "\n",
        "# Callbacks to prevent overfitting\n",
        "early_stop = EarlyStopping(monitor='val_loss', patience=4, restore_best_weights=True)\n",
        "reduce_lr = ReduceLROnPlateau(\n",
        "    monitor='val_loss',  # metric to monitor\n",
        "    factor=0.3,           # reduce LR by this factor (new_lr = old_lr * 0.3)\n",
        "    patience=3,           # wait 3 epochs before reducing\n",
        "    verbose=1             # print update message\n",
        ")"
      ],
      "metadata": {
        "colab": {
          "base_uri": "https://localhost:8080/"
        },
        "id": "fMPVlFX0z1VK",
        "outputId": "d8d5be5b-bbfd-499c-c900-15017951ef90"
      },
      "execution_count": null,
      "outputs": [
        {
          "output_type": "stream",
          "name": "stderr",
          "text": [
            "/usr/local/lib/python3.11/dist-packages/keras/src/layers/core/embedding.py:90: UserWarning: Argument `input_length` is deprecated. Just remove it.\n",
            "  warnings.warn(\n"
          ]
        }
      ]
    },
    {
      "cell_type": "markdown",
      "source": [
        "# 🔄 What is ReduceLROnPlateau?\n",
        "ReduceLROnPlateau is a learning rate scheduler that automatically reduces the learning rate when a metric (like validation loss) has stopped improving.\n",
        "\n",
        "# 🧠 Why Use It?\n",
        "Helps the model escape plateaus in training\n",
        "\n",
        "Encourages finer learning when progress slows\n",
        "\n",
        "Prevents wasting epochs with no improvement\n",
        "\n",
        "| Parameter           | Description                                                                 |\n",
        "| ------------------- | --------------------------------------------------------------------------- |\n",
        "| `monitor`           | Which metric to monitor (e.g., `'val_loss'`, `'val_accuracy'`)              |\n",
        "| `factor`            | How much to reduce the learning rate — e.g., 0.3 = reduce to 30% of current |\n",
        "| `patience`          | Number of **epochs with no improvement** before reducing LR                 |\n",
        "| `verbose`           | If `1`, prints when LR is reduced                                           |\n",
        "| `min_lr` (optional) | Minimum LR value (won’t go below this)                                      |\n"
      ],
      "metadata": {
        "id": "eq-QJk6E1CPn"
      }
    },
    {
      "cell_type": "code",
      "source": [],
      "metadata": {
        "id": "P0vSBEze0bcn"
      },
      "execution_count": null,
      "outputs": []
    },
    {
      "cell_type": "markdown",
      "source": [
        "# ✅ Train Model with Validation Split"
      ],
      "metadata": {
        "id": "31hz1bn8vOlF"
      }
    },
    {
      "cell_type": "code",
      "source": [
        "# history = model.fit(X_train, y_train,\n",
        "#                     epochs=10,\n",
        "#                     batch_size=32,\n",
        "#                     validation_split=0.2,\n",
        "#                     callbacks=[early_stop])\n",
        "\n",
        "history = model.fit(X_train, y_train,\n",
        "                    epochs=20,\n",
        "                    batch_size=32,\n",
        "                    validation_split=0.2,\n",
        "                    callbacks=[early_stop, reduce_lr])\n"
      ],
      "metadata": {
        "colab": {
          "base_uri": "https://localhost:8080/"
        },
        "id": "_F3LYpHZvRmP",
        "outputId": "536dd008-6193-4e87-c1c8-bc420d9463b7"
      },
      "execution_count": null,
      "outputs": [
        {
          "output_type": "stream",
          "name": "stdout",
          "text": [
            "Epoch 1/20\n",
            "\u001b[1m112/112\u001b[0m \u001b[32m━━━━━━━━━━━━━━━━━━━━\u001b[0m\u001b[37m\u001b[0m \u001b[1m24s\u001b[0m 168ms/step - accuracy: 0.8400 - loss: 0.3528 - val_accuracy: 0.9305 - val_loss: 0.2596 - learning_rate: 0.0010\n",
            "Epoch 2/20\n",
            "\u001b[1m112/112\u001b[0m \u001b[32m━━━━━━━━━━━━━━━━━━━━\u001b[0m\u001b[37m\u001b[0m \u001b[1m18s\u001b[0m 148ms/step - accuracy: 0.9808 - loss: 0.0683 - val_accuracy: 0.9630 - val_loss: 0.1391 - learning_rate: 0.0010\n",
            "Epoch 3/20\n",
            "\u001b[1m112/112\u001b[0m \u001b[32m━━━━━━━━━━━━━━━━━━━━\u001b[0m\u001b[37m\u001b[0m \u001b[1m20s\u001b[0m 142ms/step - accuracy: 0.9923 - loss: 0.0309 - val_accuracy: 0.9641 - val_loss: 0.1311 - learning_rate: 0.0010\n",
            "Epoch 4/20\n",
            "\u001b[1m112/112\u001b[0m \u001b[32m━━━━━━━━━━━━━━━━━━━━\u001b[0m\u001b[37m\u001b[0m \u001b[1m18s\u001b[0m 160ms/step - accuracy: 0.9888 - loss: 0.0391 - val_accuracy: 0.9720 - val_loss: 0.0825 - learning_rate: 0.0010\n",
            "Epoch 5/20\n",
            "\u001b[1m112/112\u001b[0m \u001b[32m━━━━━━━━━━━━━━━━━━━━\u001b[0m\u001b[37m\u001b[0m \u001b[1m19s\u001b[0m 147ms/step - accuracy: 0.9945 - loss: 0.0185 - val_accuracy: 0.9641 - val_loss: 0.0921 - learning_rate: 0.0010\n",
            "Epoch 6/20\n",
            "\u001b[1m112/112\u001b[0m \u001b[32m━━━━━━━━━━━━━━━━━━━━\u001b[0m\u001b[37m\u001b[0m \u001b[1m20s\u001b[0m 147ms/step - accuracy: 0.9946 - loss: 0.0146 - val_accuracy: 0.9305 - val_loss: 0.1842 - learning_rate: 0.0010\n",
            "Epoch 7/20\n",
            "\u001b[1m112/112\u001b[0m \u001b[32m━━━━━━━━━━━━━━━━━━━━\u001b[0m\u001b[37m\u001b[0m \u001b[1m0s\u001b[0m 264ms/step - accuracy: 0.9970 - loss: 0.0093\n",
            "Epoch 7: ReduceLROnPlateau reducing learning rate to 0.0003000000142492354.\n",
            "\u001b[1m112/112\u001b[0m \u001b[32m━━━━━━━━━━━━━━━━━━━━\u001b[0m\u001b[37m\u001b[0m \u001b[1m36s\u001b[0m 289ms/step - accuracy: 0.9971 - loss: 0.0093 - val_accuracy: 0.9697 - val_loss: 0.1046 - learning_rate: 0.0010\n",
            "Epoch 8/20\n",
            "\u001b[1m112/112\u001b[0m \u001b[32m━━━━━━━━━━━━━━━━━━━━\u001b[0m\u001b[37m\u001b[0m \u001b[1m27s\u001b[0m 160ms/step - accuracy: 0.9960 - loss: 0.0110 - val_accuracy: 0.9742 - val_loss: 0.1133 - learning_rate: 3.0000e-04\n"
          ]
        }
      ]
    },
    {
      "cell_type": "code",
      "source": [],
      "metadata": {
        "id": "Mm7_s0OU0ciT"
      },
      "execution_count": null,
      "outputs": []
    },
    {
      "cell_type": "code",
      "source": [
        "model.evaluate(X_train,y_train)"
      ],
      "metadata": {
        "colab": {
          "base_uri": "https://localhost:8080/"
        },
        "id": "en5xlkHbyjiv",
        "outputId": "667394a9-d254-4fc7-8360-3220d8ccb3f5"
      },
      "execution_count": null,
      "outputs": [
        {
          "output_type": "stream",
          "name": "stdout",
          "text": [
            "\u001b[1m140/140\u001b[0m \u001b[32m━━━━━━━━━━━━━━━━━━━━\u001b[0m\u001b[37m\u001b[0m \u001b[1m6s\u001b[0m 44ms/step - accuracy: 0.9977 - loss: 0.0110\n"
          ]
        },
        {
          "output_type": "execute_result",
          "data": {
            "text/plain": [
              "[0.023350922390818596, 0.993493378162384]"
            ]
          },
          "metadata": {},
          "execution_count": 159
        }
      ]
    },
    {
      "cell_type": "code",
      "source": [
        "model.summary()"
      ],
      "metadata": {
        "colab": {
          "base_uri": "https://localhost:8080/",
          "height": 401
        },
        "id": "em0cmSvrvTGc",
        "outputId": "68a6d91c-a3f0-4aa6-b4b0-2b6486100c8a"
      },
      "execution_count": null,
      "outputs": [
        {
          "output_type": "display_data",
          "data": {
            "text/plain": [
              "\u001b[1mModel: \"sequential_5\"\u001b[0m\n"
            ],
            "text/html": [
              "<pre style=\"white-space:pre;overflow-x:auto;line-height:normal;font-family:Menlo,'DejaVu Sans Mono',consolas,'Courier New',monospace\"><span style=\"font-weight: bold\">Model: \"sequential_5\"</span>\n",
              "</pre>\n"
            ]
          },
          "metadata": {}
        },
        {
          "output_type": "display_data",
          "data": {
            "text/plain": [
              "┏━━━━━━━━━━━━━━━━━━━━━━━━━━━━━━━━━┳━━━━━━━━━━━━━━━━━━━━━━━━┳━━━━━━━━━━━━━━━┓\n",
              "┃\u001b[1m \u001b[0m\u001b[1mLayer (type)                   \u001b[0m\u001b[1m \u001b[0m┃\u001b[1m \u001b[0m\u001b[1mOutput Shape          \u001b[0m\u001b[1m \u001b[0m┃\u001b[1m \u001b[0m\u001b[1m      Param #\u001b[0m\u001b[1m \u001b[0m┃\n",
              "┡━━━━━━━━━━━━━━━━━━━━━━━━━━━━━━━━━╇━━━━━━━━━━━━━━━━━━━━━━━━╇━━━━━━━━━━━━━━━┩\n",
              "│ embedding_1 (\u001b[38;5;33mEmbedding\u001b[0m)         │ (\u001b[38;5;45mNone\u001b[0m, \u001b[38;5;34m100\u001b[0m, \u001b[38;5;34m64\u001b[0m)        │       \u001b[38;5;34m320,000\u001b[0m │\n",
              "├─────────────────────────────────┼────────────────────────┼───────────────┤\n",
              "│ bidirectional_1 (\u001b[38;5;33mBidirectional\u001b[0m) │ (\u001b[38;5;45mNone\u001b[0m, \u001b[38;5;34m128\u001b[0m)            │        \u001b[38;5;34m66,048\u001b[0m │\n",
              "├─────────────────────────────────┼────────────────────────┼───────────────┤\n",
              "│ dropout_14 (\u001b[38;5;33mDropout\u001b[0m)            │ (\u001b[38;5;45mNone\u001b[0m, \u001b[38;5;34m128\u001b[0m)            │             \u001b[38;5;34m0\u001b[0m │\n",
              "├─────────────────────────────────┼────────────────────────┼───────────────┤\n",
              "│ dense_18 (\u001b[38;5;33mDense\u001b[0m)                │ (\u001b[38;5;45mNone\u001b[0m, \u001b[38;5;34m32\u001b[0m)             │         \u001b[38;5;34m4,128\u001b[0m │\n",
              "├─────────────────────────────────┼────────────────────────┼───────────────┤\n",
              "│ dropout_15 (\u001b[38;5;33mDropout\u001b[0m)            │ (\u001b[38;5;45mNone\u001b[0m, \u001b[38;5;34m32\u001b[0m)             │             \u001b[38;5;34m0\u001b[0m │\n",
              "├─────────────────────────────────┼────────────────────────┼───────────────┤\n",
              "│ dense_19 (\u001b[38;5;33mDense\u001b[0m)                │ (\u001b[38;5;45mNone\u001b[0m, \u001b[38;5;34m16\u001b[0m)             │           \u001b[38;5;34m528\u001b[0m │\n",
              "├─────────────────────────────────┼────────────────────────┼───────────────┤\n",
              "│ dropout_16 (\u001b[38;5;33mDropout\u001b[0m)            │ (\u001b[38;5;45mNone\u001b[0m, \u001b[38;5;34m16\u001b[0m)             │             \u001b[38;5;34m0\u001b[0m │\n",
              "├─────────────────────────────────┼────────────────────────┼───────────────┤\n",
              "│ dense_20 (\u001b[38;5;33mDense\u001b[0m)                │ (\u001b[38;5;45mNone\u001b[0m, \u001b[38;5;34m1\u001b[0m)              │            \u001b[38;5;34m17\u001b[0m │\n",
              "└─────────────────────────────────┴────────────────────────┴───────────────┘\n"
            ],
            "text/html": [
              "<pre style=\"white-space:pre;overflow-x:auto;line-height:normal;font-family:Menlo,'DejaVu Sans Mono',consolas,'Courier New',monospace\">┏━━━━━━━━━━━━━━━━━━━━━━━━━━━━━━━━━┳━━━━━━━━━━━━━━━━━━━━━━━━┳━━━━━━━━━━━━━━━┓\n",
              "┃<span style=\"font-weight: bold\"> Layer (type)                    </span>┃<span style=\"font-weight: bold\"> Output Shape           </span>┃<span style=\"font-weight: bold\">       Param # </span>┃\n",
              "┡━━━━━━━━━━━━━━━━━━━━━━━━━━━━━━━━━╇━━━━━━━━━━━━━━━━━━━━━━━━╇━━━━━━━━━━━━━━━┩\n",
              "│ embedding_1 (<span style=\"color: #0087ff; text-decoration-color: #0087ff\">Embedding</span>)         │ (<span style=\"color: #00d7ff; text-decoration-color: #00d7ff\">None</span>, <span style=\"color: #00af00; text-decoration-color: #00af00\">100</span>, <span style=\"color: #00af00; text-decoration-color: #00af00\">64</span>)        │       <span style=\"color: #00af00; text-decoration-color: #00af00\">320,000</span> │\n",
              "├─────────────────────────────────┼────────────────────────┼───────────────┤\n",
              "│ bidirectional_1 (<span style=\"color: #0087ff; text-decoration-color: #0087ff\">Bidirectional</span>) │ (<span style=\"color: #00d7ff; text-decoration-color: #00d7ff\">None</span>, <span style=\"color: #00af00; text-decoration-color: #00af00\">128</span>)            │        <span style=\"color: #00af00; text-decoration-color: #00af00\">66,048</span> │\n",
              "├─────────────────────────────────┼────────────────────────┼───────────────┤\n",
              "│ dropout_14 (<span style=\"color: #0087ff; text-decoration-color: #0087ff\">Dropout</span>)            │ (<span style=\"color: #00d7ff; text-decoration-color: #00d7ff\">None</span>, <span style=\"color: #00af00; text-decoration-color: #00af00\">128</span>)            │             <span style=\"color: #00af00; text-decoration-color: #00af00\">0</span> │\n",
              "├─────────────────────────────────┼────────────────────────┼───────────────┤\n",
              "│ dense_18 (<span style=\"color: #0087ff; text-decoration-color: #0087ff\">Dense</span>)                │ (<span style=\"color: #00d7ff; text-decoration-color: #00d7ff\">None</span>, <span style=\"color: #00af00; text-decoration-color: #00af00\">32</span>)             │         <span style=\"color: #00af00; text-decoration-color: #00af00\">4,128</span> │\n",
              "├─────────────────────────────────┼────────────────────────┼───────────────┤\n",
              "│ dropout_15 (<span style=\"color: #0087ff; text-decoration-color: #0087ff\">Dropout</span>)            │ (<span style=\"color: #00d7ff; text-decoration-color: #00d7ff\">None</span>, <span style=\"color: #00af00; text-decoration-color: #00af00\">32</span>)             │             <span style=\"color: #00af00; text-decoration-color: #00af00\">0</span> │\n",
              "├─────────────────────────────────┼────────────────────────┼───────────────┤\n",
              "│ dense_19 (<span style=\"color: #0087ff; text-decoration-color: #0087ff\">Dense</span>)                │ (<span style=\"color: #00d7ff; text-decoration-color: #00d7ff\">None</span>, <span style=\"color: #00af00; text-decoration-color: #00af00\">16</span>)             │           <span style=\"color: #00af00; text-decoration-color: #00af00\">528</span> │\n",
              "├─────────────────────────────────┼────────────────────────┼───────────────┤\n",
              "│ dropout_16 (<span style=\"color: #0087ff; text-decoration-color: #0087ff\">Dropout</span>)            │ (<span style=\"color: #00d7ff; text-decoration-color: #00d7ff\">None</span>, <span style=\"color: #00af00; text-decoration-color: #00af00\">16</span>)             │             <span style=\"color: #00af00; text-decoration-color: #00af00\">0</span> │\n",
              "├─────────────────────────────────┼────────────────────────┼───────────────┤\n",
              "│ dense_20 (<span style=\"color: #0087ff; text-decoration-color: #0087ff\">Dense</span>)                │ (<span style=\"color: #00d7ff; text-decoration-color: #00d7ff\">None</span>, <span style=\"color: #00af00; text-decoration-color: #00af00\">1</span>)              │            <span style=\"color: #00af00; text-decoration-color: #00af00\">17</span> │\n",
              "└─────────────────────────────────┴────────────────────────┴───────────────┘\n",
              "</pre>\n"
            ]
          },
          "metadata": {}
        },
        {
          "output_type": "display_data",
          "data": {
            "text/plain": [
              "\u001b[1m Total params: \u001b[0m\u001b[38;5;34m1,172,165\u001b[0m (4.47 MB)\n"
            ],
            "text/html": [
              "<pre style=\"white-space:pre;overflow-x:auto;line-height:normal;font-family:Menlo,'DejaVu Sans Mono',consolas,'Courier New',monospace\"><span style=\"font-weight: bold\"> Total params: </span><span style=\"color: #00af00; text-decoration-color: #00af00\">1,172,165</span> (4.47 MB)\n",
              "</pre>\n"
            ]
          },
          "metadata": {}
        },
        {
          "output_type": "display_data",
          "data": {
            "text/plain": [
              "\u001b[1m Trainable params: \u001b[0m\u001b[38;5;34m390,721\u001b[0m (1.49 MB)\n"
            ],
            "text/html": [
              "<pre style=\"white-space:pre;overflow-x:auto;line-height:normal;font-family:Menlo,'DejaVu Sans Mono',consolas,'Courier New',monospace\"><span style=\"font-weight: bold\"> Trainable params: </span><span style=\"color: #00af00; text-decoration-color: #00af00\">390,721</span> (1.49 MB)\n",
              "</pre>\n"
            ]
          },
          "metadata": {}
        },
        {
          "output_type": "display_data",
          "data": {
            "text/plain": [
              "\u001b[1m Non-trainable params: \u001b[0m\u001b[38;5;34m0\u001b[0m (0.00 B)\n"
            ],
            "text/html": [
              "<pre style=\"white-space:pre;overflow-x:auto;line-height:normal;font-family:Menlo,'DejaVu Sans Mono',consolas,'Courier New',monospace\"><span style=\"font-weight: bold\"> Non-trainable params: </span><span style=\"color: #00af00; text-decoration-color: #00af00\">0</span> (0.00 B)\n",
              "</pre>\n"
            ]
          },
          "metadata": {}
        },
        {
          "output_type": "display_data",
          "data": {
            "text/plain": [
              "\u001b[1m Optimizer params: \u001b[0m\u001b[38;5;34m781,444\u001b[0m (2.98 MB)\n"
            ],
            "text/html": [
              "<pre style=\"white-space:pre;overflow-x:auto;line-height:normal;font-family:Menlo,'DejaVu Sans Mono',consolas,'Courier New',monospace\"><span style=\"font-weight: bold\"> Optimizer params: </span><span style=\"color: #00af00; text-decoration-color: #00af00\">781,444</span> (2.98 MB)\n",
              "</pre>\n"
            ]
          },
          "metadata": {}
        }
      ]
    },
    {
      "cell_type": "markdown",
      "source": [
        "# ✅ Evaluate & Predict"
      ],
      "metadata": {
        "id": "hhukKVjqwQeH"
      }
    },
    {
      "cell_type": "code",
      "source": [
        "loss, accuracy = model.evaluate(X_test, y_test)\n",
        "print(f\"Test Accuracy: {accuracy:.4f}\")\n",
        "\n",
        "y_prob = model.predict(X_test).ravel()\n",
        "y_pred = (y_prob >= 0.5).astype(int)\n",
        "\n",
        "print(classification_report(y_test, y_pred))\n",
        "print(\"ROC AUC Score:\", roc_auc_score(y_test, y_prob))\n"
      ],
      "metadata": {
        "colab": {
          "base_uri": "https://localhost:8080/"
        },
        "id": "uO0PdAbrwTqk",
        "outputId": "e29f88ae-391f-4152-9519-043d64ba1d80"
      },
      "execution_count": null,
      "outputs": [
        {
          "output_type": "stream",
          "name": "stdout",
          "text": [
            "\u001b[1m35/35\u001b[0m \u001b[32m━━━━━━━━━━━━━━━━━━━━\u001b[0m\u001b[37m\u001b[0m \u001b[1m3s\u001b[0m 76ms/step - accuracy: 0.9855 - loss: 0.0612\n",
            "Test Accuracy: 0.9848\n",
            "\u001b[1m35/35\u001b[0m \u001b[32m━━━━━━━━━━━━━━━━━━━━\u001b[0m\u001b[37m\u001b[0m \u001b[1m2s\u001b[0m 59ms/step\n",
            "              precision    recall  f1-score   support\n",
            "\n",
            "           0       0.98      1.00      0.99       966\n",
            "           1       1.00      0.89      0.94       149\n",
            "\n",
            "    accuracy                           0.98      1115\n",
            "   macro avg       0.99      0.94      0.97      1115\n",
            "weighted avg       0.99      0.98      0.98      1115\n",
            "\n",
            "ROC AUC Score: 0.9817902649825615\n"
          ]
        }
      ]
    },
    {
      "cell_type": "code",
      "source": [
        "print(classification_report(y_test, y_pred))\n",
        "\n",
        "# Convert probabilities to class labels (0 or 1)\n",
        "y_pred_class = [1 if p >= 0.5 else 0 for p in y_pred]\n",
        "\n",
        "# Now compute classification metrics\n",
        "accuracy = accuracy_score(y_test, y_pred_class)\n",
        "print(\"Accuracy:\", accuracy)\n",
        "\n",
        "print(confusion_matrix(y_test, y_pred_class))\n",
        "print(f'accuracy_score:- {accuracy_score(y_test, y_pred_class)}')\n",
        "print(f'f1_score:- {f1_score(y_test, y_pred_class)}')\n",
        "print(f'precision_score:- {precision_score(y_test, y_pred_class)}')\n",
        "print(f'recall_score:- {recall_score(y_test, y_pred_class)}')\n",
        "print(f'roc_auc_score:- {roc_auc_score(y_test, y_pred_class)}')"
      ],
      "metadata": {
        "colab": {
          "base_uri": "https://localhost:8080/"
        },
        "id": "3ZajIidYwiOA",
        "outputId": "0e1a76e6-1949-4f9e-ae10-cb4e0c724f2c"
      },
      "execution_count": null,
      "outputs": [
        {
          "output_type": "stream",
          "name": "stdout",
          "text": [
            "              precision    recall  f1-score   support\n",
            "\n",
            "           0       0.98      1.00      0.99       966\n",
            "           1       1.00      0.89      0.94       149\n",
            "\n",
            "    accuracy                           0.98      1115\n",
            "   macro avg       0.99      0.94      0.97      1115\n",
            "weighted avg       0.99      0.98      0.98      1115\n",
            "\n",
            "Accuracy: 0.9847533632286996\n",
            "[[966   0]\n",
            " [ 17 132]]\n",
            "accuracy_score:- 0.9847533632286996\n",
            "f1_score:- 0.9395017793594306\n",
            "precision_score:- 1.0\n",
            "recall_score:- 0.8859060402684564\n",
            "roc_auc_score:- 0.9429530201342282\n"
          ]
        }
      ]
    },
    {
      "cell_type": "markdown",
      "source": [
        "# ✅ Visualization: Loss Curve"
      ],
      "metadata": {
        "id": "zpphuPgtxMRP"
      }
    },
    {
      "cell_type": "code",
      "source": [
        "import matplotlib.pyplot as plt\n",
        "\n",
        "plt.plot(history.history['loss'], label='Train Loss')\n",
        "plt.plot(history.history['val_loss'], label='Val Loss')\n",
        "plt.title('LSTM Model Loss Curve')\n",
        "plt.xlabel('Epochs')\n",
        "plt.ylabel('Loss')\n",
        "plt.legend()\n",
        "plt.grid(True)\n",
        "plt.show()"
      ],
      "metadata": {
        "colab": {
          "base_uri": "https://localhost:8080/",
          "height": 472
        },
        "id": "qWuw4OYMxO_P",
        "outputId": "9cfa62a7-4899-4c8f-c645-ee8e7ac0b86a"
      },
      "execution_count": null,
      "outputs": [
        {
          "output_type": "display_data",
          "data": {
            "text/plain": [
              "<Figure size 640x480 with 1 Axes>"
            ],
            "image/png": "[encoded data removed]"
          },
          "metadata": {}
        }
      ]
    },
    {
      "cell_type": "code",
      "source": [
        "plt.plot(history.history['accuracy'], label='Train Acc')\n",
        "plt.plot(history.history['val_accuracy'], label='Val Acc')\n",
        "plt.plot(history.history['loss'], label='Train Loss')\n",
        "plt.plot(history.history['val_loss'], label='Val Loss')\n",
        "plt.title('Model Performance')\n",
        "plt.xlabel('Epochs')\n",
        "plt.ylabel('Value')\n",
        "plt.legend()\n",
        "plt.grid(True)\n",
        "plt.show()"
      ],
      "metadata": {
        "colab": {
          "base_uri": "https://localhost:8080/",
          "height": 472
        },
        "id": "6jahknvB23hk",
        "outputId": "42ff487a-0c6e-48d2-da43-66928a637f1e"
      },
      "execution_count": null,
      "outputs": [
        {
          "output_type": "display_data",
          "data": {
            "text/plain": [
              "<Figure size 640x480 with 1 Axes>"
            ],
            "image/png": "[encoded data removed]"
          },
          "metadata": {}
        }
      ]
    },
    {
      "cell_type": "markdown",
      "source": [
        "# ✅ Techniques Applied for Overfitting & Underfitting\n",
        "| Technique                                         | Type                     | Applied |\n",
        "| ------------------------------------------------- | ------------------------ | ------- |\n",
        "| **EarlyStopping**                                 | Overfitting              | ✅       |\n",
        "| **Dropout Layers**                                | Overfitting              | ✅       |\n",
        "| **BatchNormalization**                            | Underfitting/Overfitting | ✅       |\n",
        "| **ReduceLROnPlateau**                             | Overfitting              | ✅       |\n",
        "| **Validation Split**                              | Overfitting              | ✅       |\n",
        "| **Tokenizer + OOV Token**                         | Underfitting             | ✅       |\n",
        "| **Increased Embedding Dim**                       | Underfitting             | ✅       |\n",
        "| **Model Complexity** (Balanced LSTM/Hidden Units) | Bias-Variance Balance    | ✅       |\n"
      ],
      "metadata": {
        "id": "5Ff0U8FGzBNa"
      }
    },
    {
      "cell_type": "markdown",
      "source": [
        "# 🧪 Bonus Tip:\n",
        "we can also use K-Fold Cross Validation for even better performance estimation, especially when tuning for underfitting."
      ],
      "metadata": {
        "id": "Tvz4jWwj3PpK"
      }
    },
    {
      "cell_type": "markdown",
      "source": [
        "# 🔬 Advanced Email Spam Detection Project\n",
        "\n",
        "1. Complex ML Model (e.g. Stacked Ensemble)\n",
        "\n",
        "2. Advanced DL Model (e.g. Multi-layer Bidirectional LSTM + Attention)\n",
        "\n",
        "3. Apply comprehensive anti-overfitting & underfitting strategies"
      ],
      "metadata": {
        "id": "7Bn87tBP6llo"
      }
    },
    {
      "cell_type": "code",
      "source": [
        "from sklearn.ensemble import RandomForestClassifier, GradientBoostingClassifier\n",
        "from sklearn.linear_model import LogisticRegression\n",
        "from sklearn.model_selection import cross_val_predict\n",
        "from sklearn.pipeline import Pipeline\n",
        "from sklearn.feature_extraction.text import TfidfVectorizer\n",
        "from sklearn.preprocessing import StandardScaler\n",
        "from sklearn.metrics import classification_report, roc_auc_score\n",
        "from sklearn.ensemble import StackingClassifier\n",
        "\n",
        "# TF-IDF + Meta Learner Ensemble\n",
        "base_models = [\n",
        "    ('rf', RandomForestClassifier(n_estimators=100, max_depth=10)),\n",
        "    ('gb', GradientBoostingClassifier(n_estimators=100)),\n",
        "]\n",
        "\n",
        "meta_model = LogisticRegression()\n",
        "\n",
        "stacked = StackingClassifier(estimators=base_models, final_estimator=meta_model, cv=5)\n",
        "\n",
        "pipeline = Pipeline([\n",
        "    ('tfidf', TfidfVectorizer(max_features=5000, ngram_range=(1, 2))),\n",
        "    ('model', stacked)\n",
        "])\n",
        "\n",
        "pipeline.fit(df['clean_text'], df['label'])\n",
        "y_pred = pipeline.predict(df['clean_text'])\n",
        "print(classification_report(df['label'], y_pred))\n"
      ],
      "metadata": {
        "colab": {
          "base_uri": "https://localhost:8080/"
        },
        "id": "pc113aOA7cd9",
        "outputId": "177fe8c9-3f71-4304-ddc6-5b1271565532"
      },
      "execution_count": 21,
      "outputs": [
        {
          "output_type": "stream",
          "name": "stdout",
          "text": [
            "              precision    recall  f1-score   support\n",
            "\n",
            "           0       0.98      1.00      0.99      4825\n",
            "           1       0.99      0.86      0.92       747\n",
            "\n",
            "    accuracy                           0.98      5572\n",
            "   macro avg       0.99      0.93      0.96      5572\n",
            "weighted avg       0.98      0.98      0.98      5572\n",
            "\n"
          ]
        }
      ]
    },
    {
      "cell_type": "code",
      "source": [
        "import tensorflow as tf\n",
        "from tensorflow.keras.layers import Input, Embedding, Bidirectional, LSTM, Dense, Dropout, Layer, GlobalAveragePooling1D\n",
        "from tensorflow.keras.models import Model\n",
        "\n",
        "class AttentionLayer(Layer):\n",
        "    def __init__(self, **kwargs):\n",
        "        super(AttentionLayer, self).__init__()\n",
        "\n",
        "    def build(self, input_shape):\n",
        "        self.W = self.add_weight(name='att_weight', shape=(input_shape[-1], 1),\n",
        "                                 initializer='random_normal', trainable=True)\n",
        "        super().build(input_shape)\n",
        "\n",
        "    def call(self, x):\n",
        "        e = tf.keras.backend.tanh(tf.keras.backend.dot(x, self.W))\n",
        "        a = tf.keras.backend.softmax(e, axis=1)\n",
        "        output = x * a\n",
        "        return tf.keras.backend.sum(output, axis=1)\n",
        "\n",
        "# Define input\n",
        "inputs = Input(shape=(100,))\n",
        "x = Embedding(8000, 128)(inputs)\n",
        "x = Bidirectional(LSTM(128, return_sequences=True))(x)\n",
        "x = Dropout(0.5)(x)\n",
        "x = AttentionLayer()(x)\n",
        "x = Dense(64, activation='relu')(x)\n",
        "x = Dropout(0.3)(x)\n",
        "outputs = Dense(1, activation='sigmoid')(x)\n",
        "\n",
        "model = Model(inputs, outputs)\n",
        "model.compile(optimizer=tf.keras.optimizers.Adam(learning_rate=1e-4),\n",
        "              loss='binary_crossentropy', metrics=['accuracy'])\n",
        "\n",
        "model.summary()"
      ],
      "metadata": {
        "colab": {
          "base_uri": "https://localhost:8080/",
          "height": 401
        },
        "id": "p9fRQuVM7-X4",
        "outputId": "2e0ef3d1-a3f4-46ba-9e39-fc3e48055d74"
      },
      "execution_count": 22,
      "outputs": [
        {
          "output_type": "display_data",
          "data": {
            "text/plain": [
              "\u001b[1mModel: \"functional\"\u001b[0m\n"
            ],
            "text/html": [
              "<pre style=\"white-space:pre;overflow-x:auto;line-height:normal;font-family:Menlo,'DejaVu Sans Mono',consolas,'Courier New',monospace\"><span style=\"font-weight: bold\">Model: \"functional\"</span>\n",
              "</pre>\n"
            ]
          },
          "metadata": {}
        },
        {
          "output_type": "display_data",
          "data": {
            "text/plain": [
              "┏━━━━━━━━━━━━━━━━━━━━━━━━━━━━━━━━━┳━━━━━━━━━━━━━━━━━━━━━━━━┳━━━━━━━━━━━━━━━┓\n",
              "┃\u001b[1m \u001b[0m\u001b[1mLayer (type)                   \u001b[0m\u001b[1m \u001b[0m┃\u001b[1m \u001b[0m\u001b[1mOutput Shape          \u001b[0m\u001b[1m \u001b[0m┃\u001b[1m \u001b[0m\u001b[1m      Param #\u001b[0m\u001b[1m \u001b[0m┃\n",
              "┡━━━━━━━━━━━━━━━━━━━━━━━━━━━━━━━━━╇━━━━━━━━━━━━━━━━━━━━━━━━╇━━━━━━━━━━━━━━━┩\n",
              "│ input_layer (\u001b[38;5;33mInputLayer\u001b[0m)        │ (\u001b[38;5;45mNone\u001b[0m, \u001b[38;5;34m100\u001b[0m)            │             \u001b[38;5;34m0\u001b[0m │\n",
              "├─────────────────────────────────┼────────────────────────┼───────────────┤\n",
              "│ embedding (\u001b[38;5;33mEmbedding\u001b[0m)           │ (\u001b[38;5;45mNone\u001b[0m, \u001b[38;5;34m100\u001b[0m, \u001b[38;5;34m128\u001b[0m)       │     \u001b[38;5;34m1,024,000\u001b[0m │\n",
              "├─────────────────────────────────┼────────────────────────┼───────────────┤\n",
              "│ bidirectional (\u001b[38;5;33mBidirectional\u001b[0m)   │ (\u001b[38;5;45mNone\u001b[0m, \u001b[38;5;34m100\u001b[0m, \u001b[38;5;34m256\u001b[0m)       │       \u001b[38;5;34m263,168\u001b[0m │\n",
              "├─────────────────────────────────┼────────────────────────┼───────────────┤\n",
              "│ dropout (\u001b[38;5;33mDropout\u001b[0m)               │ (\u001b[38;5;45mNone\u001b[0m, \u001b[38;5;34m100\u001b[0m, \u001b[38;5;34m256\u001b[0m)       │             \u001b[38;5;34m0\u001b[0m │\n",
              "├─────────────────────────────────┼────────────────────────┼───────────────┤\n",
              "│ attention_layer                 │ (\u001b[38;5;45mNone\u001b[0m, \u001b[38;5;34m256\u001b[0m)            │           \u001b[38;5;34m256\u001b[0m │\n",
              "│ (\u001b[38;5;33mAttentionLayer\u001b[0m)                │                        │               │\n",
              "├─────────────────────────────────┼────────────────────────┼───────────────┤\n",
              "│ dense (\u001b[38;5;33mDense\u001b[0m)                   │ (\u001b[38;5;45mNone\u001b[0m, \u001b[38;5;34m64\u001b[0m)             │        \u001b[38;5;34m16,448\u001b[0m │\n",
              "├─────────────────────────────────┼────────────────────────┼───────────────┤\n",
              "│ dropout_1 (\u001b[38;5;33mDropout\u001b[0m)             │ (\u001b[38;5;45mNone\u001b[0m, \u001b[38;5;34m64\u001b[0m)             │             \u001b[38;5;34m0\u001b[0m │\n",
              "├─────────────────────────────────┼────────────────────────┼───────────────┤\n",
              "│ dense_1 (\u001b[38;5;33mDense\u001b[0m)                 │ (\u001b[38;5;45mNone\u001b[0m, \u001b[38;5;34m1\u001b[0m)              │            \u001b[38;5;34m65\u001b[0m │\n",
              "└─────────────────────────────────┴────────────────────────┴───────────────┘\n"
            ],
            "text/html": [
              "<pre style=\"white-space:pre;overflow-x:auto;line-height:normal;font-family:Menlo,'DejaVu Sans Mono',consolas,'Courier New',monospace\">┏━━━━━━━━━━━━━━━━━━━━━━━━━━━━━━━━━┳━━━━━━━━━━━━━━━━━━━━━━━━┳━━━━━━━━━━━━━━━┓\n",
              "┃<span style=\"font-weight: bold\"> Layer (type)                    </span>┃<span style=\"font-weight: bold\"> Output Shape           </span>┃<span style=\"font-weight: bold\">       Param # </span>┃\n",
              "┡━━━━━━━━━━━━━━━━━━━━━━━━━━━━━━━━━╇━━━━━━━━━━━━━━━━━━━━━━━━╇━━━━━━━━━━━━━━━┩\n",
              "│ input_layer (<span style=\"color: #0087ff; text-decoration-color: #0087ff\">InputLayer</span>)        │ (<span style=\"color: #00d7ff; text-decoration-color: #00d7ff\">None</span>, <span style=\"color: #00af00; text-decoration-color: #00af00\">100</span>)            │             <span style=\"color: #00af00; text-decoration-color: #00af00\">0</span> │\n",
              "├─────────────────────────────────┼────────────────────────┼───────────────┤\n",
              "│ embedding (<span style=\"color: #0087ff; text-decoration-color: #0087ff\">Embedding</span>)           │ (<span style=\"color: #00d7ff; text-decoration-color: #00d7ff\">None</span>, <span style=\"color: #00af00; text-decoration-color: #00af00\">100</span>, <span style=\"color: #00af00; text-decoration-color: #00af00\">128</span>)       │     <span style=\"color: #00af00; text-decoration-color: #00af00\">1,024,000</span> │\n",
              "├─────────────────────────────────┼────────────────────────┼───────────────┤\n",
              "│ bidirectional (<span style=\"color: #0087ff; text-decoration-color: #0087ff\">Bidirectional</span>)   │ (<span style=\"color: #00d7ff; text-decoration-color: #00d7ff\">None</span>, <span style=\"color: #00af00; text-decoration-color: #00af00\">100</span>, <span style=\"color: #00af00; text-decoration-color: #00af00\">256</span>)       │       <span style=\"color: #00af00; text-decoration-color: #00af00\">263,168</span> │\n",
              "├─────────────────────────────────┼────────────────────────┼───────────────┤\n",
              "│ dropout (<span style=\"color: #0087ff; text-decoration-color: #0087ff\">Dropout</span>)               │ (<span style=\"color: #00d7ff; text-decoration-color: #00d7ff\">None</span>, <span style=\"color: #00af00; text-decoration-color: #00af00\">100</span>, <span style=\"color: #00af00; text-decoration-color: #00af00\">256</span>)       │             <span style=\"color: #00af00; text-decoration-color: #00af00\">0</span> │\n",
              "├─────────────────────────────────┼────────────────────────┼───────────────┤\n",
              "│ attention_layer                 │ (<span style=\"color: #00d7ff; text-decoration-color: #00d7ff\">None</span>, <span style=\"color: #00af00; text-decoration-color: #00af00\">256</span>)            │           <span style=\"color: #00af00; text-decoration-color: #00af00\">256</span> │\n",
              "│ (<span style=\"color: #0087ff; text-decoration-color: #0087ff\">AttentionLayer</span>)                │                        │               │\n",
              "├─────────────────────────────────┼────────────────────────┼───────────────┤\n",
              "│ dense (<span style=\"color: #0087ff; text-decoration-color: #0087ff\">Dense</span>)                   │ (<span style=\"color: #00d7ff; text-decoration-color: #00d7ff\">None</span>, <span style=\"color: #00af00; text-decoration-color: #00af00\">64</span>)             │        <span style=\"color: #00af00; text-decoration-color: #00af00\">16,448</span> │\n",
              "├─────────────────────────────────┼────────────────────────┼───────────────┤\n",
              "│ dropout_1 (<span style=\"color: #0087ff; text-decoration-color: #0087ff\">Dropout</span>)             │ (<span style=\"color: #00d7ff; text-decoration-color: #00d7ff\">None</span>, <span style=\"color: #00af00; text-decoration-color: #00af00\">64</span>)             │             <span style=\"color: #00af00; text-decoration-color: #00af00\">0</span> │\n",
              "├─────────────────────────────────┼────────────────────────┼───────────────┤\n",
              "│ dense_1 (<span style=\"color: #0087ff; text-decoration-color: #0087ff\">Dense</span>)                 │ (<span style=\"color: #00d7ff; text-decoration-color: #00d7ff\">None</span>, <span style=\"color: #00af00; text-decoration-color: #00af00\">1</span>)              │            <span style=\"color: #00af00; text-decoration-color: #00af00\">65</span> │\n",
              "└─────────────────────────────────┴────────────────────────┴───────────────┘\n",
              "</pre>\n"
            ]
          },
          "metadata": {}
        },
        {
          "output_type": "display_data",
          "data": {
            "text/plain": [
              "\u001b[1m Total params: \u001b[0m\u001b[38;5;34m1,303,937\u001b[0m (4.97 MB)\n"
            ],
            "text/html": [
              "<pre style=\"white-space:pre;overflow-x:auto;line-height:normal;font-family:Menlo,'DejaVu Sans Mono',consolas,'Courier New',monospace\"><span style=\"font-weight: bold\"> Total params: </span><span style=\"color: #00af00; text-decoration-color: #00af00\">1,303,937</span> (4.97 MB)\n",
              "</pre>\n"
            ]
          },
          "metadata": {}
        },
        {
          "output_type": "display_data",
          "data": {
            "text/plain": [
              "\u001b[1m Trainable params: \u001b[0m\u001b[38;5;34m1,303,937\u001b[0m (4.97 MB)\n"
            ],
            "text/html": [
              "<pre style=\"white-space:pre;overflow-x:auto;line-height:normal;font-family:Menlo,'DejaVu Sans Mono',consolas,'Courier New',monospace\"><span style=\"font-weight: bold\"> Trainable params: </span><span style=\"color: #00af00; text-decoration-color: #00af00\">1,303,937</span> (4.97 MB)\n",
              "</pre>\n"
            ]
          },
          "metadata": {}
        },
        {
          "output_type": "display_data",
          "data": {
            "text/plain": [
              "\u001b[1m Non-trainable params: \u001b[0m\u001b[38;5;34m0\u001b[0m (0.00 B)\n"
            ],
            "text/html": [
              "<pre style=\"white-space:pre;overflow-x:auto;line-height:normal;font-family:Menlo,'DejaVu Sans Mono',consolas,'Courier New',monospace\"><span style=\"font-weight: bold\"> Non-trainable params: </span><span style=\"color: #00af00; text-decoration-color: #00af00\">0</span> (0.00 B)\n",
              "</pre>\n"
            ]
          },
          "metadata": {}
        }
      ]
    },
    {
      "cell_type": "code",
      "source": [
        "# X_train, X_test, y_train, y_test = train_test_split(df['clean_text'], df['label'], test_size=0.2, random_state=42,stratify=df['label'])"
      ],
      "metadata": {
        "id": "7Lqi6ULbDc9n"
      },
      "execution_count": 33,
      "outputs": []
    },
    {
      "cell_type": "code",
      "source": [
        "X = df['clean_text']\n",
        "y = df['label']\n",
        "\n",
        "tokenizer = Tokenizer(num_words=5000, oov_token=\"<OOV>\")\n",
        "tokenizer.fit_on_texts(X)\n",
        "sequences = tokenizer.texts_to_sequences(X)\n",
        "word_index = tokenizer.word_index\n",
        "padded = pad_sequences(sequences, padding='post', maxlen=100)\n",
        "\n",
        "X_train, X_test, y_train, y_test = train_test_split(padded, y, test_size=0.2, random_state=42,stratify=y)"
      ],
      "metadata": {
        "id": "ePlqp5YLEmjf"
      },
      "execution_count": 34,
      "outputs": []
    },
    {
      "cell_type": "code",
      "source": [
        "# X_train = X_train_vec.toarray()\n",
        "# X_test = X_test_vec.toarray()"
      ],
      "metadata": {
        "id": "PO76yOYdDlKe"
      },
      "execution_count": 36,
      "outputs": []
    },
    {
      "cell_type": "markdown",
      "source": [],
      "metadata": {
        "id": "INCQ3NF8E4EV"
      }
    },
    {
      "cell_type": "code",
      "source": [
        "early_stop = tf.keras.callbacks.EarlyStopping(monitor='val_loss', patience=3, restore_best_weights=True)\n",
        "reduce_lr = tf.keras.callbacks.ReduceLROnPlateau(monitor='val_loss', patience=2, factor=0.5)\n",
        "\n",
        "history = model.fit(X_train, y_train, validation_split=0.2,\n",
        "                    epochs=15, batch_size=32,\n",
        "                    callbacks=[early_stop, reduce_lr])"
      ],
      "metadata": {
        "colab": {
          "base_uri": "https://localhost:8080/"
        },
        "id": "9N2aSvNw8Nq3",
        "outputId": "8c99f145-3e1b-4b95-db4c-8f6b640cee77"
      },
      "execution_count": 35,
      "outputs": [
        {
          "output_type": "stream",
          "name": "stdout",
          "text": [
            "Epoch 1/15\n",
            "\u001b[1m112/112\u001b[0m \u001b[32m━━━━━━━━━━━━━━━━━━━━\u001b[0m\u001b[37m\u001b[0m \u001b[1m47s\u001b[0m 373ms/step - accuracy: 0.8644 - loss: 0.5063 - val_accuracy: 0.8430 - val_loss: 0.4058 - learning_rate: 1.0000e-04\n",
            "Epoch 2/15\n",
            "\u001b[1m112/112\u001b[0m \u001b[32m━━━━━━━━━━━━━━━━━━━━\u001b[0m\u001b[37m\u001b[0m \u001b[1m38s\u001b[0m 338ms/step - accuracy: 0.8620 - loss: 0.3711 - val_accuracy: 0.8430 - val_loss: 0.3759 - learning_rate: 1.0000e-04\n",
            "Epoch 3/15\n",
            "\u001b[1m112/112\u001b[0m \u001b[32m━━━━━━━━━━━━━━━━━━━━\u001b[0m\u001b[37m\u001b[0m \u001b[1m44s\u001b[0m 367ms/step - accuracy: 0.8651 - loss: 0.3069 - val_accuracy: 0.9002 - val_loss: 0.2306 - learning_rate: 1.0000e-04\n",
            "Epoch 4/15\n",
            "\u001b[1m112/112\u001b[0m \u001b[32m━━━━━━━━━━━━━━━━━━━━\u001b[0m\u001b[37m\u001b[0m \u001b[1m38s\u001b[0m 341ms/step - accuracy: 0.9591 - loss: 0.1336 - val_accuracy: 0.9641 - val_loss: 0.1287 - learning_rate: 1.0000e-04\n",
            "Epoch 5/15\n",
            "\u001b[1m112/112\u001b[0m \u001b[32m━━━━━━━━━━━━━━━━━━━━\u001b[0m\u001b[37m\u001b[0m \u001b[1m40s\u001b[0m 359ms/step - accuracy: 0.9778 - loss: 0.0961 - val_accuracy: 0.9675 - val_loss: 0.1258 - learning_rate: 1.0000e-04\n",
            "Epoch 6/15\n",
            "\u001b[1m112/112\u001b[0m \u001b[32m━━━━━━━━━━━━━━━━━━━━\u001b[0m\u001b[37m\u001b[0m \u001b[1m41s\u001b[0m 359ms/step - accuracy: 0.9874 - loss: 0.0606 - val_accuracy: 0.9652 - val_loss: 0.1219 - learning_rate: 1.0000e-04\n",
            "Epoch 7/15\n",
            "\u001b[1m112/112\u001b[0m \u001b[32m━━━━━━━━━━━━━━━━━━━━\u001b[0m\u001b[37m\u001b[0m \u001b[1m41s\u001b[0m 357ms/step - accuracy: 0.9834 - loss: 0.0672 - val_accuracy: 0.9664 - val_loss: 0.1296 - learning_rate: 1.0000e-04\n",
            "Epoch 8/15\n",
            "\u001b[1m112/112\u001b[0m \u001b[32m━━━━━━━━━━━━━━━━━━━━\u001b[0m\u001b[37m\u001b[0m \u001b[1m40s\u001b[0m 357ms/step - accuracy: 0.9918 - loss: 0.0426 - val_accuracy: 0.9697 - val_loss: 0.1176 - learning_rate: 1.0000e-04\n",
            "Epoch 9/15\n",
            "\u001b[1m112/112\u001b[0m \u001b[32m━━━━━━━━━━━━━━━━━━━━\u001b[0m\u001b[37m\u001b[0m \u001b[1m41s\u001b[0m 356ms/step - accuracy: 0.9901 - loss: 0.0456 - val_accuracy: 0.9675 - val_loss: 0.1285 - learning_rate: 1.0000e-04\n",
            "Epoch 10/15\n",
            "\u001b[1m112/112\u001b[0m \u001b[32m━━━━━━━━━━━━━━━━━━━━\u001b[0m\u001b[37m\u001b[0m \u001b[1m41s\u001b[0m 363ms/step - accuracy: 0.9900 - loss: 0.0452 - val_accuracy: 0.9664 - val_loss: 0.1331 - learning_rate: 1.0000e-04\n",
            "Epoch 11/15\n",
            "\u001b[1m112/112\u001b[0m \u001b[32m━━━━━━━━━━━━━━━━━━━━\u001b[0m\u001b[37m\u001b[0m \u001b[1m41s\u001b[0m 365ms/step - accuracy: 0.9883 - loss: 0.0488 - val_accuracy: 0.9731 - val_loss: 0.1182 - learning_rate: 5.0000e-05\n"
          ]
        }
      ]
    },
    {
      "cell_type": "code",
      "source": [],
      "metadata": {
        "id": "FnervflME9XD"
      },
      "execution_count": null,
      "outputs": []
    },
    {
      "cell_type": "code",
      "source": [
        "loss, accuracy = model.evaluate(X_test, y_test)\n",
        "print(f\"Test Accuracy: {accuracy:.4f}\")\n",
        "\n",
        "y_prob = model.predict(X_test).ravel()\n",
        "y_pred = (y_prob >= 0.5).astype(int)\n",
        "\n",
        "print(classification_report(y_test, y_pred))\n",
        "print(\"ROC AUC Score:\", roc_auc_score(y_test, y_prob))\n"
      ],
      "metadata": {
        "colab": {
          "base_uri": "https://localhost:8080/"
        },
        "id": "3vzaW1338cMS",
        "outputId": "316f14c5-0b15-4d9a-9506-9ea1e6a3c0ea"
      },
      "execution_count": 37,
      "outputs": [
        {
          "output_type": "stream",
          "name": "stdout",
          "text": [
            "\u001b[1m35/35\u001b[0m \u001b[32m━━━━━━━━━━━━━━━━━━━━\u001b[0m\u001b[37m\u001b[0m \u001b[1m4s\u001b[0m 100ms/step - accuracy: 0.9776 - loss: 0.0911\n",
            "Test Accuracy: 0.9713\n",
            "\u001b[1m35/35\u001b[0m \u001b[32m━━━━━━━━━━━━━━━━━━━━\u001b[0m\u001b[37m\u001b[0m \u001b[1m4s\u001b[0m 93ms/step\n",
            "              precision    recall  f1-score   support\n",
            "\n",
            "           0       0.98      0.99      0.98       966\n",
            "           1       0.91      0.87      0.89       149\n",
            "\n",
            "    accuracy                           0.97      1115\n",
            "   macro avg       0.94      0.93      0.94      1115\n",
            "weighted avg       0.97      0.97      0.97      1115\n",
            "\n",
            "ROC AUC Score: 0.9839440299025942\n"
          ]
        }
      ]
    },
    {
      "cell_type": "code",
      "source": [
        "model.evaluate(X_train,y_train)"
      ],
      "metadata": {
        "colab": {
          "base_uri": "https://localhost:8080/"
        },
        "id": "CzUg6Yqq_r9j",
        "outputId": "b7c6efe7-7312-4be0-cba3-3a0321f87f82"
      },
      "execution_count": 38,
      "outputs": [
        {
          "output_type": "stream",
          "name": "stdout",
          "text": [
            "\u001b[1m140/140\u001b[0m \u001b[32m━━━━━━━━━━━━━━━━━━━━\u001b[0m\u001b[37m\u001b[0m \u001b[1m14s\u001b[0m 99ms/step - accuracy: 0.9904 - loss: 0.0430\n"
          ]
        },
        {
          "output_type": "execute_result",
          "data": {
            "text/plain": [
              "[0.05501905083656311, 0.9869867563247681]"
            ]
          },
          "metadata": {},
          "execution_count": 38
        }
      ]
    },
    {
      "cell_type": "code",
      "source": [
        "print(classification_report(y_test, y_pred))\n",
        "\n",
        "# Convert probabilities to class labels (0 or 1)\n",
        "y_pred_class = [1 if p >= 0.5 else 0 for p in y_pred]\n",
        "\n",
        "# Now compute classification metrics\n",
        "accuracy = accuracy_score(y_test, y_pred)\n",
        "print(\"Accuracy:\", accuracy)\n",
        "\n",
        "print(confusion_matrix(y_test, y_pred))\n",
        "print(f'accuracy_score:- {accuracy_score(y_test, y_pred)}')\n",
        "print(f'f1_score:- {f1_score(y_test, y_pred)}')\n",
        "print(f'precision_score:- {precision_score(y_test, y_pred)}')\n",
        "print(f'recall_score:- {recall_score(y_test, y_pred)}')\n",
        "print(f'roc_auc_score:- {roc_auc_score(y_test, y_prob)}')"
      ],
      "metadata": {
        "colab": {
          "base_uri": "https://localhost:8080/"
        },
        "id": "3qLQ-hHS8gaI",
        "outputId": "ea70b173-c02f-4e73-aa6e-6a86bf5ff113"
      },
      "execution_count": 42,
      "outputs": [
        {
          "output_type": "stream",
          "name": "stdout",
          "text": [
            "              precision    recall  f1-score   support\n",
            "\n",
            "           0       0.98      0.99      0.98       966\n",
            "           1       0.91      0.87      0.89       149\n",
            "\n",
            "    accuracy                           0.97      1115\n",
            "   macro avg       0.94      0.93      0.94      1115\n",
            "weighted avg       0.97      0.97      0.97      1115\n",
            "\n",
            "Accuracy: 0.9713004484304932\n",
            "[[953  13]\n",
            " [ 19 130]]\n",
            "accuracy_score:- 0.9713004484304932\n",
            "f1_score:- 0.8904109589041096\n",
            "precision_score:- 0.9090909090909091\n",
            "recall_score:- 0.87248322147651\n",
            "roc_auc_score:- 0.9839440299025942\n"
          ]
        }
      ]
    },
    {
      "cell_type": "code",
      "source": [
        "plt.plot(history.history['accuracy'], label='Train Acc')\n",
        "plt.plot(history.history['val_accuracy'], label='Val Acc')\n",
        "plt.plot(history.history['loss'], label='Train Loss')\n",
        "plt.plot(history.history['val_loss'], label='Val Loss')\n",
        "plt.title('Model Performance')\n",
        "plt.xlabel('Epochs')\n",
        "plt.ylabel('Value')\n",
        "plt.legend()\n",
        "plt.grid(True)\n",
        "plt.show()"
      ],
      "metadata": {
        "colab": {
          "base_uri": "https://localhost:8080/",
          "height": 472
        },
        "id": "vQT4vqvx8sjV",
        "outputId": "79ce26da-abc4-448c-cfda-7a6eb810da98"
      },
      "execution_count": 43,
      "outputs": [
        {
          "output_type": "display_data",
          "data": {
            "text/plain": [
              "<Figure size 640x480 with 1 Axes>"
            ],
            "image/png": "[encoded data removed]"
          },
          "metadata": {}
        }
      ]
    },
    {
      "cell_type": "markdown",
      "source": [
        "| Technique             | Used in ML | Used in DL | Purpose                                       |\n",
        "| --------------------- | ---------- | ---------- | --------------------------------------------- |\n",
        "| TF-IDF Regularization | ✅          | ❌          | Prevent overfitting in text vectorization     |\n",
        "| Ensemble Stacking     | ✅          | ❌          | Reduce bias and variance                      |\n",
        "| Bidirectional LSTM    | ❌          | ✅          | Learn both forward/backward text patterns     |\n",
        "| Attention Layer       | ❌          | ✅          | Focus on important words (semantic filtering) |\n",
        "| Dropout               | ✅          | ✅          | Randomly deactivate neurons                   |\n",
        "| EarlyStopping         | ✅          | ✅          | Stop when performance plateaus                |\n",
        "| ReduceLROnPlateau     | ✅          | ✅          | Adjust learning rate dynamically              |\n",
        "| Validation Split      | ✅          | ✅          | Generalization monitoring                     |\n",
        "| BatchNormalization    | Optional   | ✅          | Stable training (try if underfitting occurs)  |\n"
      ],
      "metadata": {
        "id": "gHopgq6dBVdJ"
      }
    },
    {
      "cell_type": "markdown",
      "source": [
        "# 🧠 Bonus: Save Tokenizer and Model (Run this after training)"
      ],
      "metadata": {
        "id": "LcTW0emVFdas"
      }
    },
    {
      "cell_type": "code",
      "source": [
        "import joblib\n",
        "\n",
        "# Save tokenizer\n",
        "joblib.dump(tokenizer, \"tokenizer.pkl\")\n",
        "\n",
        "# Save model\n",
        "model.save(\"spam_lstm_model.h5\")\n"
      ],
      "metadata": {
        "id": "P4-sNCNyBWYN",
        "colab": {
          "base_uri": "https://localhost:8080/"
        },
        "outputId": "89b0d100-acf6-4d54-c774-3a90970f33b5"
      },
      "execution_count": 44,
      "outputs": [
        {
          "output_type": "stream",
          "name": "stderr",
          "text": [
            "WARNING:absl:You are saving your model as an HDF5 file via `model.save()` or `keras.saving.save_model(model)`. This file format is considered legacy. We recommend using instead the native Keras format, e.g. `model.save('my_model.keras')` or `keras.saving.save_model(model, 'my_model.keras')`. \n"
          ]
        }
      ]
    },
    {
      "cell_type": "code",
      "source": [],
      "metadata": {
        "id": "sKrXNiJ2BWfK"
      },
      "execution_count": null,
      "outputs": []
    }
  ]
}